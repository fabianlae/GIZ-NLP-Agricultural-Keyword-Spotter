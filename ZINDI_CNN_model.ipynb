{
  "nbformat": 4,
  "nbformat_minor": 0,
  "metadata": {
    "colab": {
      "name": "ZINDI_CNN.ipynb",
      "provenance": [],
      "collapsed_sections": [
        "Naua4xCk6iEs",
        "CoLTR_9T6mRu",
        "fX2dGEv56xu8",
        "GWODTz7K6t2a",
        "J_orKufY65bA",
        "2zI1hGTTJh81",
        "31yTwG8H75uN",
        "FGzG8T77c4Wj",
        "Gr9uyEUoIAX9",
        "vkOQBQsKqkRT"
      ],
      "toc_visible": true
    },
    "kernelspec": {
      "name": "python3",
      "display_name": "Python 3"
    },
    "accelerator": "GPU",
    "widgets": {
      "application/vnd.jupyter.widget-state+json": {
        "92331f7d3d6c48259312f71b4173bd6f": {
          "model_module": "@jupyter-widgets/controls",
          "model_name": "HBoxModel",
          "state": {
            "_view_name": "HBoxView",
            "_dom_classes": [],
            "_model_name": "HBoxModel",
            "_view_module": "@jupyter-widgets/controls",
            "_model_module_version": "1.5.0",
            "_view_count": null,
            "_view_module_version": "1.5.0",
            "box_style": "",
            "layout": "IPY_MODEL_3deb1694a18f4e79a7533a01c0aa9f43",
            "_model_module": "@jupyter-widgets/controls",
            "children": [
              "IPY_MODEL_afc6efd808a84ef7aaf293881a02d43c",
              "IPY_MODEL_a15244a08b4a4a419b86392d910e5e0e"
            ]
          }
        },
        "3deb1694a18f4e79a7533a01c0aa9f43": {
          "model_module": "@jupyter-widgets/base",
          "model_name": "LayoutModel",
          "state": {
            "_view_name": "LayoutView",
            "grid_template_rows": null,
            "right": null,
            "justify_content": null,
            "_view_module": "@jupyter-widgets/base",
            "overflow": null,
            "_model_module_version": "1.2.0",
            "_view_count": null,
            "flex_flow": null,
            "width": null,
            "min_width": null,
            "border": null,
            "align_items": null,
            "bottom": null,
            "_model_module": "@jupyter-widgets/base",
            "top": null,
            "grid_column": null,
            "overflow_y": null,
            "overflow_x": null,
            "grid_auto_flow": null,
            "grid_area": null,
            "grid_template_columns": null,
            "flex": null,
            "_model_name": "LayoutModel",
            "justify_items": null,
            "grid_row": null,
            "max_height": null,
            "align_content": null,
            "visibility": null,
            "align_self": null,
            "height": null,
            "min_height": null,
            "padding": null,
            "grid_auto_rows": null,
            "grid_gap": null,
            "max_width": null,
            "order": null,
            "_view_module_version": "1.2.0",
            "grid_template_areas": null,
            "object_position": null,
            "object_fit": null,
            "grid_auto_columns": null,
            "margin": null,
            "display": null,
            "left": null
          }
        },
        "afc6efd808a84ef7aaf293881a02d43c": {
          "model_module": "@jupyter-widgets/controls",
          "model_name": "FloatProgressModel",
          "state": {
            "_view_name": "ProgressView",
            "style": "IPY_MODEL_2f56836318d24bf88fce4e1034c07fe3",
            "_dom_classes": [],
            "description": "100%",
            "_model_name": "FloatProgressModel",
            "bar_style": "success",
            "max": 4709,
            "_view_module": "@jupyter-widgets/controls",
            "_model_module_version": "1.5.0",
            "value": 4709,
            "_view_count": null,
            "_view_module_version": "1.5.0",
            "orientation": "horizontal",
            "min": 0,
            "description_tooltip": null,
            "_model_module": "@jupyter-widgets/controls",
            "layout": "IPY_MODEL_2af746e61c3340efbd0744cf2f94c8ec"
          }
        },
        "a15244a08b4a4a419b86392d910e5e0e": {
          "model_module": "@jupyter-widgets/controls",
          "model_name": "HTMLModel",
          "state": {
            "_view_name": "HTMLView",
            "style": "IPY_MODEL_93fa7da53bfd47baa989a87b73a53e7a",
            "_dom_classes": [],
            "description": "",
            "_model_name": "HTMLModel",
            "placeholder": "​",
            "_view_module": "@jupyter-widgets/controls",
            "_model_module_version": "1.5.0",
            "value": " 4709/4709 [2:26:31&lt;00:00,  1.87s/it]",
            "_view_count": null,
            "_view_module_version": "1.5.0",
            "description_tooltip": null,
            "_model_module": "@jupyter-widgets/controls",
            "layout": "IPY_MODEL_abe02960637f4a90ba4cbffbfc7c75cd"
          }
        },
        "2f56836318d24bf88fce4e1034c07fe3": {
          "model_module": "@jupyter-widgets/controls",
          "model_name": "ProgressStyleModel",
          "state": {
            "_view_name": "StyleView",
            "_model_name": "ProgressStyleModel",
            "description_width": "initial",
            "_view_module": "@jupyter-widgets/base",
            "_model_module_version": "1.5.0",
            "_view_count": null,
            "_view_module_version": "1.2.0",
            "bar_color": null,
            "_model_module": "@jupyter-widgets/controls"
          }
        },
        "2af746e61c3340efbd0744cf2f94c8ec": {
          "model_module": "@jupyter-widgets/base",
          "model_name": "LayoutModel",
          "state": {
            "_view_name": "LayoutView",
            "grid_template_rows": null,
            "right": null,
            "justify_content": null,
            "_view_module": "@jupyter-widgets/base",
            "overflow": null,
            "_model_module_version": "1.2.0",
            "_view_count": null,
            "flex_flow": null,
            "width": null,
            "min_width": null,
            "border": null,
            "align_items": null,
            "bottom": null,
            "_model_module": "@jupyter-widgets/base",
            "top": null,
            "grid_column": null,
            "overflow_y": null,
            "overflow_x": null,
            "grid_auto_flow": null,
            "grid_area": null,
            "grid_template_columns": null,
            "flex": null,
            "_model_name": "LayoutModel",
            "justify_items": null,
            "grid_row": null,
            "max_height": null,
            "align_content": null,
            "visibility": null,
            "align_self": null,
            "height": null,
            "min_height": null,
            "padding": null,
            "grid_auto_rows": null,
            "grid_gap": null,
            "max_width": null,
            "order": null,
            "_view_module_version": "1.2.0",
            "grid_template_areas": null,
            "object_position": null,
            "object_fit": null,
            "grid_auto_columns": null,
            "margin": null,
            "display": null,
            "left": null
          }
        },
        "93fa7da53bfd47baa989a87b73a53e7a": {
          "model_module": "@jupyter-widgets/controls",
          "model_name": "DescriptionStyleModel",
          "state": {
            "_view_name": "StyleView",
            "_model_name": "DescriptionStyleModel",
            "description_width": "",
            "_view_module": "@jupyter-widgets/base",
            "_model_module_version": "1.5.0",
            "_view_count": null,
            "_view_module_version": "1.2.0",
            "_model_module": "@jupyter-widgets/controls"
          }
        },
        "abe02960637f4a90ba4cbffbfc7c75cd": {
          "model_module": "@jupyter-widgets/base",
          "model_name": "LayoutModel",
          "state": {
            "_view_name": "LayoutView",
            "grid_template_rows": null,
            "right": null,
            "justify_content": null,
            "_view_module": "@jupyter-widgets/base",
            "overflow": null,
            "_model_module_version": "1.2.0",
            "_view_count": null,
            "flex_flow": null,
            "width": null,
            "min_width": null,
            "border": null,
            "align_items": null,
            "bottom": null,
            "_model_module": "@jupyter-widgets/base",
            "top": null,
            "grid_column": null,
            "overflow_y": null,
            "overflow_x": null,
            "grid_auto_flow": null,
            "grid_area": null,
            "grid_template_columns": null,
            "flex": null,
            "_model_name": "LayoutModel",
            "justify_items": null,
            "grid_row": null,
            "max_height": null,
            "align_content": null,
            "visibility": null,
            "align_self": null,
            "height": null,
            "min_height": null,
            "padding": null,
            "grid_auto_rows": null,
            "grid_gap": null,
            "max_width": null,
            "order": null,
            "_view_module_version": "1.2.0",
            "grid_template_areas": null,
            "object_position": null,
            "object_fit": null,
            "grid_auto_columns": null,
            "margin": null,
            "display": null,
            "left": null
          }
        },
        "1424d0e67d5847ab9c25832a7fe11f6b": {
          "model_module": "@jupyter-widgets/controls",
          "model_name": "HBoxModel",
          "state": {
            "_view_name": "HBoxView",
            "_dom_classes": [],
            "_model_name": "HBoxModel",
            "_view_module": "@jupyter-widgets/controls",
            "_model_module_version": "1.5.0",
            "_view_count": null,
            "_view_module_version": "1.5.0",
            "box_style": "",
            "layout": "IPY_MODEL_d86d6e8d07134acf9f6b92ed67df99e2",
            "_model_module": "@jupyter-widgets/controls",
            "children": [
              "IPY_MODEL_35a882aeac4e4cf3a6dbad0603e9e556",
              "IPY_MODEL_3289c39bdaee4629aba9d9c2ec4c9fb0"
            ]
          }
        },
        "d86d6e8d07134acf9f6b92ed67df99e2": {
          "model_module": "@jupyter-widgets/base",
          "model_name": "LayoutModel",
          "state": {
            "_view_name": "LayoutView",
            "grid_template_rows": null,
            "right": null,
            "justify_content": null,
            "_view_module": "@jupyter-widgets/base",
            "overflow": null,
            "_model_module_version": "1.2.0",
            "_view_count": null,
            "flex_flow": null,
            "width": null,
            "min_width": null,
            "border": null,
            "align_items": null,
            "bottom": null,
            "_model_module": "@jupyter-widgets/base",
            "top": null,
            "grid_column": null,
            "overflow_y": null,
            "overflow_x": null,
            "grid_auto_flow": null,
            "grid_area": null,
            "grid_template_columns": null,
            "flex": null,
            "_model_name": "LayoutModel",
            "justify_items": null,
            "grid_row": null,
            "max_height": null,
            "align_content": null,
            "visibility": null,
            "align_self": null,
            "height": null,
            "min_height": null,
            "padding": null,
            "grid_auto_rows": null,
            "grid_gap": null,
            "max_width": null,
            "order": null,
            "_view_module_version": "1.2.0",
            "grid_template_areas": null,
            "object_position": null,
            "object_fit": null,
            "grid_auto_columns": null,
            "margin": null,
            "display": null,
            "left": null
          }
        },
        "35a882aeac4e4cf3a6dbad0603e9e556": {
          "model_module": "@jupyter-widgets/controls",
          "model_name": "FloatProgressModel",
          "state": {
            "_view_name": "ProgressView",
            "style": "IPY_MODEL_94a0be2db7dd4c1cbf734c58bc81ff8c",
            "_dom_classes": [],
            "description": "100%",
            "_model_name": "FloatProgressModel",
            "bar_style": "success",
            "max": 42,
            "_view_module": "@jupyter-widgets/controls",
            "_model_module_version": "1.5.0",
            "value": 42,
            "_view_count": null,
            "_view_module_version": "1.5.0",
            "orientation": "horizontal",
            "min": 0,
            "description_tooltip": null,
            "_model_module": "@jupyter-widgets/controls",
            "layout": "IPY_MODEL_29b32ac1d28246cca172bce3804d808e"
          }
        },
        "3289c39bdaee4629aba9d9c2ec4c9fb0": {
          "model_module": "@jupyter-widgets/controls",
          "model_name": "HTMLModel",
          "state": {
            "_view_name": "HTMLView",
            "style": "IPY_MODEL_d3a9f8d320f148698a0b499931060daf",
            "_dom_classes": [],
            "description": "",
            "_model_name": "HTMLModel",
            "placeholder": "​",
            "_view_module": "@jupyter-widgets/controls",
            "_model_module_version": "1.5.0",
            "value": " 42/42 [00:36&lt;00:00,  1.15it/s]",
            "_view_count": null,
            "_view_module_version": "1.5.0",
            "description_tooltip": null,
            "_model_module": "@jupyter-widgets/controls",
            "layout": "IPY_MODEL_744b2de861344e0f8cb6cace7ac0ffbe"
          }
        },
        "94a0be2db7dd4c1cbf734c58bc81ff8c": {
          "model_module": "@jupyter-widgets/controls",
          "model_name": "ProgressStyleModel",
          "state": {
            "_view_name": "StyleView",
            "_model_name": "ProgressStyleModel",
            "description_width": "initial",
            "_view_module": "@jupyter-widgets/base",
            "_model_module_version": "1.5.0",
            "_view_count": null,
            "_view_module_version": "1.2.0",
            "bar_color": null,
            "_model_module": "@jupyter-widgets/controls"
          }
        },
        "29b32ac1d28246cca172bce3804d808e": {
          "model_module": "@jupyter-widgets/base",
          "model_name": "LayoutModel",
          "state": {
            "_view_name": "LayoutView",
            "grid_template_rows": null,
            "right": null,
            "justify_content": null,
            "_view_module": "@jupyter-widgets/base",
            "overflow": null,
            "_model_module_version": "1.2.0",
            "_view_count": null,
            "flex_flow": null,
            "width": null,
            "min_width": null,
            "border": null,
            "align_items": null,
            "bottom": null,
            "_model_module": "@jupyter-widgets/base",
            "top": null,
            "grid_column": null,
            "overflow_y": null,
            "overflow_x": null,
            "grid_auto_flow": null,
            "grid_area": null,
            "grid_template_columns": null,
            "flex": null,
            "_model_name": "LayoutModel",
            "justify_items": null,
            "grid_row": null,
            "max_height": null,
            "align_content": null,
            "visibility": null,
            "align_self": null,
            "height": null,
            "min_height": null,
            "padding": null,
            "grid_auto_rows": null,
            "grid_gap": null,
            "max_width": null,
            "order": null,
            "_view_module_version": "1.2.0",
            "grid_template_areas": null,
            "object_position": null,
            "object_fit": null,
            "grid_auto_columns": null,
            "margin": null,
            "display": null,
            "left": null
          }
        },
        "d3a9f8d320f148698a0b499931060daf": {
          "model_module": "@jupyter-widgets/controls",
          "model_name": "DescriptionStyleModel",
          "state": {
            "_view_name": "StyleView",
            "_model_name": "DescriptionStyleModel",
            "description_width": "",
            "_view_module": "@jupyter-widgets/base",
            "_model_module_version": "1.5.0",
            "_view_count": null,
            "_view_module_version": "1.2.0",
            "_model_module": "@jupyter-widgets/controls"
          }
        },
        "744b2de861344e0f8cb6cace7ac0ffbe": {
          "model_module": "@jupyter-widgets/base",
          "model_name": "LayoutModel",
          "state": {
            "_view_name": "LayoutView",
            "grid_template_rows": null,
            "right": null,
            "justify_content": null,
            "_view_module": "@jupyter-widgets/base",
            "overflow": null,
            "_model_module_version": "1.2.0",
            "_view_count": null,
            "flex_flow": null,
            "width": null,
            "min_width": null,
            "border": null,
            "align_items": null,
            "bottom": null,
            "_model_module": "@jupyter-widgets/base",
            "top": null,
            "grid_column": null,
            "overflow_y": null,
            "overflow_x": null,
            "grid_auto_flow": null,
            "grid_area": null,
            "grid_template_columns": null,
            "flex": null,
            "_model_name": "LayoutModel",
            "justify_items": null,
            "grid_row": null,
            "max_height": null,
            "align_content": null,
            "visibility": null,
            "align_self": null,
            "height": null,
            "min_height": null,
            "padding": null,
            "grid_auto_rows": null,
            "grid_gap": null,
            "max_width": null,
            "order": null,
            "_view_module_version": "1.2.0",
            "grid_template_areas": null,
            "object_position": null,
            "object_fit": null,
            "grid_auto_columns": null,
            "margin": null,
            "display": null,
            "left": null
          }
        },
        "f12578a75e3948adbf5606a851c1675f": {
          "model_module": "@jupyter-widgets/controls",
          "model_name": "HBoxModel",
          "state": {
            "_view_name": "HBoxView",
            "_dom_classes": [],
            "_model_name": "HBoxModel",
            "_view_module": "@jupyter-widgets/controls",
            "_model_module_version": "1.5.0",
            "_view_count": null,
            "_view_module_version": "1.5.0",
            "box_style": "",
            "layout": "IPY_MODEL_beb3b001dba747358fefabdb4e419bcf",
            "_model_module": "@jupyter-widgets/controls",
            "children": [
              "IPY_MODEL_7ee77fa722be431a8bbd4b2f8ae982b6",
              "IPY_MODEL_ee9ee1d0fb904ba398f8babe21a2374f"
            ]
          }
        },
        "beb3b001dba747358fefabdb4e419bcf": {
          "model_module": "@jupyter-widgets/base",
          "model_name": "LayoutModel",
          "state": {
            "_view_name": "LayoutView",
            "grid_template_rows": null,
            "right": null,
            "justify_content": null,
            "_view_module": "@jupyter-widgets/base",
            "overflow": null,
            "_model_module_version": "1.2.0",
            "_view_count": null,
            "flex_flow": null,
            "width": null,
            "min_width": null,
            "border": null,
            "align_items": null,
            "bottom": null,
            "_model_module": "@jupyter-widgets/base",
            "top": null,
            "grid_column": null,
            "overflow_y": null,
            "overflow_x": null,
            "grid_auto_flow": null,
            "grid_area": null,
            "grid_template_columns": null,
            "flex": null,
            "_model_name": "LayoutModel",
            "justify_items": null,
            "grid_row": null,
            "max_height": null,
            "align_content": null,
            "visibility": null,
            "align_self": null,
            "height": null,
            "min_height": null,
            "padding": null,
            "grid_auto_rows": null,
            "grid_gap": null,
            "max_width": null,
            "order": null,
            "_view_module_version": "1.2.0",
            "grid_template_areas": null,
            "object_position": null,
            "object_fit": null,
            "grid_auto_columns": null,
            "margin": null,
            "display": null,
            "left": null
          }
        },
        "7ee77fa722be431a8bbd4b2f8ae982b6": {
          "model_module": "@jupyter-widgets/controls",
          "model_name": "FloatProgressModel",
          "state": {
            "_view_name": "ProgressView",
            "style": "IPY_MODEL_7e694c0b31f7481a931e4766a041b94d",
            "_dom_classes": [],
            "description": "100%",
            "_model_name": "FloatProgressModel",
            "bar_style": "success",
            "max": 4709,
            "_view_module": "@jupyter-widgets/controls",
            "_model_module_version": "1.5.0",
            "value": 4709,
            "_view_count": null,
            "_view_module_version": "1.5.0",
            "orientation": "horizontal",
            "min": 0,
            "description_tooltip": null,
            "_model_module": "@jupyter-widgets/controls",
            "layout": "IPY_MODEL_b5eb307d6fd749ceb1821d5b7828d382"
          }
        },
        "ee9ee1d0fb904ba398f8babe21a2374f": {
          "model_module": "@jupyter-widgets/controls",
          "model_name": "HTMLModel",
          "state": {
            "_view_name": "HTMLView",
            "style": "IPY_MODEL_9794369376a24018b8359ef85e3fb948",
            "_dom_classes": [],
            "description": "",
            "_model_name": "HTMLModel",
            "placeholder": "​",
            "_view_module": "@jupyter-widgets/controls",
            "_model_module_version": "1.5.0",
            "value": " 4709/4709 [27:01&lt;00:00,  2.90it/s]",
            "_view_count": null,
            "_view_module_version": "1.5.0",
            "description_tooltip": null,
            "_model_module": "@jupyter-widgets/controls",
            "layout": "IPY_MODEL_bd817361243643eb8764932226badaf0"
          }
        },
        "7e694c0b31f7481a931e4766a041b94d": {
          "model_module": "@jupyter-widgets/controls",
          "model_name": "ProgressStyleModel",
          "state": {
            "_view_name": "StyleView",
            "_model_name": "ProgressStyleModel",
            "description_width": "initial",
            "_view_module": "@jupyter-widgets/base",
            "_model_module_version": "1.5.0",
            "_view_count": null,
            "_view_module_version": "1.2.0",
            "bar_color": null,
            "_model_module": "@jupyter-widgets/controls"
          }
        },
        "b5eb307d6fd749ceb1821d5b7828d382": {
          "model_module": "@jupyter-widgets/base",
          "model_name": "LayoutModel",
          "state": {
            "_view_name": "LayoutView",
            "grid_template_rows": null,
            "right": null,
            "justify_content": null,
            "_view_module": "@jupyter-widgets/base",
            "overflow": null,
            "_model_module_version": "1.2.0",
            "_view_count": null,
            "flex_flow": null,
            "width": null,
            "min_width": null,
            "border": null,
            "align_items": null,
            "bottom": null,
            "_model_module": "@jupyter-widgets/base",
            "top": null,
            "grid_column": null,
            "overflow_y": null,
            "overflow_x": null,
            "grid_auto_flow": null,
            "grid_area": null,
            "grid_template_columns": null,
            "flex": null,
            "_model_name": "LayoutModel",
            "justify_items": null,
            "grid_row": null,
            "max_height": null,
            "align_content": null,
            "visibility": null,
            "align_self": null,
            "height": null,
            "min_height": null,
            "padding": null,
            "grid_auto_rows": null,
            "grid_gap": null,
            "max_width": null,
            "order": null,
            "_view_module_version": "1.2.0",
            "grid_template_areas": null,
            "object_position": null,
            "object_fit": null,
            "grid_auto_columns": null,
            "margin": null,
            "display": null,
            "left": null
          }
        },
        "9794369376a24018b8359ef85e3fb948": {
          "model_module": "@jupyter-widgets/controls",
          "model_name": "DescriptionStyleModel",
          "state": {
            "_view_name": "StyleView",
            "_model_name": "DescriptionStyleModel",
            "description_width": "",
            "_view_module": "@jupyter-widgets/base",
            "_model_module_version": "1.5.0",
            "_view_count": null,
            "_view_module_version": "1.2.0",
            "_model_module": "@jupyter-widgets/controls"
          }
        },
        "bd817361243643eb8764932226badaf0": {
          "model_module": "@jupyter-widgets/base",
          "model_name": "LayoutModel",
          "state": {
            "_view_name": "LayoutView",
            "grid_template_rows": null,
            "right": null,
            "justify_content": null,
            "_view_module": "@jupyter-widgets/base",
            "overflow": null,
            "_model_module_version": "1.2.0",
            "_view_count": null,
            "flex_flow": null,
            "width": null,
            "min_width": null,
            "border": null,
            "align_items": null,
            "bottom": null,
            "_model_module": "@jupyter-widgets/base",
            "top": null,
            "grid_column": null,
            "overflow_y": null,
            "overflow_x": null,
            "grid_auto_flow": null,
            "grid_area": null,
            "grid_template_columns": null,
            "flex": null,
            "_model_name": "LayoutModel",
            "justify_items": null,
            "grid_row": null,
            "max_height": null,
            "align_content": null,
            "visibility": null,
            "align_self": null,
            "height": null,
            "min_height": null,
            "padding": null,
            "grid_auto_rows": null,
            "grid_gap": null,
            "max_width": null,
            "order": null,
            "_view_module_version": "1.2.0",
            "grid_template_areas": null,
            "object_position": null,
            "object_fit": null,
            "grid_auto_columns": null,
            "margin": null,
            "display": null,
            "left": null
          }
        },
        "909620d8665b4252acaa9658747c7d8c": {
          "model_module": "@jupyter-widgets/controls",
          "model_name": "HBoxModel",
          "state": {
            "_view_name": "HBoxView",
            "_dom_classes": [],
            "_model_name": "HBoxModel",
            "_view_module": "@jupyter-widgets/controls",
            "_model_module_version": "1.5.0",
            "_view_count": null,
            "_view_module_version": "1.5.0",
            "box_style": "",
            "layout": "IPY_MODEL_c304ab515cce4c9f815db2eb4a0be8a6",
            "_model_module": "@jupyter-widgets/controls",
            "children": [
              "IPY_MODEL_deba86aa9f864c5b9f235f144e813a11",
              "IPY_MODEL_ab825e3a5b8140b09d2f20627c05dd4f"
            ]
          }
        },
        "c304ab515cce4c9f815db2eb4a0be8a6": {
          "model_module": "@jupyter-widgets/base",
          "model_name": "LayoutModel",
          "state": {
            "_view_name": "LayoutView",
            "grid_template_rows": null,
            "right": null,
            "justify_content": null,
            "_view_module": "@jupyter-widgets/base",
            "overflow": null,
            "_model_module_version": "1.2.0",
            "_view_count": null,
            "flex_flow": null,
            "width": null,
            "min_width": null,
            "border": null,
            "align_items": null,
            "bottom": null,
            "_model_module": "@jupyter-widgets/base",
            "top": null,
            "grid_column": null,
            "overflow_y": null,
            "overflow_x": null,
            "grid_auto_flow": null,
            "grid_area": null,
            "grid_template_columns": null,
            "flex": null,
            "_model_name": "LayoutModel",
            "justify_items": null,
            "grid_row": null,
            "max_height": null,
            "align_content": null,
            "visibility": null,
            "align_self": null,
            "height": null,
            "min_height": null,
            "padding": null,
            "grid_auto_rows": null,
            "grid_gap": null,
            "max_width": null,
            "order": null,
            "_view_module_version": "1.2.0",
            "grid_template_areas": null,
            "object_position": null,
            "object_fit": null,
            "grid_auto_columns": null,
            "margin": null,
            "display": null,
            "left": null
          }
        },
        "deba86aa9f864c5b9f235f144e813a11": {
          "model_module": "@jupyter-widgets/controls",
          "model_name": "FloatProgressModel",
          "state": {
            "_view_name": "ProgressView",
            "style": "IPY_MODEL_1be3955c812245da8b659251b24fd24c",
            "_dom_classes": [],
            "description": "100%",
            "_model_name": "FloatProgressModel",
            "bar_style": "success",
            "max": 1017,
            "_view_module": "@jupyter-widgets/controls",
            "_model_module_version": "1.5.0",
            "value": 1017,
            "_view_count": null,
            "_view_module_version": "1.5.0",
            "orientation": "horizontal",
            "min": 0,
            "description_tooltip": null,
            "_model_module": "@jupyter-widgets/controls",
            "layout": "IPY_MODEL_72d3bb84d7de4828977aea519a6a428b"
          }
        },
        "ab825e3a5b8140b09d2f20627c05dd4f": {
          "model_module": "@jupyter-widgets/controls",
          "model_name": "HTMLModel",
          "state": {
            "_view_name": "HTMLView",
            "style": "IPY_MODEL_98422a3dd0024a9897c90d234c10c170",
            "_dom_classes": [],
            "description": "",
            "_model_name": "HTMLModel",
            "placeholder": "​",
            "_view_module": "@jupyter-widgets/controls",
            "_model_module_version": "1.5.0",
            "value": " 1017/1017 [03:40&lt;00:00,  4.61it/s]",
            "_view_count": null,
            "_view_module_version": "1.5.0",
            "description_tooltip": null,
            "_model_module": "@jupyter-widgets/controls",
            "layout": "IPY_MODEL_022202d1ba174172aa52bd2d031ca0cd"
          }
        },
        "1be3955c812245da8b659251b24fd24c": {
          "model_module": "@jupyter-widgets/controls",
          "model_name": "ProgressStyleModel",
          "state": {
            "_view_name": "StyleView",
            "_model_name": "ProgressStyleModel",
            "description_width": "initial",
            "_view_module": "@jupyter-widgets/base",
            "_model_module_version": "1.5.0",
            "_view_count": null,
            "_view_module_version": "1.2.0",
            "bar_color": null,
            "_model_module": "@jupyter-widgets/controls"
          }
        },
        "72d3bb84d7de4828977aea519a6a428b": {
          "model_module": "@jupyter-widgets/base",
          "model_name": "LayoutModel",
          "state": {
            "_view_name": "LayoutView",
            "grid_template_rows": null,
            "right": null,
            "justify_content": null,
            "_view_module": "@jupyter-widgets/base",
            "overflow": null,
            "_model_module_version": "1.2.0",
            "_view_count": null,
            "flex_flow": null,
            "width": null,
            "min_width": null,
            "border": null,
            "align_items": null,
            "bottom": null,
            "_model_module": "@jupyter-widgets/base",
            "top": null,
            "grid_column": null,
            "overflow_y": null,
            "overflow_x": null,
            "grid_auto_flow": null,
            "grid_area": null,
            "grid_template_columns": null,
            "flex": null,
            "_model_name": "LayoutModel",
            "justify_items": null,
            "grid_row": null,
            "max_height": null,
            "align_content": null,
            "visibility": null,
            "align_self": null,
            "height": null,
            "min_height": null,
            "padding": null,
            "grid_auto_rows": null,
            "grid_gap": null,
            "max_width": null,
            "order": null,
            "_view_module_version": "1.2.0",
            "grid_template_areas": null,
            "object_position": null,
            "object_fit": null,
            "grid_auto_columns": null,
            "margin": null,
            "display": null,
            "left": null
          }
        },
        "98422a3dd0024a9897c90d234c10c170": {
          "model_module": "@jupyter-widgets/controls",
          "model_name": "DescriptionStyleModel",
          "state": {
            "_view_name": "StyleView",
            "_model_name": "DescriptionStyleModel",
            "description_width": "",
            "_view_module": "@jupyter-widgets/base",
            "_model_module_version": "1.5.0",
            "_view_count": null,
            "_view_module_version": "1.2.0",
            "_model_module": "@jupyter-widgets/controls"
          }
        },
        "022202d1ba174172aa52bd2d031ca0cd": {
          "model_module": "@jupyter-widgets/base",
          "model_name": "LayoutModel",
          "state": {
            "_view_name": "LayoutView",
            "grid_template_rows": null,
            "right": null,
            "justify_content": null,
            "_view_module": "@jupyter-widgets/base",
            "overflow": null,
            "_model_module_version": "1.2.0",
            "_view_count": null,
            "flex_flow": null,
            "width": null,
            "min_width": null,
            "border": null,
            "align_items": null,
            "bottom": null,
            "_model_module": "@jupyter-widgets/base",
            "top": null,
            "grid_column": null,
            "overflow_y": null,
            "overflow_x": null,
            "grid_auto_flow": null,
            "grid_area": null,
            "grid_template_columns": null,
            "flex": null,
            "_model_name": "LayoutModel",
            "justify_items": null,
            "grid_row": null,
            "max_height": null,
            "align_content": null,
            "visibility": null,
            "align_self": null,
            "height": null,
            "min_height": null,
            "padding": null,
            "grid_auto_rows": null,
            "grid_gap": null,
            "max_width": null,
            "order": null,
            "_view_module_version": "1.2.0",
            "grid_template_areas": null,
            "object_position": null,
            "object_fit": null,
            "grid_auto_columns": null,
            "margin": null,
            "display": null,
            "left": null
          }
        },
        "87d4ee422dcc45a281dfc7d76b82243c": {
          "model_module": "@jupyter-widgets/controls",
          "model_name": "HBoxModel",
          "state": {
            "_view_name": "HBoxView",
            "_dom_classes": [],
            "_model_name": "HBoxModel",
            "_view_module": "@jupyter-widgets/controls",
            "_model_module_version": "1.5.0",
            "_view_count": null,
            "_view_module_version": "1.5.0",
            "box_style": "",
            "layout": "IPY_MODEL_5e0cc0788d2d4d9eb4e60890e7d193fd",
            "_model_module": "@jupyter-widgets/controls",
            "children": [
              "IPY_MODEL_e53dc954bae149a5bc48e709fd9af704",
              "IPY_MODEL_220bb20abf7146e28af00a569a6793c8"
            ]
          }
        },
        "5e0cc0788d2d4d9eb4e60890e7d193fd": {
          "model_module": "@jupyter-widgets/base",
          "model_name": "LayoutModel",
          "state": {
            "_view_name": "LayoutView",
            "grid_template_rows": null,
            "right": null,
            "justify_content": null,
            "_view_module": "@jupyter-widgets/base",
            "overflow": null,
            "_model_module_version": "1.2.0",
            "_view_count": null,
            "flex_flow": null,
            "width": null,
            "min_width": null,
            "border": null,
            "align_items": null,
            "bottom": null,
            "_model_module": "@jupyter-widgets/base",
            "top": null,
            "grid_column": null,
            "overflow_y": null,
            "overflow_x": null,
            "grid_auto_flow": null,
            "grid_area": null,
            "grid_template_columns": null,
            "flex": null,
            "_model_name": "LayoutModel",
            "justify_items": null,
            "grid_row": null,
            "max_height": null,
            "align_content": null,
            "visibility": null,
            "align_self": null,
            "height": null,
            "min_height": null,
            "padding": null,
            "grid_auto_rows": null,
            "grid_gap": null,
            "max_width": null,
            "order": null,
            "_view_module_version": "1.2.0",
            "grid_template_areas": null,
            "object_position": null,
            "object_fit": null,
            "grid_auto_columns": null,
            "margin": null,
            "display": null,
            "left": null
          }
        },
        "e53dc954bae149a5bc48e709fd9af704": {
          "model_module": "@jupyter-widgets/controls",
          "model_name": "FloatProgressModel",
          "state": {
            "_view_name": "ProgressView",
            "style": "IPY_MODEL_0986290381df41889af02d4dfb303255",
            "_dom_classes": [],
            "description": "100%",
            "_model_name": "FloatProgressModel",
            "bar_style": "success",
            "max": 1017,
            "_view_module": "@jupyter-widgets/controls",
            "_model_module_version": "1.5.0",
            "value": 1017,
            "_view_count": null,
            "_view_module_version": "1.5.0",
            "orientation": "horizontal",
            "min": 0,
            "description_tooltip": null,
            "_model_module": "@jupyter-widgets/controls",
            "layout": "IPY_MODEL_75d5a76190384f5aa3d08fce33a7f7f1"
          }
        },
        "220bb20abf7146e28af00a569a6793c8": {
          "model_module": "@jupyter-widgets/controls",
          "model_name": "HTMLModel",
          "state": {
            "_view_name": "HTMLView",
            "style": "IPY_MODEL_1cf4e53980804fb895b105ae26441692",
            "_dom_classes": [],
            "description": "",
            "_model_name": "HTMLModel",
            "placeholder": "​",
            "_view_module": "@jupyter-widgets/controls",
            "_model_module_version": "1.5.0",
            "value": " 1017/1017 [02:27&lt;00:00,  6.89it/s]",
            "_view_count": null,
            "_view_module_version": "1.5.0",
            "description_tooltip": null,
            "_model_module": "@jupyter-widgets/controls",
            "layout": "IPY_MODEL_7a39e19dd05440708d4911a9324f3f30"
          }
        },
        "0986290381df41889af02d4dfb303255": {
          "model_module": "@jupyter-widgets/controls",
          "model_name": "ProgressStyleModel",
          "state": {
            "_view_name": "StyleView",
            "_model_name": "ProgressStyleModel",
            "description_width": "initial",
            "_view_module": "@jupyter-widgets/base",
            "_model_module_version": "1.5.0",
            "_view_count": null,
            "_view_module_version": "1.2.0",
            "bar_color": null,
            "_model_module": "@jupyter-widgets/controls"
          }
        },
        "75d5a76190384f5aa3d08fce33a7f7f1": {
          "model_module": "@jupyter-widgets/base",
          "model_name": "LayoutModel",
          "state": {
            "_view_name": "LayoutView",
            "grid_template_rows": null,
            "right": null,
            "justify_content": null,
            "_view_module": "@jupyter-widgets/base",
            "overflow": null,
            "_model_module_version": "1.2.0",
            "_view_count": null,
            "flex_flow": null,
            "width": null,
            "min_width": null,
            "border": null,
            "align_items": null,
            "bottom": null,
            "_model_module": "@jupyter-widgets/base",
            "top": null,
            "grid_column": null,
            "overflow_y": null,
            "overflow_x": null,
            "grid_auto_flow": null,
            "grid_area": null,
            "grid_template_columns": null,
            "flex": null,
            "_model_name": "LayoutModel",
            "justify_items": null,
            "grid_row": null,
            "max_height": null,
            "align_content": null,
            "visibility": null,
            "align_self": null,
            "height": null,
            "min_height": null,
            "padding": null,
            "grid_auto_rows": null,
            "grid_gap": null,
            "max_width": null,
            "order": null,
            "_view_module_version": "1.2.0",
            "grid_template_areas": null,
            "object_position": null,
            "object_fit": null,
            "grid_auto_columns": null,
            "margin": null,
            "display": null,
            "left": null
          }
        },
        "1cf4e53980804fb895b105ae26441692": {
          "model_module": "@jupyter-widgets/controls",
          "model_name": "DescriptionStyleModel",
          "state": {
            "_view_name": "StyleView",
            "_model_name": "DescriptionStyleModel",
            "description_width": "",
            "_view_module": "@jupyter-widgets/base",
            "_model_module_version": "1.5.0",
            "_view_count": null,
            "_view_module_version": "1.2.0",
            "_model_module": "@jupyter-widgets/controls"
          }
        },
        "7a39e19dd05440708d4911a9324f3f30": {
          "model_module": "@jupyter-widgets/base",
          "model_name": "LayoutModel",
          "state": {
            "_view_name": "LayoutView",
            "grid_template_rows": null,
            "right": null,
            "justify_content": null,
            "_view_module": "@jupyter-widgets/base",
            "overflow": null,
            "_model_module_version": "1.2.0",
            "_view_count": null,
            "flex_flow": null,
            "width": null,
            "min_width": null,
            "border": null,
            "align_items": null,
            "bottom": null,
            "_model_module": "@jupyter-widgets/base",
            "top": null,
            "grid_column": null,
            "overflow_y": null,
            "overflow_x": null,
            "grid_auto_flow": null,
            "grid_area": null,
            "grid_template_columns": null,
            "flex": null,
            "_model_name": "LayoutModel",
            "justify_items": null,
            "grid_row": null,
            "max_height": null,
            "align_content": null,
            "visibility": null,
            "align_self": null,
            "height": null,
            "min_height": null,
            "padding": null,
            "grid_auto_rows": null,
            "grid_gap": null,
            "max_width": null,
            "order": null,
            "_view_module_version": "1.2.0",
            "grid_template_areas": null,
            "object_position": null,
            "object_fit": null,
            "grid_auto_columns": null,
            "margin": null,
            "display": null,
            "left": null
          }
        }
      }
    }
  },
  "cells": [
    {
      "cell_type": "markdown",
      "metadata": {
        "id": "tJUuDZfzHrJK"
      },
      "source": [
        "# Initialization"
      ]
    },
    {
      "cell_type": "markdown",
      "metadata": {
        "id": "dIHrGl5PTFZw"
      },
      "source": [
        "## Package installation"
      ]
    },
    {
      "cell_type": "code",
      "metadata": {
        "id": "n8YS7EK2HD0t",
        "colab": {
          "base_uri": "https://localhost:8080/"
        },
        "outputId": "77bf554c-dc32-4c4c-f64c-ad2fc47bede0"
      },
      "source": [
        "# Mount drive\n",
        "from google.colab import drive\n",
        "drive.mount('/content/drive') #force_remount=True)"
      ],
      "execution_count": null,
      "outputs": [
        {
          "output_type": "stream",
          "text": [
            "Mounted at /content/drive\n"
          ],
          "name": "stdout"
        }
      ]
    },
    {
      "cell_type": "code",
      "metadata": {
        "colab": {
          "base_uri": "https://localhost:8080/"
        },
        "id": "yE1J5u0K8MAr",
        "outputId": "cc6dc23a-695f-4749-efa8-f3d8d8d300ca"
      },
      "source": [
        "!pip install python_speech_features"
      ],
      "execution_count": null,
      "outputs": [
        {
          "output_type": "stream",
          "text": [
            "Collecting python_speech_features\n",
            "  Downloading https://files.pythonhosted.org/packages/ff/d1/94c59e20a2631985fbd2124c45177abaa9e0a4eee8ba8a305aa26fc02a8e/python_speech_features-0.6.tar.gz\n",
            "Building wheels for collected packages: python-speech-features\n",
            "  Building wheel for python-speech-features (setup.py) ... \u001b[?25l\u001b[?25hdone\n",
            "  Created wheel for python-speech-features: filename=python_speech_features-0.6-cp36-none-any.whl size=5887 sha256=b41eff26088f4612af3d4bd7c44934666735179a65f9a804e5373287df97e914\n",
            "  Stored in directory: /root/.cache/pip/wheels/3c/42/7c/f60e9d1b40015cd69b213ad90f7c18a9264cd745b9888134be\n",
            "Successfully built python-speech-features\n",
            "Installing collected packages: python-speech-features\n",
            "Successfully installed python-speech-features-0.6\n"
          ],
          "name": "stdout"
        }
      ]
    },
    {
      "cell_type": "code",
      "metadata": {
        "colab": {
          "base_uri": "https://localhost:8080/"
        },
        "id": "mKsRmqvg8Qdz",
        "outputId": "0320a8ac-866a-4614-cc5c-44f84eef40a0"
      },
      "source": [
        "!pip install ffmpeg"
      ],
      "execution_count": null,
      "outputs": [
        {
          "output_type": "stream",
          "text": [
            "Collecting ffmpeg\n",
            "  Downloading https://files.pythonhosted.org/packages/f0/cc/3b7408b8ecf7c1d20ad480c3eaed7619857bf1054b690226e906fdf14258/ffmpeg-1.4.tar.gz\n",
            "Building wheels for collected packages: ffmpeg\n",
            "  Building wheel for ffmpeg (setup.py) ... \u001b[?25l\u001b[?25hdone\n",
            "  Created wheel for ffmpeg: filename=ffmpeg-1.4-cp36-none-any.whl size=6083 sha256=74a2fde65649650ce68fcbee4bb15d7fde87ad3b0a785a4eaa9d5712df9aae51\n",
            "  Stored in directory: /root/.cache/pip/wheels/b6/68/c3/a05a35f647ba871e5572b9bbfc0b95fd1c6637a2219f959e7a\n",
            "Successfully built ffmpeg\n",
            "Installing collected packages: ffmpeg\n",
            "Successfully installed ffmpeg-1.4\n"
          ],
          "name": "stdout"
        }
      ]
    },
    {
      "cell_type": "code",
      "metadata": {
        "colab": {
          "base_uri": "https://localhost:8080/"
        },
        "id": "6Bwr1DJ6v-UO",
        "outputId": "510299f6-8492-417a-f3cc-9c2cfb693993"
      },
      "source": [
        "!pip install nlpaug"
      ],
      "execution_count": null,
      "outputs": [
        {
          "output_type": "stream",
          "text": [
            "Collecting nlpaug\n",
            "\u001b[?25l  Downloading https://files.pythonhosted.org/packages/66/40/18941536abc63578010e87808089eb3184a8d027df03bfc226894698f491/nlpaug-1.1.0-py3-none-any.whl (380kB)\n",
            "\r\u001b[K     |▉                               | 10kB 18.5MB/s eta 0:00:01\r\u001b[K     |█▊                              | 20kB 17.9MB/s eta 0:00:01\r\u001b[K     |██▋                             | 30kB 15.3MB/s eta 0:00:01\r\u001b[K     |███▍                            | 40kB 13.9MB/s eta 0:00:01\r\u001b[K     |████▎                           | 51kB 11.5MB/s eta 0:00:01\r\u001b[K     |█████▏                          | 61kB 13.0MB/s eta 0:00:01\r\u001b[K     |██████                          | 71kB 11.2MB/s eta 0:00:01\r\u001b[K     |██████▉                         | 81kB 12.1MB/s eta 0:00:01\r\u001b[K     |███████▊                        | 92kB 11.4MB/s eta 0:00:01\r\u001b[K     |████████▋                       | 102kB 10.7MB/s eta 0:00:01\r\u001b[K     |█████████▌                      | 112kB 10.7MB/s eta 0:00:01\r\u001b[K     |██████████▎                     | 122kB 10.7MB/s eta 0:00:01\r\u001b[K     |███████████▏                    | 133kB 10.7MB/s eta 0:00:01\r\u001b[K     |████████████                    | 143kB 10.7MB/s eta 0:00:01\r\u001b[K     |█████████████                   | 153kB 10.7MB/s eta 0:00:01\r\u001b[K     |█████████████▊                  | 163kB 10.7MB/s eta 0:00:01\r\u001b[K     |██████████████▋                 | 174kB 10.7MB/s eta 0:00:01\r\u001b[K     |███████████████▌                | 184kB 10.7MB/s eta 0:00:01\r\u001b[K     |████████████████▍               | 194kB 10.7MB/s eta 0:00:01\r\u001b[K     |█████████████████▏              | 204kB 10.7MB/s eta 0:00:01\r\u001b[K     |██████████████████              | 215kB 10.7MB/s eta 0:00:01\r\u001b[K     |███████████████████             | 225kB 10.7MB/s eta 0:00:01\r\u001b[K     |███████████████████▉            | 235kB 10.7MB/s eta 0:00:01\r\u001b[K     |████████████████████▋           | 245kB 10.7MB/s eta 0:00:01\r\u001b[K     |█████████████████████▌          | 256kB 10.7MB/s eta 0:00:01\r\u001b[K     |██████████████████████▍         | 266kB 10.7MB/s eta 0:00:01\r\u001b[K     |███████████████████████▎        | 276kB 10.7MB/s eta 0:00:01\r\u001b[K     |████████████████████████        | 286kB 10.7MB/s eta 0:00:01\r\u001b[K     |█████████████████████████       | 296kB 10.7MB/s eta 0:00:01\r\u001b[K     |█████████████████████████▉      | 307kB 10.7MB/s eta 0:00:01\r\u001b[K     |██████████████████████████▊     | 317kB 10.7MB/s eta 0:00:01\r\u001b[K     |███████████████████████████▌    | 327kB 10.7MB/s eta 0:00:01\r\u001b[K     |████████████████████████████▍   | 337kB 10.7MB/s eta 0:00:01\r\u001b[K     |█████████████████████████████▎  | 348kB 10.7MB/s eta 0:00:01\r\u001b[K     |██████████████████████████████▏ | 358kB 10.7MB/s eta 0:00:01\r\u001b[K     |███████████████████████████████ | 368kB 10.7MB/s eta 0:00:01\r\u001b[K     |███████████████████████████████▉| 378kB 10.7MB/s eta 0:00:01\r\u001b[K     |████████████████████████████████| 389kB 10.7MB/s \n",
            "\u001b[?25hInstalling collected packages: nlpaug\n",
            "Successfully installed nlpaug-1.1.0\n"
          ],
          "name": "stdout"
        }
      ]
    },
    {
      "cell_type": "markdown",
      "metadata": {
        "id": "sPuzhvS-TKA_"
      },
      "source": [
        "## Library import and variable definition"
      ]
    },
    {
      "cell_type": "code",
      "metadata": {
        "id": "Ou8X5zImHn8R"
      },
      "source": [
        "# Import libraries\n",
        "import os\n",
        "from PIL import Image\n",
        "import numpy as np\n",
        "import pandas as pd\n",
        "import cv2\n",
        "import random\n",
        "import keras\n",
        "import tensorflow as tf\n",
        "import IPython.display as ipd\n",
        "import librosa\n",
        "import python_speech_features as psf\n",
        "from matplotlib import pyplot as plt\n",
        "from os import listdir\n",
        "from os.path import isfile, join\n",
        "import shutil\n",
        "from tqdm import tqdm\n",
        "\n",
        "import ffmpeg\n",
        "import nlpaug\n",
        "import nlpaug.augmenter.audio as naa\n",
        "from nlpaug.util.audio.visualizer import AudioVisualizer\n",
        "import librosa\n",
        "import librosa.display as librosa_display\n",
        "import scipy.io.wavfile as wavf\n",
        "\n",
        "\n",
        "from matplotlib import pyplot as plt\n",
        "from tensorflow.keras.preprocessing.image import img_to_array\n",
        "from tensorflow.keras.layers import Dense, Flatten, BatchNormalization, Conv2D, MaxPooling2D, Dropout\n",
        "from tensorflow.keras.models import load_model\n",
        "from tensorflow.keras.models import Sequential\n",
        "from sklearn.preprocessing import OneHotEncoder\n",
        "from tqdm.notebook import tqdm\n",
        "from sklearn.model_selection import train_test_split\n",
        "from keras.callbacks import ModelCheckpoint\n",
        "from keras.models import load_model\n",
        "\n",
        "\n",
        "pd.set_option('display.max_colwidth', None)"
      ],
      "execution_count": null,
      "outputs": []
    },
    {
      "cell_type": "code",
      "metadata": {
        "colab": {
          "base_uri": "https://localhost:8080/"
        },
        "id": "2weUcSoO1k6-",
        "outputId": "2c39c9f3-2a2c-48f2-952b-3255d8c09198"
      },
      "source": [
        "# Apply function to augmented data\n",
        "directory = '/content/drive/My Drive/ZINDI/data_new_order/audio_train/'\n",
        "paths = []\n",
        "\n",
        "for subdir, dirs, files in os.walk(directory):\n",
        "    for file in files:\n",
        "        paths.append(str(subdir) + '/' + file)\n",
        "\n",
        "len(paths)"
      ],
      "execution_count": null,
      "outputs": [
        {
          "output_type": "execute_result",
          "data": {
            "text/plain": [
              "4709"
            ]
          },
          "metadata": {
            "tags": []
          },
          "execution_count": 3
        }
      ]
    },
    {
      "cell_type": "code",
      "metadata": {
        "id": "azZ0WnfOr4py"
      },
      "source": [
        "# Define paths\n",
        "\n",
        "train_path = '/content/drive/My Drive/ZINDI/data/spectrogram_train/'\n",
        "test_path = '/content/drive/My Drive/ZINDI/data/spectrogram_test/'\n",
        "base_path = '/content/drive/My Drive/ZINDI/'\n",
        "\n",
        "img_height = 256\n",
        "img_width = 256"
      ],
      "execution_count": null,
      "outputs": []
    },
    {
      "cell_type": "code",
      "metadata": {
        "colab": {
          "base_uri": "https://localhost:8080/"
        },
        "id": "14foFjJPYLdA",
        "outputId": "f9e731bb-4f8e-415c-9a3e-083bc5095886"
      },
      "source": [
        "len(os.listdir('/content/drive/My Drive/ZINDI/data_new_order/spectrogram_test/'))\n",
        "# len(os.listdir('/content/drive/My Drive/ZINDI/data_new_order/audio_test/'))"
      ],
      "execution_count": null,
      "outputs": [
        {
          "output_type": "execute_result",
          "data": {
            "text/plain": [
              "1017"
            ]
          },
          "metadata": {
            "tags": []
          },
          "execution_count": 17
        }
      ]
    },
    {
      "cell_type": "markdown",
      "metadata": {
        "id": "qEL3lav-uIe0"
      },
      "source": [
        "# Creating augmented data"
      ]
    },
    {
      "cell_type": "code",
      "metadata": {
        "id": "fiRTjKdSuJAJ"
      },
      "source": [
        "# copy directory structure \n",
        "\n",
        "def ig_f(dir, files):\n",
        "    return [f for f in files if os.path.isfile(os.path.join(dir, f))]\n",
        "\n",
        "# shutil.copytree('audio_train/', 'spectrogram_augmented/', ignore=ig_f)\n",
        "\n",
        "shutil.copytree('/content/drive/My Drive/ZINDI/data_new_order/audio_train/', '/content/drive/My Drive/ZINDI/data_new_order/audio_augmented/', ignore=ig_f)"
      ],
      "execution_count": null,
      "outputs": []
    },
    {
      "cell_type": "code",
      "metadata": {
        "colab": {
          "base_uri": "https://localhost:8080/"
        },
        "id": "PVM3L8x_uQuS",
        "outputId": "927d466f-8836-4fe4-946b-3c46b7667193"
      },
      "source": [
        "# Loop through audio file repo and apply augmentation to every file\n",
        "\n",
        "directory = '/content/drive/My Drive/ZINDI/data_new_order/audio_train/'\n",
        "paths = []\n",
        "\n",
        "for subdir, dirs, files in os.walk(directory):\n",
        "    for file in files:\n",
        "        paths.append(str(subdir) + '/' + file)\n",
        "\n",
        "len(paths)"
      ],
      "execution_count": null,
      "outputs": [
        {
          "output_type": "execute_result",
          "data": {
            "text/plain": [
              "23545"
            ]
          },
          "metadata": {
            "tags": []
          },
          "execution_count": 28
        }
      ]
    },
    {
      "cell_type": "code",
      "metadata": {
        "id": "R270tq7ZuQgt"
      },
      "source": [
        "sr=44100\n",
        "# Funktion um audio Dateien zu augmentieren \n",
        "def aug_pitch(file_path, sr=44100, factor=(2,3)):\n",
        "    data, sr = librosa.load(file_path, sr=sr)\n",
        "    aug = naa.PitchAug(sampling_rate=sr, factor=factor)\n",
        "    augmented_data = aug.augment(data)\n",
        "    return(augmented_data)\n",
        "\n",
        "def aug_noise(file_path, sr=44100):\n",
        "    data, sr = librosa.load(file_path, sr=sr)\n",
        "    aug = naa.NoiseAug(color='white', zone=(0.0, 1.0))\n",
        "    augmented_data = aug.augment(data)\n",
        "    return(augmented_data)\n",
        "\n",
        "def aug_shift(file_path,sr=44100):\n",
        "    data, sr = librosa.load(file_path, sr=sr)\n",
        "    aug = naa.ShiftAug(sampling_rate=sr, duration=0.5, shift_direction='left')\n",
        "    augmented_data = aug.augment(data)\n",
        "    return(augmented_data)\n",
        "\n",
        "def aug_speed(file_path,sr=44100):\n",
        "    data, sr = librosa.load(file_path, sr=sr)\n",
        "    aug = naa.SpeedAug(factor=(0.3,0.7),coverage=0.5)\n",
        "    augmented_data = aug.augment(data)\n",
        "    return(augmented_data)"
      ],
      "execution_count": null,
      "outputs": []
    },
    {
      "cell_type": "code",
      "metadata": {
        "colab": {
          "base_uri": "https://localhost:8080/",
          "height": 66,
          "referenced_widgets": [
            "92331f7d3d6c48259312f71b4173bd6f",
            "3deb1694a18f4e79a7533a01c0aa9f43",
            "afc6efd808a84ef7aaf293881a02d43c",
            "a15244a08b4a4a419b86392d910e5e0e",
            "2f56836318d24bf88fce4e1034c07fe3",
            "2af746e61c3340efbd0744cf2f94c8ec",
            "93fa7da53bfd47baa989a87b73a53e7a",
            "abe02960637f4a90ba4cbffbfc7c75cd"
          ]
        },
        "id": "qSC6XzYNumDm",
        "outputId": "203c6b0d-63de-4948-f8e2-f8f0db47039c"
      },
      "source": [
        "for path in tqdm(paths):\n",
        "    for func in (aug_pitch, aug_noise, aug_shift, aug_speed):\n",
        "        augmented_data = func(path)\n",
        "        out = '{}_{}.wav'.format(path.split('.')[0], func.__name__)\n",
        "        wavf.write(out, sr, augmented_data)"
      ],
      "execution_count": null,
      "outputs": [
        {
          "output_type": "display_data",
          "data": {
            "application/vnd.jupyter.widget-view+json": {
              "model_id": "92331f7d3d6c48259312f71b4173bd6f",
              "version_minor": 0,
              "version_major": 2
            },
            "text/plain": [
              "HBox(children=(FloatProgress(value=0.0, max=4709.0), HTML(value='')))"
            ]
          },
          "metadata": {
            "tags": []
          }
        },
        {
          "output_type": "stream",
          "text": [
            "\n"
          ],
          "name": "stdout"
        }
      ]
    },
    {
      "cell_type": "code",
      "metadata": {
        "colab": {
          "base_uri": "https://localhost:8080/",
          "height": 35
        },
        "id": "4TpAcq8JumBW",
        "outputId": "b5809851-2bb7-4202-90b6-6745619a3424"
      },
      "source": [
        "paths[0].split('.')[0].replace('audio_train', 'audio_test')"
      ],
      "execution_count": null,
      "outputs": [
        {
          "output_type": "execute_result",
          "data": {
            "application/vnd.google.colaboratory.intrinsic+json": {
              "type": "string"
            },
            "text/plain": [
              "'/content/drive/My Drive/ZINDI/data_new_order/audio_test/super grow/4LYSSGJ'"
            ]
          },
          "metadata": {
            "tags": []
          },
          "execution_count": 27
        }
      ]
    },
    {
      "cell_type": "markdown",
      "metadata": {
        "id": "NoDXMmaN7dU_"
      },
      "source": [
        "# Creating augmented spectrograms"
      ]
    },
    {
      "cell_type": "code",
      "metadata": {
        "id": "AtAgyr9a7dEi"
      },
      "source": [
        "# Define the function\n",
        "\n",
        "def im_from_audio(fn, sample_rate=44100, window_length=0.05, window_step=0.0045, NFFT=2205):\n",
        "  \n",
        "    # Load the audio into an array (signal) at the specified sample rate\n",
        "    signal, sr = librosa.load(fn, sr=sample_rate)\n",
        "  \n",
        "    # preemphasis\n",
        "    signal = psf.sigproc.preemphasis(signal, coeff=0.95)\n",
        "  \n",
        "    # get specrogram\n",
        "    # Get the frames\n",
        "    frames = psf.sigproc.framesig(signal, \n",
        "                                    window_length*sample_rate, \n",
        "                                    window_step*sample_rate, \n",
        "                                    lambda x:np.ones((x,)))        # Window function \n",
        "      \n",
        "    # magnitude Spectrogram\n",
        "    spectrogram = np.rot90(psf.sigproc.magspec(frames, NFFT))\n",
        "    \n",
        "    # get rid of high frequencies\n",
        "    spectrogram = spectrogram[512:,:]\n",
        "  \n",
        "    # normalize in [0, 1]\n",
        "    spectrogram -= spectrogram.min(axis=None)\n",
        "    spectrogram /= spectrogram.max(axis=None)        \n",
        "  \n",
        "    # Clip to max 512, 512\n",
        "    spectrogram = spectrogram[:512, :512]\n",
        "    \n",
        "    return spectrogram \n"
      ],
      "execution_count": null,
      "outputs": []
    },
    {
      "cell_type": "code",
      "metadata": {
        "colab": {
          "base_uri": "https://localhost:8080/"
        },
        "id": "rB3SP8kI7dB-",
        "outputId": "32f04fc7-238f-4c51-e361-3db3951ecd75"
      },
      "source": [
        "# Apply function to augmented data\n",
        "directory = '/content/drive/My Drive/ZINDI/data_new_order/testing_data/'\n",
        "paths = []\n",
        "\n",
        "for subdir, dirs, files in os.walk(directory):\n",
        "    for file in files:\n",
        "        paths.append(str(subdir) + '/' + file)\n",
        "\n",
        "len(paths)"
      ],
      "execution_count": null,
      "outputs": [
        {
          "output_type": "execute_result",
          "data": {
            "text/plain": [
              "42"
            ]
          },
          "metadata": {
            "tags": []
          },
          "execution_count": 9
        }
      ]
    },
    {
      "cell_type": "code",
      "metadata": {
        "colab": {
          "base_uri": "https://localhost:8080/",
          "height": 35
        },
        "id": "j3n1Va7B7c_P",
        "outputId": "3ef72798-13f2-42ca-8aaa-3f88e8aa2771"
      },
      "source": [
        "# copy directory structure \n",
        "\n",
        "def ig_f(dir, files):\n",
        "    return [f for f in files if os.path.isfile(os.path.join(dir, f))]\n",
        "\n",
        "# shutil.copytree('audio_train/', 'spectrogram_augmented/', ignore=ig_f)\n",
        "\n",
        "shutil.copytree('/content/drive/My Drive/ZINDI/data_new_order/audio_train/', '/content/drive/My Drive/ZINDI/data_new_order/audio_augmented/', ignore=ig_f)"
      ],
      "execution_count": null,
      "outputs": [
        {
          "output_type": "execute_result",
          "data": {
            "application/vnd.google.colaboratory.intrinsic+json": {
              "type": "string"
            },
            "text/plain": [
              "'/content/drive/My Drive/ZINDI/data_new_order/audio_augmented/'"
            ]
          },
          "metadata": {
            "tags": []
          },
          "execution_count": 5
        }
      ]
    },
    {
      "cell_type": "code",
      "metadata": {
        "colab": {
          "base_uri": "https://localhost:8080/",
          "height": 66,
          "referenced_widgets": [
            "1424d0e67d5847ab9c25832a7fe11f6b",
            "d86d6e8d07134acf9f6b92ed67df99e2",
            "35a882aeac4e4cf3a6dbad0603e9e556",
            "3289c39bdaee4629aba9d9c2ec4c9fb0",
            "94a0be2db7dd4c1cbf734c58bc81ff8c",
            "29b32ac1d28246cca172bce3804d808e",
            "d3a9f8d320f148698a0b499931060daf",
            "744b2de861344e0f8cb6cace7ac0ffbe"
          ]
        },
        "id": "6zkkzZFy71jM",
        "outputId": "3b2e1f45-480b-4c24-ce5e-aff992c15d80"
      },
      "source": [
        "for i in tqdm(paths):\n",
        "    interim1 = i.replace('.wav', '')\n",
        "#     interim2 = interim1.replace('audio_train', 'spectrogram_augmented')    \n",
        "    interim2 = interim1.replace('/content/drive/My Drive/ZINDI/data_new_order/testing_data/', '/content/drive/My Drive/ZINDI/data_new_order/testing_spec/') \n",
        "    name = '{}-spectrogram.png'.format(interim2)\n",
        "    plt.imsave(fname = name, arr = im_from_audio(i))"
      ],
      "execution_count": null,
      "outputs": [
        {
          "output_type": "display_data",
          "data": {
            "application/vnd.jupyter.widget-view+json": {
              "model_id": "1424d0e67d5847ab9c25832a7fe11f6b",
              "version_minor": 0,
              "version_major": 2
            },
            "text/plain": [
              "HBox(children=(FloatProgress(value=0.0, max=42.0), HTML(value='')))"
            ]
          },
          "metadata": {
            "tags": []
          }
        },
        {
          "output_type": "stream",
          "text": [
            "\n"
          ],
          "name": "stdout"
        }
      ]
    },
    {
      "cell_type": "markdown",
      "metadata": {
        "id": "bOeElRl-MSgi"
      },
      "source": [
        "# Building a CNN model"
      ]
    },
    {
      "cell_type": "markdown",
      "metadata": {
        "id": "Naua4xCk6iEs"
      },
      "source": [
        "## Loading and converting the data"
      ]
    },
    {
      "cell_type": "code",
      "metadata": {
        "id": "vd9FRNc-HPlY"
      },
      "source": [
        "# Load labels for first and second wave of data\n",
        "train = pd.read_csv('/content/drive/My Drive/ZINDI/train_full.csv')\n",
        "# labels_new = pd.read_csv('/content/drive/My Drive/ZINDI/labels_new.csv')"
      ],
      "execution_count": null,
      "outputs": []
    },
    {
      "cell_type": "code",
      "metadata": {
        "id": "Pmx2cSRJgsdW"
      },
      "source": [
        "# Create a well formatted Dictionary from all data with a label\n",
        "label_dict = {}\n",
        "for index, row in train.iterrows():\n",
        "    label_dict[(row['fn'].split('/')[1]).split('.')[0]] = row['label']"
      ],
      "execution_count": null,
      "outputs": []
    },
    {
      "cell_type": "code",
      "metadata": {
        "id": "XGNo0yStgskZ",
        "colab": {
          "base_uri": "https://localhost:8080/"
        },
        "outputId": "f7ced925-0aa3-444d-8691-8f45cc01c231"
      },
      "source": [
        "len(label_dict)"
      ],
      "execution_count": null,
      "outputs": [
        {
          "output_type": "execute_result",
          "data": {
            "text/plain": [
              "4709"
            ]
          },
          "metadata": {
            "tags": []
          },
          "execution_count": 12
        }
      ]
    },
    {
      "cell_type": "code",
      "metadata": {
        "id": "zTgZJEBagshA",
        "colab": {
          "base_uri": "https://localhost:8080/"
        },
        "outputId": "b2a2879f-eeed-43c0-8585-0d2cb55e0458"
      },
      "source": [
        "# Check again naming convention of spectrograms\n",
        "test = os.listdir(train_path)\n",
        "\n",
        "sample_size = 10\n",
        "sorted_sample = [test[i] for i in sorted(random.sample(range(len(test)), sample_size))]\n",
        "sorted_sample"
      ],
      "execution_count": null,
      "outputs": [
        {
          "output_type": "execute_result",
          "data": {
            "text/plain": [
              "['d027264654b94950aeb204f64d05d8d7_0c179f76b1a44e1eaf6b59a89f939285-spectrogram.png',\n",
              " '6fbfcce2cf21419e97290f9e12934f65_19f2a95209f04af1a850729c702af855-spectrogram.png',\n",
              " '6fbfcce2cf21419e97290f9e12934f65_16a7c8842fed44db8b103f4babe1c78a-spectrogram.png',\n",
              " '6fbfcce2cf21419e97290f9e12934f65_7d2982d60fc14fce9204fe041bf02ff7-spectrogram.png',\n",
              " 'd027264654b94950aeb204f64d05d8d7_761580572bdd48e6b4697c390bf6e961-spectrogram.png',\n",
              " '1b5a69c4b88b41eb9577a656e11bb7dd_e1f476dfed434740a54b19d43dc66b1d-spectrogram.png',\n",
              " '744b1a437234489fae9512694d2212ae_a330a84af8fb4d058918266c35912d39-spectrogram.png',\n",
              " '8CHV763-spectrogram.png',\n",
              " 'J73WESQ-spectrogram.png',\n",
              " '3d43af6faf2244c288154dc4ff6a734f_1f5042e2cc414c8c91ef8bf53a5580fc-spectrogram.png']"
            ]
          },
          "metadata": {
            "tags": []
          },
          "execution_count": 13
        }
      ]
    },
    {
      "cell_type": "code",
      "metadata": {
        "id": "vZgrwgBfHPom"
      },
      "source": [
        "# array with order of files like in spectrogram folder\n",
        "file_names = []\n",
        "label_array = []\n",
        "# loop over the input images\n",
        "for imgname in os.listdir(train_path):\n",
        "    # load the image, pre-process it, and store it in the data list\n",
        "    file_names.append(imgname.split('-')[0])\n",
        "    label_array.append(label_dict[imgname.split('-')[0]])"
      ],
      "execution_count": null,
      "outputs": []
    },
    {
      "cell_type": "code",
      "metadata": {
        "id": "MY4ZQcNzTom1",
        "colab": {
          "base_uri": "https://localhost:8080/",
          "height": 66,
          "referenced_widgets": [
            "f12578a75e3948adbf5606a851c1675f",
            "beb3b001dba747358fefabdb4e419bcf",
            "7ee77fa722be431a8bbd4b2f8ae982b6",
            "ee9ee1d0fb904ba398f8babe21a2374f",
            "7e694c0b31f7481a931e4766a041b94d",
            "b5eb307d6fd749ceb1821d5b7828d382",
            "9794369376a24018b8359ef85e3fb948",
            "bd817361243643eb8764932226badaf0"
          ]
        },
        "outputId": "d0dbe9b2-94bd-4789-d2f7-868837b086a1"
      },
      "source": [
        "# converting images into arrays\n",
        "img_height = 256\n",
        "img_width = 256\n",
        "img_data = []\n",
        "# loop over the input images\n",
        "for imagePath in tqdm(os.listdir(train_path)):\n",
        "    # load the image, pre-process it, and store it in the data list\n",
        "    image = cv2.imread(train_path + imagePath)\n",
        "    image = cv2.resize(image, (img_height, img_width))\n",
        "    image = img_to_array(image, dtype=np.float16)\n",
        "    img_data.append(image)"
      ],
      "execution_count": null,
      "outputs": [
        {
          "output_type": "display_data",
          "data": {
            "application/vnd.jupyter.widget-view+json": {
              "model_id": "f12578a75e3948adbf5606a851c1675f",
              "version_minor": 0,
              "version_major": 2
            },
            "text/plain": [
              "HBox(children=(FloatProgress(value=0.0, max=4709.0), HTML(value='')))"
            ]
          },
          "metadata": {
            "tags": []
          }
        },
        {
          "output_type": "stream",
          "text": [
            "\n"
          ],
          "name": "stdout"
        }
      ]
    },
    {
      "cell_type": "code",
      "metadata": {
        "id": "GVFoxT11Blze",
        "colab": {
          "base_uri": "https://localhost:8080/"
        },
        "outputId": "25148106-f87a-4b23-ad55-9467419f5db4"
      },
      "source": [
        "len(os.listdir('/content/drive/My Drive/ZINDI/data/audio_train'))"
      ],
      "execution_count": null,
      "outputs": [
        {
          "output_type": "execute_result",
          "data": {
            "text/plain": [
              "4709"
            ]
          },
          "metadata": {
            "tags": []
          },
          "execution_count": 19
        }
      ]
    },
    {
      "cell_type": "code",
      "metadata": {
        "id": "fb2UK-1aToxp",
        "colab": {
          "base_uri": "https://localhost:8080/"
        },
        "outputId": "ecf3a87a-4edc-4c1b-83c5-9a95e31d87a8"
      },
      "source": [
        "# One Hot encode the integer encoded labels\n",
        "ohe = OneHotEncoder(sparse=False)\n",
        "label_array = np.array(label_array)\n",
        "label_array = label_array.reshape(len(label_array), 1)\n",
        "label_ohe = ohe.fit_transform(label_array)\n",
        "print(label_ohe.shape)"
      ],
      "execution_count": null,
      "outputs": [
        {
          "output_type": "stream",
          "text": [
            "(4709, 193)\n"
          ],
          "name": "stdout"
        }
      ]
    },
    {
      "cell_type": "code",
      "metadata": {
        "id": "rYoyqmVXTo2i",
        "colab": {
          "base_uri": "https://localhost:8080/"
        },
        "outputId": "15329f4c-f160-409e-c184-070e30a220eb"
      },
      "source": [
        "files_data = np.array(img_data)\n",
        "print(files_data.shape)\n",
        "\n",
        "# train test split of the files\n",
        "train_files, test_files, train_labels, test_labels = train_test_split(files_data, label_ohe, random_state=42, test_size=0.2, stratify=label_ohe.argmax(axis=1))"
      ],
      "execution_count": null,
      "outputs": [
        {
          "output_type": "stream",
          "text": [
            "(4709, 256, 256, 3)\n"
          ],
          "name": "stdout"
        }
      ]
    },
    {
      "cell_type": "code",
      "metadata": {
        "id": "34cM1WYpTo9-"
      },
      "source": [
        "# label distribution in test set\n",
        "test_labels.argmax(axis=1) # 222 test files equals to 20% of the data\n",
        "unique, counts = np.unique(test_labels.argmax(axis=1), return_counts=True)\n",
        "dict(zip(unique, counts))"
      ],
      "execution_count": null,
      "outputs": []
    },
    {
      "cell_type": "markdown",
      "metadata": {
        "id": "CoLTR_9T6mRu"
      },
      "source": [
        "## Define a CNN architecture"
      ]
    },
    {
      "cell_type": "code",
      "metadata": {
        "id": "AysJUX-5To0R",
        "colab": {
          "base_uri": "https://localhost:8080/"
        },
        "outputId": "672838d6-ca88-481e-dfb1-72c7150a1dce"
      },
      "source": [
        "#Define Model architecture\n",
        "model = Sequential()\n",
        "\n",
        "model.add(Conv2D(32, kernel_size=(3, 3), activation='relu', input_shape=(img_height, img_width, 3)))\n",
        "model.add(MaxPooling2D(pool_size=(2, 2)))\n",
        "model.add(Conv2D(64, kernel_size=(3, 3), activation='relu'))\n",
        "model.add(MaxPooling2D(pool_size=(2, 2)))\n",
        "model.add(Dropout(0.1))\n",
        "model.add(Flatten())\n",
        "model.add(Dense(500, activation='relu'))\n",
        "model.add(Dropout(0.1))\n",
        "model.add(Dense(193, activation='softmax'))\n",
        "\n",
        "#Compile\n",
        "model.compile(loss='categorical_crossentropy', optimizer='adam', metrics=['accuracy'])\n",
        "print(model.summary())"
      ],
      "execution_count": null,
      "outputs": [
        {
          "output_type": "stream",
          "text": [
            "Model: \"sequential\"\n",
            "_________________________________________________________________\n",
            "Layer (type)                 Output Shape              Param #   \n",
            "=================================================================\n",
            "conv2d (Conv2D)              (None, 254, 254, 32)      896       \n",
            "_________________________________________________________________\n",
            "max_pooling2d (MaxPooling2D) (None, 127, 127, 32)      0         \n",
            "_________________________________________________________________\n",
            "conv2d_1 (Conv2D)            (None, 125, 125, 64)      18496     \n",
            "_________________________________________________________________\n",
            "max_pooling2d_1 (MaxPooling2 (None, 62, 62, 64)        0         \n",
            "_________________________________________________________________\n",
            "dropout (Dropout)            (None, 62, 62, 64)        0         \n",
            "_________________________________________________________________\n",
            "flatten (Flatten)            (None, 246016)            0         \n",
            "_________________________________________________________________\n",
            "dense (Dense)                (None, 500)               123008500 \n",
            "_________________________________________________________________\n",
            "dropout_1 (Dropout)          (None, 500)               0         \n",
            "_________________________________________________________________\n",
            "dense_1 (Dense)              (None, 193)               96693     \n",
            "=================================================================\n",
            "Total params: 123,124,585\n",
            "Trainable params: 123,124,585\n",
            "Non-trainable params: 0\n",
            "_________________________________________________________________\n",
            "None\n"
          ],
          "name": "stdout"
        }
      ]
    },
    {
      "cell_type": "markdown",
      "metadata": {
        "id": "fX2dGEv56xu8"
      },
      "source": [
        "## Model training"
      ]
    },
    {
      "cell_type": "code",
      "metadata": {
        "id": "-Xp-trcaTorU"
      },
      "source": [
        "# Automatically save the best model only\n",
        "# Source: https://medium.com/@italojs/saving-your-weights-for-each-epoch-keras-callbacks-b494d9648202\n",
        "checkpoint = ModelCheckpoint(\"/content/drive/My Drive/ZINDI/models/best_model.hdf5\", monitor='loss', verbose=1, save_best_only=True, mode='auto', period=1)\n",
        "\n",
        "history = model.fit(train_files, train_labels, batch_size=4, epochs=20, verbose=1, validation_data=(test_files, test_labels), callbacks=[checkpoint])\n",
        "\n",
        "# history = model.fit(train_files, train_labels, batch_size=4, epochs=20, verbose=1, validation_data=(test_files, test_labels))"
      ],
      "execution_count": null,
      "outputs": []
    },
    {
      "cell_type": "markdown",
      "metadata": {
        "id": "GWODTz7K6t2a"
      },
      "source": [
        "## Training results"
      ]
    },
    {
      "cell_type": "code",
      "metadata": {
        "id": "dXhoTQo3zk1C",
        "colab": {
          "base_uri": "https://localhost:8080/",
          "height": 34
        },
        "outputId": "3c8e9fc7-5094-4e32-8037-79077e67d405"
      },
      "source": [
        "history.history.keys()"
      ],
      "execution_count": null,
      "outputs": [
        {
          "output_type": "execute_result",
          "data": {
            "text/plain": [
              "dict_keys(['loss', 'accuracy', 'val_loss', 'val_accuracy'])"
            ]
          },
          "metadata": {
            "tags": []
          },
          "execution_count": 16
        }
      ]
    },
    {
      "cell_type": "code",
      "metadata": {
        "id": "vgEIxdjAlpNS",
        "colab": {
          "base_uri": "https://localhost:8080/",
          "height": 573
        },
        "outputId": "f31d3fde-423c-469f-feb2-0901e36f2f95"
      },
      "source": [
        "# summarize history for accuracy\n",
        "plt.plot(history.history['accuracy'])\n",
        "plt.plot(history.history['val_accuracy'])\n",
        "plt.title('model accuracy')\n",
        "plt.ylabel('accuracy')\n",
        "plt.xlabel('epoch')\n",
        "plt.legend(['train', 'test'], loc='upper left')\n",
        "plt.show()\n",
        "# summarize history for loss\n",
        "plt.plot(history.history['loss'])\n",
        "plt.plot(history.history['val_loss'])\n",
        "plt.title('model loss')\n",
        "plt.ylabel('loss')\n",
        "plt.xlabel('epoch')\n",
        "plt.legend(['train', 'test'], loc='upper right')\n",
        "plt.show()"
      ],
      "execution_count": null,
      "outputs": [
        {
          "output_type": "display_data",
          "data": {
            "image/png": "[encoded data removed]",
            "text/plain": [
              "<Figure size 432x288 with 1 Axes>"
            ]
          },
          "metadata": {
            "tags": [],
            "needs_background": "light"
          }
        },
        {
          "output_type": "display_data",
          "data": {
            "image/png": "[encoded data removed]",
            "text/plain": [
              "<Figure size 432x288 with 1 Axes>"
            ]
          },
          "metadata": {
            "tags": [],
            "needs_background": "light"
          }
        }
      ]
    },
    {
      "cell_type": "code",
      "metadata": {
        "id": "Fcmo6-p8DpQL"
      },
      "source": [
        "# Save the model\n",
        "model_name = 'initial_model'\n",
        "\n",
        "model.save('/content/drive/My Drive/ZINDI/models/' + model_name + '.h5')  # creates a HDF5 file 'my_model.h5'\n",
        "# del model2  # deletes the existing model\n",
        "\n",
        "# returns a compiled model\n",
        "# identical to the previous one\n",
        "# model = load_model('initial_model.h5')"
      ],
      "execution_count": null,
      "outputs": []
    },
    {
      "cell_type": "markdown",
      "metadata": {
        "id": "J_orKufY65bA"
      },
      "source": [
        "## Submission"
      ]
    },
    {
      "cell_type": "code",
      "metadata": {
        "id": "PoZImPFHHWRz"
      },
      "source": [
        "test_file_names = []\n",
        "# loop over the input images\n",
        "for imgname in os.listdir('/content/drive/My Drive/ZINDI/spectogram-test/'):\n",
        "    # load the image, pre-process it, and store it in the data list\n",
        "    test_file_names.append(imgname.split('-')[0])"
      ],
      "execution_count": null,
      "outputs": []
    },
    {
      "cell_type": "code",
      "metadata": {
        "id": "Sh2Kxho0DpVj",
        "colab": {
          "base_uri": "https://localhost:8080/",
          "height": 66,
          "referenced_widgets": [
            "909620d8665b4252acaa9658747c7d8c",
            "c304ab515cce4c9f815db2eb4a0be8a6",
            "deba86aa9f864c5b9f235f144e813a11",
            "ab825e3a5b8140b09d2f20627c05dd4f",
            "1be3955c812245da8b659251b24fd24c",
            "72d3bb84d7de4828977aea519a6a428b",
            "98422a3dd0024a9897c90d234c10c170",
            "022202d1ba174172aa52bd2d031ca0cd"
          ]
        },
        "outputId": "cdf8627d-df16-4e71-d511-ffed7902641d"
      },
      "source": [
        "# converting validation-images into arrays\n",
        "img_height = 256\n",
        "img_width = 256\n",
        "test_img_data = []\n",
        "# loop over the input images\n",
        "for imagePath in tqdm(os.listdir('/content/drive/My Drive/ZINDI/spectogram-test/')):\n",
        "    # load the image, pre-process it, and store it in the data list\n",
        "    image = cv2.imread('/content/drive/My Drive/ZINDI/spectogram-test/'+imagePath)\n",
        "    image = cv2.resize(image, (img_height, img_width))\n",
        "    image = img_to_array(image)\n",
        "    test_img_data.append(image)"
      ],
      "execution_count": null,
      "outputs": [
        {
          "output_type": "display_data",
          "data": {
            "application/vnd.jupyter.widget-view+json": {
              "model_id": "909620d8665b4252acaa9658747c7d8c",
              "version_minor": 0,
              "version_major": 2
            },
            "text/plain": [
              "HBox(children=(FloatProgress(value=0.0, max=1017.0), HTML(value='')))"
            ]
          },
          "metadata": {
            "tags": []
          }
        },
        {
          "output_type": "stream",
          "text": [
            "\n"
          ],
          "name": "stdout"
        }
      ]
    },
    {
      "cell_type": "code",
      "metadata": {
        "id": "Vh_IdrpJJEmb"
      },
      "source": [
        "test_img_data_array = np.array(test_img_data)"
      ],
      "execution_count": null,
      "outputs": []
    },
    {
      "cell_type": "code",
      "metadata": {
        "id": "FrszBEzaDpTh",
        "colab": {
          "base_uri": "https://localhost:8080/",
          "height": 34
        },
        "outputId": "1294b426-272e-4e97-9a85-034eb85380de"
      },
      "source": [
        "label_array.shape"
      ],
      "execution_count": null,
      "outputs": [
        {
          "output_type": "execute_result",
          "data": {
            "text/plain": [
              "(2849, 1)"
            ]
          },
          "metadata": {
            "tags": []
          },
          "execution_count": 54
        }
      ]
    },
    {
      "cell_type": "code",
      "metadata": {
        "id": "Em_W4D_NHPYZ",
        "colab": {
          "base_uri": "https://localhost:8080/",
          "height": 287
        },
        "outputId": "e8db76de-5bf5-42cb-c5bd-895a9b17c488"
      },
      "source": [
        "samplesub = pd.read_csv('/content/drive/My Drive/data/SampleSubmission.csv')\n",
        "samplesub.head()"
      ],
      "execution_count": null,
      "outputs": [
        {
          "output_type": "execute_result",
          "data": {
            "text/html": [
              "<div>\n",
              "<style scoped>\n",
              "    .dataframe tbody tr th:only-of-type {\n",
              "        vertical-align: middle;\n",
              "    }\n",
              "\n",
              "    .dataframe tbody tr th {\n",
              "        vertical-align: top;\n",
              "    }\n",
              "\n",
              "    .dataframe thead th {\n",
              "        text-align: right;\n",
              "    }\n",
              "</style>\n",
              "<table border=\"1\" class=\"dataframe\">\n",
              "  <thead>\n",
              "    <tr style=\"text-align: right;\">\n",
              "      <th></th>\n",
              "      <th>fn</th>\n",
              "      <th>maize streak virus</th>\n",
              "      <th>disease</th>\n",
              "      <th>okukkoola</th>\n",
              "      <th>muwogo</th>\n",
              "      <th>mpeke</th>\n",
              "      <th>mucungwa</th>\n",
              "      <th>greens</th>\n",
              "      <th>garden</th>\n",
              "      <th>mango</th>\n",
              "      <th>bulimi</th>\n",
              "      <th>obuwuka</th>\n",
              "      <th>ebikoola</th>\n",
              "      <th>obulimi</th>\n",
              "      <th>ebisoolisooli</th>\n",
              "      <th>kaamulali</th>\n",
              "      <th>eddagala</th>\n",
              "      <th>beans</th>\n",
              "      <th>omuyembe</th>\n",
              "      <th>leaf</th>\n",
              "      <th>kisaanyi</th>\n",
              "      <th>leaves</th>\n",
              "      <th>butterfly</th>\n",
              "      <th>okuzifuuyira</th>\n",
              "      <th>micungwa</th>\n",
              "      <th>ppaapaali</th>\n",
              "      <th>emboga</th>\n",
              "      <th>kikolo</th>\n",
              "      <th>harvest</th>\n",
              "      <th>olusuku</th>\n",
              "      <th>coffee</th>\n",
              "      <th>super grow</th>\n",
              "      <th>rice</th>\n",
              "      <th>ensujju</th>\n",
              "      <th>okulima</th>\n",
              "      <th>worm</th>\n",
              "      <th>ebbugga</th>\n",
              "      <th>onion</th>\n",
              "      <th>ensigo</th>\n",
              "      <th>plantation</th>\n",
              "      <th>...</th>\n",
              "      <th>ejjobyo</th>\n",
              "      <th>omulimi</th>\n",
              "      <th>okusimba</th>\n",
              "      <th>sweet potatoes</th>\n",
              "      <th>okufuuyira</th>\n",
              "      <th>farming instructor</th>\n",
              "      <th>nnasale beedi</th>\n",
              "      <th>passion fruit</th>\n",
              "      <th>ekitooke</th>\n",
              "      <th>ebisaanyi</th>\n",
              "      <th>ekyeya</th>\n",
              "      <th>enva endiirwa</th>\n",
              "      <th>emisiri</th>\n",
              "      <th>emiyembe</th>\n",
              "      <th>amatooke</th>\n",
              "      <th>ebiwuka</th>\n",
              "      <th>farm</th>\n",
              "      <th>ebinyebwa</th>\n",
              "      <th>amappapaali</th>\n",
              "      <th>ebimera</th>\n",
              "      <th>kassooli</th>\n",
              "      <th>harvesting</th>\n",
              "      <th>emmwanyi</th>\n",
              "      <th>akamonde</th>\n",
              "      <th>obumonde</th>\n",
              "      <th>cabbages</th>\n",
              "      <th>akasaanyi</th>\n",
              "      <th>spread</th>\n",
              "      <th>ebirime</th>\n",
              "      <th>drought</th>\n",
              "      <th>kasaanyi</th>\n",
              "      <th>suckers</th>\n",
              "      <th>insects</th>\n",
              "      <th>fertilizer</th>\n",
              "      <th>nakavundira</th>\n",
              "      <th>ekiwojjolo</th>\n",
              "      <th>akawuka</th>\n",
              "      <th>ddagala</th>\n",
              "      <th>ebiwojjolo</th>\n",
              "      <th>obutungulu</th>\n",
              "    </tr>\n",
              "  </thead>\n",
              "  <tbody>\n",
              "    <tr>\n",
              "      <th>0</th>\n",
              "      <td>audio_files/00118N3.wav</td>\n",
              "      <td>0</td>\n",
              "      <td>0</td>\n",
              "      <td>0</td>\n",
              "      <td>0</td>\n",
              "      <td>0</td>\n",
              "      <td>0</td>\n",
              "      <td>0</td>\n",
              "      <td>0</td>\n",
              "      <td>0</td>\n",
              "      <td>0</td>\n",
              "      <td>0</td>\n",
              "      <td>0</td>\n",
              "      <td>0</td>\n",
              "      <td>0</td>\n",
              "      <td>0</td>\n",
              "      <td>0</td>\n",
              "      <td>0</td>\n",
              "      <td>0</td>\n",
              "      <td>0</td>\n",
              "      <td>0</td>\n",
              "      <td>0</td>\n",
              "      <td>0</td>\n",
              "      <td>0</td>\n",
              "      <td>0</td>\n",
              "      <td>0</td>\n",
              "      <td>0</td>\n",
              "      <td>0</td>\n",
              "      <td>0</td>\n",
              "      <td>0</td>\n",
              "      <td>0</td>\n",
              "      <td>0</td>\n",
              "      <td>0</td>\n",
              "      <td>0</td>\n",
              "      <td>0</td>\n",
              "      <td>0</td>\n",
              "      <td>0</td>\n",
              "      <td>0</td>\n",
              "      <td>0</td>\n",
              "      <td>0</td>\n",
              "      <td>...</td>\n",
              "      <td>0</td>\n",
              "      <td>0</td>\n",
              "      <td>0</td>\n",
              "      <td>0</td>\n",
              "      <td>0</td>\n",
              "      <td>0</td>\n",
              "      <td>0</td>\n",
              "      <td>0</td>\n",
              "      <td>0</td>\n",
              "      <td>0</td>\n",
              "      <td>0</td>\n",
              "      <td>0</td>\n",
              "      <td>0</td>\n",
              "      <td>0</td>\n",
              "      <td>0</td>\n",
              "      <td>0</td>\n",
              "      <td>0</td>\n",
              "      <td>0</td>\n",
              "      <td>0</td>\n",
              "      <td>0</td>\n",
              "      <td>0</td>\n",
              "      <td>0</td>\n",
              "      <td>0</td>\n",
              "      <td>0</td>\n",
              "      <td>0</td>\n",
              "      <td>0</td>\n",
              "      <td>0</td>\n",
              "      <td>0</td>\n",
              "      <td>0</td>\n",
              "      <td>0</td>\n",
              "      <td>0</td>\n",
              "      <td>0</td>\n",
              "      <td>0</td>\n",
              "      <td>0</td>\n",
              "      <td>0</td>\n",
              "      <td>0</td>\n",
              "      <td>0</td>\n",
              "      <td>0</td>\n",
              "      <td>0</td>\n",
              "      <td>0</td>\n",
              "    </tr>\n",
              "    <tr>\n",
              "      <th>1</th>\n",
              "      <td>audio_files/00P0NMV.wav</td>\n",
              "      <td>0</td>\n",
              "      <td>0</td>\n",
              "      <td>0</td>\n",
              "      <td>0</td>\n",
              "      <td>0</td>\n",
              "      <td>0</td>\n",
              "      <td>0</td>\n",
              "      <td>0</td>\n",
              "      <td>0</td>\n",
              "      <td>0</td>\n",
              "      <td>0</td>\n",
              "      <td>0</td>\n",
              "      <td>0</td>\n",
              "      <td>0</td>\n",
              "      <td>0</td>\n",
              "      <td>0</td>\n",
              "      <td>0</td>\n",
              "      <td>0</td>\n",
              "      <td>0</td>\n",
              "      <td>0</td>\n",
              "      <td>0</td>\n",
              "      <td>0</td>\n",
              "      <td>0</td>\n",
              "      <td>0</td>\n",
              "      <td>0</td>\n",
              "      <td>0</td>\n",
              "      <td>0</td>\n",
              "      <td>0</td>\n",
              "      <td>0</td>\n",
              "      <td>0</td>\n",
              "      <td>0</td>\n",
              "      <td>0</td>\n",
              "      <td>0</td>\n",
              "      <td>0</td>\n",
              "      <td>0</td>\n",
              "      <td>0</td>\n",
              "      <td>0</td>\n",
              "      <td>0</td>\n",
              "      <td>0</td>\n",
              "      <td>...</td>\n",
              "      <td>0</td>\n",
              "      <td>0</td>\n",
              "      <td>0</td>\n",
              "      <td>0</td>\n",
              "      <td>0</td>\n",
              "      <td>0</td>\n",
              "      <td>0</td>\n",
              "      <td>0</td>\n",
              "      <td>0</td>\n",
              "      <td>0</td>\n",
              "      <td>0</td>\n",
              "      <td>0</td>\n",
              "      <td>0</td>\n",
              "      <td>0</td>\n",
              "      <td>0</td>\n",
              "      <td>0</td>\n",
              "      <td>0</td>\n",
              "      <td>0</td>\n",
              "      <td>0</td>\n",
              "      <td>0</td>\n",
              "      <td>0</td>\n",
              "      <td>0</td>\n",
              "      <td>0</td>\n",
              "      <td>0</td>\n",
              "      <td>0</td>\n",
              "      <td>0</td>\n",
              "      <td>0</td>\n",
              "      <td>0</td>\n",
              "      <td>0</td>\n",
              "      <td>0</td>\n",
              "      <td>0</td>\n",
              "      <td>0</td>\n",
              "      <td>0</td>\n",
              "      <td>0</td>\n",
              "      <td>0</td>\n",
              "      <td>0</td>\n",
              "      <td>0</td>\n",
              "      <td>0</td>\n",
              "      <td>0</td>\n",
              "      <td>0</td>\n",
              "    </tr>\n",
              "    <tr>\n",
              "      <th>2</th>\n",
              "      <td>audio_files/01QEEZI.wav</td>\n",
              "      <td>0</td>\n",
              "      <td>0</td>\n",
              "      <td>0</td>\n",
              "      <td>0</td>\n",
              "      <td>0</td>\n",
              "      <td>0</td>\n",
              "      <td>0</td>\n",
              "      <td>0</td>\n",
              "      <td>0</td>\n",
              "      <td>0</td>\n",
              "      <td>0</td>\n",
              "      <td>0</td>\n",
              "      <td>0</td>\n",
              "      <td>0</td>\n",
              "      <td>0</td>\n",
              "      <td>0</td>\n",
              "      <td>0</td>\n",
              "      <td>0</td>\n",
              "      <td>0</td>\n",
              "      <td>0</td>\n",
              "      <td>0</td>\n",
              "      <td>0</td>\n",
              "      <td>0</td>\n",
              "      <td>0</td>\n",
              "      <td>0</td>\n",
              "      <td>0</td>\n",
              "      <td>0</td>\n",
              "      <td>0</td>\n",
              "      <td>0</td>\n",
              "      <td>0</td>\n",
              "      <td>0</td>\n",
              "      <td>0</td>\n",
              "      <td>0</td>\n",
              "      <td>0</td>\n",
              "      <td>0</td>\n",
              "      <td>0</td>\n",
              "      <td>0</td>\n",
              "      <td>0</td>\n",
              "      <td>0</td>\n",
              "      <td>...</td>\n",
              "      <td>0</td>\n",
              "      <td>0</td>\n",
              "      <td>0</td>\n",
              "      <td>0</td>\n",
              "      <td>0</td>\n",
              "      <td>0</td>\n",
              "      <td>0</td>\n",
              "      <td>0</td>\n",
              "      <td>0</td>\n",
              "      <td>0</td>\n",
              "      <td>0</td>\n",
              "      <td>0</td>\n",
              "      <td>0</td>\n",
              "      <td>0</td>\n",
              "      <td>0</td>\n",
              "      <td>0</td>\n",
              "      <td>0</td>\n",
              "      <td>0</td>\n",
              "      <td>0</td>\n",
              "      <td>0</td>\n",
              "      <td>0</td>\n",
              "      <td>0</td>\n",
              "      <td>0</td>\n",
              "      <td>0</td>\n",
              "      <td>0</td>\n",
              "      <td>0</td>\n",
              "      <td>0</td>\n",
              "      <td>0</td>\n",
              "      <td>0</td>\n",
              "      <td>0</td>\n",
              "      <td>0</td>\n",
              "      <td>0</td>\n",
              "      <td>0</td>\n",
              "      <td>0</td>\n",
              "      <td>0</td>\n",
              "      <td>0</td>\n",
              "      <td>0</td>\n",
              "      <td>0</td>\n",
              "      <td>0</td>\n",
              "      <td>0</td>\n",
              "    </tr>\n",
              "    <tr>\n",
              "      <th>3</th>\n",
              "      <td>audio_files/037YAED.wav</td>\n",
              "      <td>0</td>\n",
              "      <td>0</td>\n",
              "      <td>0</td>\n",
              "      <td>0</td>\n",
              "      <td>0</td>\n",
              "      <td>0</td>\n",
              "      <td>0</td>\n",
              "      <td>0</td>\n",
              "      <td>0</td>\n",
              "      <td>0</td>\n",
              "      <td>0</td>\n",
              "      <td>0</td>\n",
              "      <td>0</td>\n",
              "      <td>0</td>\n",
              "      <td>0</td>\n",
              "      <td>0</td>\n",
              "      <td>0</td>\n",
              "      <td>0</td>\n",
              "      <td>0</td>\n",
              "      <td>0</td>\n",
              "      <td>0</td>\n",
              "      <td>0</td>\n",
              "      <td>0</td>\n",
              "      <td>0</td>\n",
              "      <td>0</td>\n",
              "      <td>0</td>\n",
              "      <td>0</td>\n",
              "      <td>0</td>\n",
              "      <td>0</td>\n",
              "      <td>0</td>\n",
              "      <td>0</td>\n",
              "      <td>0</td>\n",
              "      <td>0</td>\n",
              "      <td>0</td>\n",
              "      <td>0</td>\n",
              "      <td>0</td>\n",
              "      <td>0</td>\n",
              "      <td>0</td>\n",
              "      <td>0</td>\n",
              "      <td>...</td>\n",
              "      <td>0</td>\n",
              "      <td>0</td>\n",
              "      <td>0</td>\n",
              "      <td>0</td>\n",
              "      <td>0</td>\n",
              "      <td>0</td>\n",
              "      <td>0</td>\n",
              "      <td>0</td>\n",
              "      <td>0</td>\n",
              "      <td>0</td>\n",
              "      <td>0</td>\n",
              "      <td>0</td>\n",
              "      <td>0</td>\n",
              "      <td>0</td>\n",
              "      <td>0</td>\n",
              "      <td>0</td>\n",
              "      <td>0</td>\n",
              "      <td>0</td>\n",
              "      <td>0</td>\n",
              "      <td>0</td>\n",
              "      <td>0</td>\n",
              "      <td>0</td>\n",
              "      <td>0</td>\n",
              "      <td>0</td>\n",
              "      <td>0</td>\n",
              "      <td>0</td>\n",
              "      <td>0</td>\n",
              "      <td>0</td>\n",
              "      <td>0</td>\n",
              "      <td>0</td>\n",
              "      <td>0</td>\n",
              "      <td>0</td>\n",
              "      <td>0</td>\n",
              "      <td>0</td>\n",
              "      <td>0</td>\n",
              "      <td>0</td>\n",
              "      <td>0</td>\n",
              "      <td>0</td>\n",
              "      <td>0</td>\n",
              "      <td>0</td>\n",
              "    </tr>\n",
              "    <tr>\n",
              "      <th>4</th>\n",
              "      <td>audio_files/0382N0Y.wav</td>\n",
              "      <td>0</td>\n",
              "      <td>0</td>\n",
              "      <td>0</td>\n",
              "      <td>0</td>\n",
              "      <td>0</td>\n",
              "      <td>0</td>\n",
              "      <td>0</td>\n",
              "      <td>0</td>\n",
              "      <td>0</td>\n",
              "      <td>0</td>\n",
              "      <td>0</td>\n",
              "      <td>0</td>\n",
              "      <td>0</td>\n",
              "      <td>0</td>\n",
              "      <td>0</td>\n",
              "      <td>0</td>\n",
              "      <td>0</td>\n",
              "      <td>0</td>\n",
              "      <td>0</td>\n",
              "      <td>0</td>\n",
              "      <td>0</td>\n",
              "      <td>0</td>\n",
              "      <td>0</td>\n",
              "      <td>0</td>\n",
              "      <td>0</td>\n",
              "      <td>0</td>\n",
              "      <td>0</td>\n",
              "      <td>0</td>\n",
              "      <td>0</td>\n",
              "      <td>0</td>\n",
              "      <td>0</td>\n",
              "      <td>0</td>\n",
              "      <td>0</td>\n",
              "      <td>0</td>\n",
              "      <td>0</td>\n",
              "      <td>0</td>\n",
              "      <td>0</td>\n",
              "      <td>0</td>\n",
              "      <td>0</td>\n",
              "      <td>...</td>\n",
              "      <td>0</td>\n",
              "      <td>0</td>\n",
              "      <td>0</td>\n",
              "      <td>0</td>\n",
              "      <td>0</td>\n",
              "      <td>0</td>\n",
              "      <td>0</td>\n",
              "      <td>0</td>\n",
              "      <td>0</td>\n",
              "      <td>0</td>\n",
              "      <td>0</td>\n",
              "      <td>0</td>\n",
              "      <td>0</td>\n",
              "      <td>0</td>\n",
              "      <td>0</td>\n",
              "      <td>0</td>\n",
              "      <td>0</td>\n",
              "      <td>0</td>\n",
              "      <td>0</td>\n",
              "      <td>0</td>\n",
              "      <td>0</td>\n",
              "      <td>0</td>\n",
              "      <td>0</td>\n",
              "      <td>0</td>\n",
              "      <td>0</td>\n",
              "      <td>0</td>\n",
              "      <td>0</td>\n",
              "      <td>0</td>\n",
              "      <td>0</td>\n",
              "      <td>0</td>\n",
              "      <td>0</td>\n",
              "      <td>0</td>\n",
              "      <td>0</td>\n",
              "      <td>0</td>\n",
              "      <td>0</td>\n",
              "      <td>0</td>\n",
              "      <td>0</td>\n",
              "      <td>0</td>\n",
              "      <td>0</td>\n",
              "      <td>0</td>\n",
              "    </tr>\n",
              "  </tbody>\n",
              "</table>\n",
              "<p>5 rows × 194 columns</p>\n",
              "</div>"
            ],
            "text/plain": [
              "                        fn  maize streak virus  ...  ebiwojjolo  obutungulu\n",
              "0  audio_files/00118N3.wav                   0  ...           0           0\n",
              "1  audio_files/00P0NMV.wav                   0  ...           0           0\n",
              "2  audio_files/01QEEZI.wav                   0  ...           0           0\n",
              "3  audio_files/037YAED.wav                   0  ...           0           0\n",
              "4  audio_files/0382N0Y.wav                   0  ...           0           0\n",
              "\n",
              "[5 rows x 194 columns]"
            ]
          },
          "metadata": {
            "tags": []
          },
          "execution_count": 26
        }
      ]
    },
    {
      "cell_type": "code",
      "metadata": {
        "id": "eir5SHT9Doed"
      },
      "source": [
        "y_pred = model.predict(test_img_data_array)"
      ],
      "execution_count": null,
      "outputs": []
    },
    {
      "cell_type": "code",
      "metadata": {
        "id": "5HiV7GEqJeJc"
      },
      "source": [
        "# Format label and file names right so they match the SampleSubmission DF\n",
        "_, idx = np.unique(label_array_squeezed, return_index=True)\n",
        "label_array_unique = label_array_squeezed[np.sort(idx)]\n",
        "\n",
        "test_file_names_wav = []\n",
        "for i in test_file_names:\n",
        "  test_file_names_wav.append('audio_files/'+i+'.wav')"
      ],
      "execution_count": null,
      "outputs": []
    },
    {
      "cell_type": "code",
      "metadata": {
        "id": "4Zm2qGD2JUaP"
      },
      "source": [
        "first_submission = pd.DataFrame(data=y_pred, columns=label_array_unique) #"
      ],
      "execution_count": null,
      "outputs": []
    },
    {
      "cell_type": "code",
      "metadata": {
        "id": "5hQcDgHTJUej",
        "colab": {
          "base_uri": "https://localhost:8080/",
          "height": 372
        },
        "outputId": "4e4eba2e-79a8-4f5f-faf8-8346b38dda46"
      },
      "source": [
        "first_submission.insert(loc=0, column='fn', value=test_file_names_wav)\n",
        "first_submission.head()"
      ],
      "execution_count": null,
      "outputs": [
        {
          "output_type": "execute_result",
          "data": {
            "text/html": [
              "<div>\n",
              "<style scoped>\n",
              "    .dataframe tbody tr th:only-of-type {\n",
              "        vertical-align: middle;\n",
              "    }\n",
              "\n",
              "    .dataframe tbody tr th {\n",
              "        vertical-align: top;\n",
              "    }\n",
              "\n",
              "    .dataframe thead th {\n",
              "        text-align: right;\n",
              "    }\n",
              "</style>\n",
              "<table border=\"1\" class=\"dataframe\">\n",
              "  <thead>\n",
              "    <tr style=\"text-align: right;\">\n",
              "      <th></th>\n",
              "      <th>fn</th>\n",
              "      <th>ddagala</th>\n",
              "      <th>irrigate</th>\n",
              "      <th>ebigimusa</th>\n",
              "      <th>akasaanyi</th>\n",
              "      <th>ekikajjo</th>\n",
              "      <th>emmwanyi</th>\n",
              "      <th>ekiwojjolo</th>\n",
              "      <th>ebibala</th>\n",
              "      <th>weeding</th>\n",
              "      <th>orange</th>\n",
              "      <th>sikungula</th>\n",
              "      <th>ebyobulimi</th>\n",
              "      <th>ensuku</th>\n",
              "      <th>micungwa</th>\n",
              "      <th>farmer</th>\n",
              "      <th>muwogo</th>\n",
              "      <th>plant</th>\n",
              "      <th>spray</th>\n",
              "      <th>pepper</th>\n",
              "      <th>ekijanjaalo</th>\n",
              "      <th>obumonde</th>\n",
              "      <th>garden</th>\n",
              "      <th>okusaasaanya</th>\n",
              "      <th>abalimi</th>\n",
              "      <th>nnasale beedi</th>\n",
              "      <th>kaamulali</th>\n",
              "      <th>doodo</th>\n",
              "      <th>ebikolo</th>\n",
              "      <th>obusaanyi</th>\n",
              "      <th>enva endiirwa</th>\n",
              "      <th>nfukirira</th>\n",
              "      <th>omulimisa</th>\n",
              "      <th>endwadde</th>\n",
              "      <th>muceere</th>\n",
              "      <th>ejjobyo</th>\n",
              "      <th>ebikajjo</th>\n",
              "      <th>okulimibwa</th>\n",
              "      <th>enkota</th>\n",
              "      <th>nursery bed</th>\n",
              "      <th>...</th>\n",
              "      <th>obutunda</th>\n",
              "      <th>butterfly</th>\n",
              "      <th>rice</th>\n",
              "      <th>bibala</th>\n",
              "      <th>ebbugga</th>\n",
              "      <th>ppaapaali</th>\n",
              "      <th>okunnoga</th>\n",
              "      <th>obutungulu</th>\n",
              "      <th>medicine</th>\n",
              "      <th>lusuku</th>\n",
              "      <th>ennyaanya</th>\n",
              "      <th>insects</th>\n",
              "      <th>mango</th>\n",
              "      <th>eppapaali</th>\n",
              "      <th>omusiri</th>\n",
              "      <th>kikajjo</th>\n",
              "      <th>okukungula</th>\n",
              "      <th>Spinach</th>\n",
              "      <th>Pump</th>\n",
              "      <th>ebinyebwa</th>\n",
              "      <th>nnimiro</th>\n",
              "      <th>onion</th>\n",
              "      <th>maize stalk borer</th>\n",
              "      <th>ekibala</th>\n",
              "      <th>watermelon</th>\n",
              "      <th>maize streak virus</th>\n",
              "      <th>ekyeya</th>\n",
              "      <th>okulima</th>\n",
              "      <th>passion fruit</th>\n",
              "      <th>beans</th>\n",
              "      <th>disease</th>\n",
              "      <th>ekikoola</th>\n",
              "      <th>pawpaw</th>\n",
              "      <th>faamu</th>\n",
              "      <th>okukkoola</th>\n",
              "      <th>cabbages</th>\n",
              "      <th>eggobe</th>\n",
              "      <th>sugarcane</th>\n",
              "      <th>banana</th>\n",
              "      <th>ekikolo</th>\n",
              "    </tr>\n",
              "  </thead>\n",
              "  <tbody>\n",
              "    <tr>\n",
              "      <th>0</th>\n",
              "      <td>audio_files/0MV7LQS.wav</td>\n",
              "      <td>9.444735e-24</td>\n",
              "      <td>9.032161e-38</td>\n",
              "      <td>4.549012e-21</td>\n",
              "      <td>8.000983e-08</td>\n",
              "      <td>1.987164e-29</td>\n",
              "      <td>1.532657e-16</td>\n",
              "      <td>4.125623e-26</td>\n",
              "      <td>2.817398e-08</td>\n",
              "      <td>1.192250e-18</td>\n",
              "      <td>2.295398e-17</td>\n",
              "      <td>8.460410e-20</td>\n",
              "      <td>3.107946e-15</td>\n",
              "      <td>5.397577e-20</td>\n",
              "      <td>9.177227e-24</td>\n",
              "      <td>5.159140e-18</td>\n",
              "      <td>6.778901e-17</td>\n",
              "      <td>0.000000e+00</td>\n",
              "      <td>9.579717e-24</td>\n",
              "      <td>6.212802e-15</td>\n",
              "      <td>4.238476e-15</td>\n",
              "      <td>1.879837e-30</td>\n",
              "      <td>6.528606e-34</td>\n",
              "      <td>2.174225e-33</td>\n",
              "      <td>2.170132e-25</td>\n",
              "      <td>1.636923e-30</td>\n",
              "      <td>7.342252e-31</td>\n",
              "      <td>3.778174e-29</td>\n",
              "      <td>1.225423e-16</td>\n",
              "      <td>4.959265e-25</td>\n",
              "      <td>2.675361e-27</td>\n",
              "      <td>1.169432e-16</td>\n",
              "      <td>8.114832e-24</td>\n",
              "      <td>6.906451e-20</td>\n",
              "      <td>5.697692e-21</td>\n",
              "      <td>4.112122e-13</td>\n",
              "      <td>6.227976e-19</td>\n",
              "      <td>1.105661e-06</td>\n",
              "      <td>1.497217e-15</td>\n",
              "      <td>9.128616e-26</td>\n",
              "      <td>...</td>\n",
              "      <td>1.130642e-22</td>\n",
              "      <td>1.118970e-24</td>\n",
              "      <td>9.990674e-01</td>\n",
              "      <td>1.727916e-12</td>\n",
              "      <td>3.384063e-20</td>\n",
              "      <td>4.318602e-12</td>\n",
              "      <td>2.837385e-22</td>\n",
              "      <td>6.124954e-16</td>\n",
              "      <td>9.732896e-13</td>\n",
              "      <td>1.072936e-14</td>\n",
              "      <td>3.458108e-20</td>\n",
              "      <td>2.510708e-14</td>\n",
              "      <td>1.631660e-17</td>\n",
              "      <td>6.453609e-25</td>\n",
              "      <td>6.751590e-34</td>\n",
              "      <td>1.773519e-37</td>\n",
              "      <td>4.064533e-16</td>\n",
              "      <td>0.000000e+00</td>\n",
              "      <td>1.394924e-33</td>\n",
              "      <td>9.530975e-33</td>\n",
              "      <td>7.579154e-04</td>\n",
              "      <td>2.977604e-16</td>\n",
              "      <td>1.118993e-21</td>\n",
              "      <td>1.924634e-32</td>\n",
              "      <td>2.973997e-29</td>\n",
              "      <td>4.737484e-36</td>\n",
              "      <td>4.954336e-15</td>\n",
              "      <td>5.225721e-37</td>\n",
              "      <td>0.000000e+00</td>\n",
              "      <td>1.109027e-37</td>\n",
              "      <td>3.675920e-18</td>\n",
              "      <td>1.775135e-31</td>\n",
              "      <td>1.560332e-37</td>\n",
              "      <td>1.103597e-26</td>\n",
              "      <td>4.219166e-38</td>\n",
              "      <td>7.442029e-28</td>\n",
              "      <td>1.571314e-25</td>\n",
              "      <td>0.000000e+00</td>\n",
              "      <td>2.872108e-25</td>\n",
              "      <td>6.925410e-38</td>\n",
              "    </tr>\n",
              "    <tr>\n",
              "      <th>1</th>\n",
              "      <td>audio_files/0L47WFH.wav</td>\n",
              "      <td>5.079751e-06</td>\n",
              "      <td>6.673069e-06</td>\n",
              "      <td>5.467417e-03</td>\n",
              "      <td>1.118456e-04</td>\n",
              "      <td>1.213590e-03</td>\n",
              "      <td>2.564944e-04</td>\n",
              "      <td>3.032071e-03</td>\n",
              "      <td>2.496147e-02</td>\n",
              "      <td>1.247088e-03</td>\n",
              "      <td>2.796572e-01</td>\n",
              "      <td>1.461458e-04</td>\n",
              "      <td>5.094288e-03</td>\n",
              "      <td>4.126826e-03</td>\n",
              "      <td>1.498035e-03</td>\n",
              "      <td>3.344400e-03</td>\n",
              "      <td>1.643791e-03</td>\n",
              "      <td>3.522796e-07</td>\n",
              "      <td>2.069343e-06</td>\n",
              "      <td>6.293617e-04</td>\n",
              "      <td>4.414560e-04</td>\n",
              "      <td>6.824473e-06</td>\n",
              "      <td>3.374861e-05</td>\n",
              "      <td>4.259539e-05</td>\n",
              "      <td>3.274433e-06</td>\n",
              "      <td>6.478956e-05</td>\n",
              "      <td>1.213985e-05</td>\n",
              "      <td>1.479869e-04</td>\n",
              "      <td>1.875540e-03</td>\n",
              "      <td>1.421207e-04</td>\n",
              "      <td>1.234293e-05</td>\n",
              "      <td>7.326836e-04</td>\n",
              "      <td>4.701525e-04</td>\n",
              "      <td>1.193252e-03</td>\n",
              "      <td>1.796845e-03</td>\n",
              "      <td>1.211571e-02</td>\n",
              "      <td>1.091075e-02</td>\n",
              "      <td>1.246665e-04</td>\n",
              "      <td>4.465725e-02</td>\n",
              "      <td>2.158897e-03</td>\n",
              "      <td>...</td>\n",
              "      <td>2.172001e-03</td>\n",
              "      <td>8.266019e-04</td>\n",
              "      <td>6.490964e-03</td>\n",
              "      <td>2.957299e-02</td>\n",
              "      <td>3.253800e-03</td>\n",
              "      <td>3.658514e-04</td>\n",
              "      <td>1.060806e-02</td>\n",
              "      <td>7.467349e-04</td>\n",
              "      <td>1.109535e-03</td>\n",
              "      <td>9.783972e-04</td>\n",
              "      <td>6.377831e-04</td>\n",
              "      <td>4.687669e-02</td>\n",
              "      <td>5.762239e-05</td>\n",
              "      <td>3.154596e-03</td>\n",
              "      <td>2.726718e-04</td>\n",
              "      <td>1.320982e-04</td>\n",
              "      <td>3.207800e-03</td>\n",
              "      <td>5.344540e-07</td>\n",
              "      <td>1.603617e-05</td>\n",
              "      <td>2.705517e-05</td>\n",
              "      <td>1.546426e-03</td>\n",
              "      <td>7.249897e-05</td>\n",
              "      <td>1.138869e-02</td>\n",
              "      <td>6.416981e-06</td>\n",
              "      <td>2.270902e-04</td>\n",
              "      <td>4.646338e-04</td>\n",
              "      <td>1.026596e-02</td>\n",
              "      <td>1.122986e-03</td>\n",
              "      <td>3.668998e-05</td>\n",
              "      <td>7.161230e-05</td>\n",
              "      <td>2.105622e-04</td>\n",
              "      <td>2.153121e-05</td>\n",
              "      <td>9.232890e-05</td>\n",
              "      <td>3.391918e-06</td>\n",
              "      <td>6.934577e-07</td>\n",
              "      <td>7.630516e-05</td>\n",
              "      <td>1.353078e-05</td>\n",
              "      <td>5.099324e-05</td>\n",
              "      <td>5.581711e-05</td>\n",
              "      <td>5.007330e-06</td>\n",
              "    </tr>\n",
              "    <tr>\n",
              "      <th>2</th>\n",
              "      <td>audio_files/0N7JNLT.wav</td>\n",
              "      <td>2.098820e-20</td>\n",
              "      <td>1.231374e-19</td>\n",
              "      <td>1.857637e-12</td>\n",
              "      <td>2.107219e-13</td>\n",
              "      <td>9.111287e-14</td>\n",
              "      <td>1.460032e-09</td>\n",
              "      <td>3.783415e-14</td>\n",
              "      <td>1.643645e-08</td>\n",
              "      <td>5.532963e-14</td>\n",
              "      <td>6.282140e-14</td>\n",
              "      <td>4.607375e-17</td>\n",
              "      <td>1.309946e-11</td>\n",
              "      <td>3.092039e-11</td>\n",
              "      <td>7.452147e-22</td>\n",
              "      <td>4.394473e-11</td>\n",
              "      <td>1.088536e-15</td>\n",
              "      <td>2.117069e-24</td>\n",
              "      <td>4.288858e-20</td>\n",
              "      <td>5.280075e-13</td>\n",
              "      <td>5.884295e-10</td>\n",
              "      <td>1.402572e-18</td>\n",
              "      <td>2.369790e-19</td>\n",
              "      <td>2.703921e-25</td>\n",
              "      <td>1.298167e-25</td>\n",
              "      <td>1.722164e-15</td>\n",
              "      <td>7.283143e-18</td>\n",
              "      <td>2.326419e-12</td>\n",
              "      <td>5.430482e-13</td>\n",
              "      <td>2.556985e-10</td>\n",
              "      <td>3.382436e-23</td>\n",
              "      <td>3.044169e-13</td>\n",
              "      <td>3.465785e-13</td>\n",
              "      <td>2.858877e-16</td>\n",
              "      <td>8.023227e-12</td>\n",
              "      <td>4.623263e-14</td>\n",
              "      <td>3.211101e-14</td>\n",
              "      <td>1.156736e-15</td>\n",
              "      <td>1.294215e-05</td>\n",
              "      <td>9.116846e-15</td>\n",
              "      <td>...</td>\n",
              "      <td>3.962695e-17</td>\n",
              "      <td>7.111863e-15</td>\n",
              "      <td>5.034462e-12</td>\n",
              "      <td>1.447316e-10</td>\n",
              "      <td>4.599868e-13</td>\n",
              "      <td>4.026403e-10</td>\n",
              "      <td>3.038250e-14</td>\n",
              "      <td>9.373068e-02</td>\n",
              "      <td>9.048102e-01</td>\n",
              "      <td>7.792117e-12</td>\n",
              "      <td>1.958551e-17</td>\n",
              "      <td>6.193665e-08</td>\n",
              "      <td>3.432248e-13</td>\n",
              "      <td>2.426992e-15</td>\n",
              "      <td>2.701543e-22</td>\n",
              "      <td>2.710279e-20</td>\n",
              "      <td>1.891118e-07</td>\n",
              "      <td>8.048625e-23</td>\n",
              "      <td>1.420690e-21</td>\n",
              "      <td>5.219397e-28</td>\n",
              "      <td>1.806965e-12</td>\n",
              "      <td>1.945033e-14</td>\n",
              "      <td>1.565731e-13</td>\n",
              "      <td>1.157151e-15</td>\n",
              "      <td>4.004450e-19</td>\n",
              "      <td>3.965090e-29</td>\n",
              "      <td>5.345926e-12</td>\n",
              "      <td>5.307684e-27</td>\n",
              "      <td>1.916389e-23</td>\n",
              "      <td>7.417440e-20</td>\n",
              "      <td>5.279452e-20</td>\n",
              "      <td>2.658648e-20</td>\n",
              "      <td>3.068074e-24</td>\n",
              "      <td>3.660957e-15</td>\n",
              "      <td>1.754284e-22</td>\n",
              "      <td>1.533650e-13</td>\n",
              "      <td>1.742231e-16</td>\n",
              "      <td>1.143261e-20</td>\n",
              "      <td>2.567999e-20</td>\n",
              "      <td>3.337663e-24</td>\n",
              "    </tr>\n",
              "    <tr>\n",
              "      <th>3</th>\n",
              "      <td>audio_files/0OTDVG8.wav</td>\n",
              "      <td>1.879790e-31</td>\n",
              "      <td>1.203771e-29</td>\n",
              "      <td>7.232094e-19</td>\n",
              "      <td>9.981795e-28</td>\n",
              "      <td>4.626679e-18</td>\n",
              "      <td>8.781736e-26</td>\n",
              "      <td>4.399481e-16</td>\n",
              "      <td>2.623160e-27</td>\n",
              "      <td>3.630593e-19</td>\n",
              "      <td>2.200257e-15</td>\n",
              "      <td>2.067764e-21</td>\n",
              "      <td>2.441796e-23</td>\n",
              "      <td>1.568661e-21</td>\n",
              "      <td>1.183805e-25</td>\n",
              "      <td>1.178816e-26</td>\n",
              "      <td>4.402082e-24</td>\n",
              "      <td>0.000000e+00</td>\n",
              "      <td>0.000000e+00</td>\n",
              "      <td>1.742061e-15</td>\n",
              "      <td>2.158135e-09</td>\n",
              "      <td>3.316518e-33</td>\n",
              "      <td>3.939446e-30</td>\n",
              "      <td>0.000000e+00</td>\n",
              "      <td>0.000000e+00</td>\n",
              "      <td>0.000000e+00</td>\n",
              "      <td>1.910071e-37</td>\n",
              "      <td>3.194015e-35</td>\n",
              "      <td>2.111875e-25</td>\n",
              "      <td>5.206925e-23</td>\n",
              "      <td>0.000000e+00</td>\n",
              "      <td>5.075631e-22</td>\n",
              "      <td>1.305066e-23</td>\n",
              "      <td>1.976965e-17</td>\n",
              "      <td>1.775343e-14</td>\n",
              "      <td>2.682849e-18</td>\n",
              "      <td>2.911919e-09</td>\n",
              "      <td>9.369792e-16</td>\n",
              "      <td>7.496846e-11</td>\n",
              "      <td>1.046107e-20</td>\n",
              "      <td>...</td>\n",
              "      <td>5.361973e-16</td>\n",
              "      <td>1.861469e-19</td>\n",
              "      <td>2.602553e-23</td>\n",
              "      <td>1.824761e-20</td>\n",
              "      <td>1.221360e-32</td>\n",
              "      <td>7.743040e-23</td>\n",
              "      <td>4.222265e-16</td>\n",
              "      <td>6.618370e-25</td>\n",
              "      <td>4.828253e-24</td>\n",
              "      <td>2.032970e-25</td>\n",
              "      <td>2.077951e-26</td>\n",
              "      <td>9.741364e-32</td>\n",
              "      <td>1.268754e-26</td>\n",
              "      <td>1.243769e-17</td>\n",
              "      <td>0.000000e+00</td>\n",
              "      <td>4.668119e-22</td>\n",
              "      <td>4.918198e-20</td>\n",
              "      <td>3.411861e-35</td>\n",
              "      <td>6.418324e-23</td>\n",
              "      <td>0.000000e+00</td>\n",
              "      <td>2.063786e-27</td>\n",
              "      <td>8.914109e-26</td>\n",
              "      <td>8.520477e-20</td>\n",
              "      <td>9.297546e-24</td>\n",
              "      <td>1.572669e-37</td>\n",
              "      <td>0.000000e+00</td>\n",
              "      <td>5.997799e-31</td>\n",
              "      <td>0.000000e+00</td>\n",
              "      <td>0.000000e+00</td>\n",
              "      <td>3.177639e-31</td>\n",
              "      <td>1.950043e-28</td>\n",
              "      <td>6.124540e-33</td>\n",
              "      <td>6.722298e-29</td>\n",
              "      <td>4.878276e-32</td>\n",
              "      <td>6.883808e-38</td>\n",
              "      <td>1.252150e-27</td>\n",
              "      <td>0.000000e+00</td>\n",
              "      <td>2.446794e-23</td>\n",
              "      <td>1.608419e-27</td>\n",
              "      <td>2.116236e-34</td>\n",
              "    </tr>\n",
              "    <tr>\n",
              "      <th>4</th>\n",
              "      <td>audio_files/0PMQWEQ.wav</td>\n",
              "      <td>5.122804e-12</td>\n",
              "      <td>2.186448e-24</td>\n",
              "      <td>1.208141e-14</td>\n",
              "      <td>2.242747e-20</td>\n",
              "      <td>3.563011e-15</td>\n",
              "      <td>8.800594e-22</td>\n",
              "      <td>2.809051e-09</td>\n",
              "      <td>1.473788e-14</td>\n",
              "      <td>1.492479e-16</td>\n",
              "      <td>2.875748e-20</td>\n",
              "      <td>3.154078e-07</td>\n",
              "      <td>8.848143e-18</td>\n",
              "      <td>2.572594e-15</td>\n",
              "      <td>5.947461e-10</td>\n",
              "      <td>1.730588e-15</td>\n",
              "      <td>5.420776e-13</td>\n",
              "      <td>2.023517e-29</td>\n",
              "      <td>3.048119e-13</td>\n",
              "      <td>6.165294e-05</td>\n",
              "      <td>3.252063e-08</td>\n",
              "      <td>4.780478e-21</td>\n",
              "      <td>1.248922e-17</td>\n",
              "      <td>1.550191e-27</td>\n",
              "      <td>1.436944e-28</td>\n",
              "      <td>2.754509e-31</td>\n",
              "      <td>5.407106e-27</td>\n",
              "      <td>1.833391e-12</td>\n",
              "      <td>1.277268e-14</td>\n",
              "      <td>2.336272e-13</td>\n",
              "      <td>1.394358e-24</td>\n",
              "      <td>9.065954e-11</td>\n",
              "      <td>4.907104e-11</td>\n",
              "      <td>1.237320e-14</td>\n",
              "      <td>1.075100e-07</td>\n",
              "      <td>3.908471e-16</td>\n",
              "      <td>1.572857e-17</td>\n",
              "      <td>2.740764e-19</td>\n",
              "      <td>1.630400e-16</td>\n",
              "      <td>2.240515e-12</td>\n",
              "      <td>...</td>\n",
              "      <td>1.205794e-11</td>\n",
              "      <td>2.362130e-17</td>\n",
              "      <td>3.412498e-19</td>\n",
              "      <td>8.859750e-13</td>\n",
              "      <td>8.427321e-25</td>\n",
              "      <td>2.530137e-11</td>\n",
              "      <td>2.550686e-15</td>\n",
              "      <td>4.904677e-16</td>\n",
              "      <td>5.061301e-14</td>\n",
              "      <td>3.180621e-16</td>\n",
              "      <td>8.462536e-09</td>\n",
              "      <td>1.077086e-16</td>\n",
              "      <td>6.268728e-16</td>\n",
              "      <td>5.258751e-12</td>\n",
              "      <td>1.092182e-26</td>\n",
              "      <td>1.944670e-13</td>\n",
              "      <td>9.554452e-14</td>\n",
              "      <td>3.735308e-26</td>\n",
              "      <td>4.114292e-13</td>\n",
              "      <td>2.193281e-32</td>\n",
              "      <td>4.702036e-15</td>\n",
              "      <td>8.517388e-19</td>\n",
              "      <td>2.113557e-11</td>\n",
              "      <td>1.677549e-13</td>\n",
              "      <td>4.782188e-23</td>\n",
              "      <td>1.725205e-19</td>\n",
              "      <td>2.848130e-18</td>\n",
              "      <td>2.677423e-30</td>\n",
              "      <td>9.110904e-37</td>\n",
              "      <td>7.432473e-22</td>\n",
              "      <td>7.331684e-23</td>\n",
              "      <td>3.307005e-17</td>\n",
              "      <td>3.664169e-16</td>\n",
              "      <td>2.899342e-13</td>\n",
              "      <td>1.040992e-17</td>\n",
              "      <td>1.539406e-20</td>\n",
              "      <td>9.217286e-21</td>\n",
              "      <td>3.311923e-28</td>\n",
              "      <td>2.725541e-12</td>\n",
              "      <td>6.311048e-18</td>\n",
              "    </tr>\n",
              "  </tbody>\n",
              "</table>\n",
              "<p>5 rows × 194 columns</p>\n",
              "</div>"
            ],
            "text/plain": [
              "                        fn       ddagala  ...        banana       ekikolo\n",
              "0  audio_files/0MV7LQS.wav  9.444735e-24  ...  2.872108e-25  6.925410e-38\n",
              "1  audio_files/0L47WFH.wav  5.079751e-06  ...  5.581711e-05  5.007330e-06\n",
              "2  audio_files/0N7JNLT.wav  2.098820e-20  ...  2.567999e-20  3.337663e-24\n",
              "3  audio_files/0OTDVG8.wav  1.879790e-31  ...  1.608419e-27  2.116236e-34\n",
              "4  audio_files/0PMQWEQ.wav  5.122804e-12  ...  2.725541e-12  6.311048e-18\n",
              "\n",
              "[5 rows x 194 columns]"
            ]
          },
          "metadata": {
            "tags": []
          },
          "execution_count": 79
        }
      ]
    },
    {
      "cell_type": "code",
      "metadata": {
        "id": "PeO8cTZoMDLK"
      },
      "source": [
        "first_submission.to_csv('/content/drive/My Drive/data/submissions/first_submission.csv', index=False)"
      ],
      "execution_count": null,
      "outputs": []
    },
    {
      "cell_type": "markdown",
      "metadata": {
        "id": "bnGXLhiv6MtI"
      },
      "source": [
        "# Building a CNN model with DataGenerator \n",
        "To reduce RAM issues, a DataGenerator is recommended \n",
        "Inspiration: https://stanford.edu/~shervine/blog/keras-how-to-generate-data-on-the-fly"
      ]
    },
    {
      "cell_type": "code",
      "metadata": {
        "id": "n_v5pjc36MaZ"
      },
      "source": [
        "# Load train labels\n",
        "train = pd.read_csv('/content/drive/My Drive/ZINDI/train_full.csv')"
      ],
      "execution_count": null,
      "outputs": []
    },
    {
      "cell_type": "code",
      "metadata": {
        "id": "6uDjBihm9p-j",
        "colab": {
          "base_uri": "https://localhost:8080/",
          "height": 204
        },
        "outputId": "7337d952-f758-4316-f61a-b7f5be300a5a"
      },
      "source": [
        "train.head()"
      ],
      "execution_count": null,
      "outputs": [
        {
          "output_type": "execute_result",
          "data": {
            "text/html": [
              "<div>\n",
              "<style scoped>\n",
              "    .dataframe tbody tr th:only-of-type {\n",
              "        vertical-align: middle;\n",
              "    }\n",
              "\n",
              "    .dataframe tbody tr th {\n",
              "        vertical-align: top;\n",
              "    }\n",
              "\n",
              "    .dataframe thead th {\n",
              "        text-align: right;\n",
              "    }\n",
              "</style>\n",
              "<table border=\"1\" class=\"dataframe\">\n",
              "  <thead>\n",
              "    <tr style=\"text-align: right;\">\n",
              "      <th></th>\n",
              "      <th>fn</th>\n",
              "      <th>label</th>\n",
              "    </tr>\n",
              "  </thead>\n",
              "  <tbody>\n",
              "    <tr>\n",
              "      <th>0</th>\n",
              "      <td>audio_files/IV38R7F.wav</td>\n",
              "      <td>akawuka</td>\n",
              "    </tr>\n",
              "    <tr>\n",
              "      <th>1</th>\n",
              "      <td>audio_files/KM4SKWT.wav</td>\n",
              "      <td>banana</td>\n",
              "    </tr>\n",
              "    <tr>\n",
              "      <th>2</th>\n",
              "      <td>audio_files/F5POSU9.wav</td>\n",
              "      <td>obulwadde</td>\n",
              "    </tr>\n",
              "    <tr>\n",
              "      <th>3</th>\n",
              "      <td>audio_files/MMVDXG2.wav</td>\n",
              "      <td>nnyaanya</td>\n",
              "    </tr>\n",
              "    <tr>\n",
              "      <th>4</th>\n",
              "      <td>audio_files/9TVM96F.wav</td>\n",
              "      <td>pampu</td>\n",
              "    </tr>\n",
              "  </tbody>\n",
              "</table>\n",
              "</div>"
            ],
            "text/plain": [
              "                        fn      label\n",
              "0  audio_files/IV38R7F.wav    akawuka\n",
              "1  audio_files/KM4SKWT.wav     banana\n",
              "2  audio_files/F5POSU9.wav  obulwadde\n",
              "3  audio_files/MMVDXG2.wav   nnyaanya\n",
              "4  audio_files/9TVM96F.wav      pampu"
            ]
          },
          "metadata": {
            "tags": []
          },
          "execution_count": 5
        }
      ]
    },
    {
      "cell_type": "markdown",
      "metadata": {
        "id": "xEVzv3xB8XT4"
      },
      "source": [
        "## Data Generator by keras"
      ]
    },
    {
      "cell_type": "code",
      "metadata": {
        "id": "6X2w_QgW7490"
      },
      "source": [
        "# see also: https://keras.io/api/preprocessing/image/#imagedatasetfromdirectory-function\n",
        "# generate train dataset from directory\n",
        "train_ds = tf.keras.preprocessing.image_dataset_from_directory(\n",
        "    '/content/drive/My Drive/ZINDI/data_new_order/spectrogram_train/',\n",
        "    labels=\"inferred\",\n",
        "    label_mode=\"categorical\",\n",
        "    class_names=None,\n",
        "    color_mode=\"rgb\",\n",
        "    batch_size=32,\n",
        "    image_size=(256, 256),\n",
        "    shuffle=True,\n",
        "    seed=42,\n",
        "    validation_split=0.2,\n",
        "    subset='training',\n",
        "    interpolation=\"bilinear\",\n",
        "    follow_links=False,\n",
        ")\n",
        "\n",
        "# generate validation dataset from directory\n",
        "validation_ds = tf.keras.preprocessing.image_dataset_from_directory(\n",
        "    '/content/drive/My Drive/ZINDI/data_new_order/spectrogram_train/',\n",
        "    labels=\"inferred\",\n",
        "    label_mode=\"categorical\",\n",
        "    class_names=None,\n",
        "    color_mode=\"rgb\",\n",
        "    batch_size=32,\n",
        "    image_size=(256, 256),\n",
        "    shuffle=True,\n",
        "    seed=42,\n",
        "    validation_split=0.2,\n",
        "    subset='validation',\n",
        "    interpolation=\"bilinear\",\n",
        "    follow_links=False,\n",
        ")"
      ],
      "execution_count": null,
      "outputs": []
    },
    {
      "cell_type": "code",
      "metadata": {
        "colab": {
          "base_uri": "https://localhost:8080/"
        },
        "id": "9wLya2Ym747U",
        "outputId": "a2d528e4-08e7-49ea-f2bb-8b3a1bd798fd"
      },
      "source": [
        "type(train_ds)"
      ],
      "execution_count": null,
      "outputs": [
        {
          "output_type": "execute_result",
          "data": {
            "text/plain": [
              "tensorflow.python.data.ops.dataset_ops.BatchDataset"
            ]
          },
          "metadata": {
            "tags": []
          },
          "execution_count": 7
        }
      ]
    },
    {
      "cell_type": "markdown",
      "metadata": {
        "id": "2zI1hGTTJh81"
      },
      "source": [
        "### Simple model architecture"
      ]
    },
    {
      "cell_type": "code",
      "metadata": {
        "colab": {
          "base_uri": "https://localhost:8080/"
        },
        "id": "HdC8D4BPYqBb",
        "outputId": "44df3764-2451-4676-8513-3939866491fd"
      },
      "source": [
        "#Define Model architecture\n",
        "model = Sequential()\n",
        "\n",
        "model.add(Conv2D(32, kernel_size=(3, 3), activation='relu', input_shape=(256, 256, 3)))\n",
        "model.add(MaxPooling2D(pool_size=(2, 2)))\n",
        "model.add(Conv2D(64, kernel_size=(3, 3), activation='relu'))\n",
        "model.add(MaxPooling2D(pool_size=(2, 2)))\n",
        "model.add(Dropout(0.1))\n",
        "model.add(Flatten())\n",
        "model.add(Dense(500, activation='relu'))\n",
        "model.add(Dropout(0.1))\n",
        "model.add(Dense(193, activation='softmax'))\n",
        "\n",
        "#Compile\n",
        "model.compile(loss='categorical_crossentropy', optimizer='adam', metrics=['acc'])\n",
        "print(model.summary())"
      ],
      "execution_count": null,
      "outputs": [
        {
          "output_type": "stream",
          "text": [
            "Model: \"sequential\"\n",
            "_________________________________________________________________\n",
            "Layer (type)                 Output Shape              Param #   \n",
            "=================================================================\n",
            "conv2d (Conv2D)              (None, 254, 254, 32)      896       \n",
            "_________________________________________________________________\n",
            "max_pooling2d (MaxPooling2D) (None, 127, 127, 32)      0         \n",
            "_________________________________________________________________\n",
            "conv2d_1 (Conv2D)            (None, 125, 125, 64)      18496     \n",
            "_________________________________________________________________\n",
            "max_pooling2d_1 (MaxPooling2 (None, 62, 62, 64)        0         \n",
            "_________________________________________________________________\n",
            "dropout (Dropout)            (None, 62, 62, 64)        0         \n",
            "_________________________________________________________________\n",
            "flatten (Flatten)            (None, 246016)            0         \n",
            "_________________________________________________________________\n",
            "dense (Dense)                (None, 500)               123008500 \n",
            "_________________________________________________________________\n",
            "dropout_1 (Dropout)          (None, 500)               0         \n",
            "_________________________________________________________________\n",
            "dense_1 (Dense)              (None, 193)               96693     \n",
            "=================================================================\n",
            "Total params: 123,124,585\n",
            "Trainable params: 123,124,585\n",
            "Non-trainable params: 0\n",
            "_________________________________________________________________\n",
            "None\n"
          ],
          "name": "stdout"
        }
      ]
    },
    {
      "cell_type": "markdown",
      "metadata": {
        "id": "SZV3lrM2JnsJ"
      },
      "source": [
        "### Transfer Learning architecture with VGG16"
      ]
    },
    {
      "cell_type": "code",
      "metadata": {
        "colab": {
          "base_uri": "https://localhost:8080/"
        },
        "id": "b_QX-egI94cd",
        "outputId": "f072079f-3a7d-4a4a-845e-61523e9338f2"
      },
      "source": [
        "# Define Transfer Learning architecture\n",
        "# Load VGG16\n",
        "VGG16 = tf.keras.applications.VGG16(include_top = False, \n",
        "                                    weights = 'imagenet', \n",
        "                                    input_shape = (img_width, img_height, 3))"
      ],
      "execution_count": null,
      "outputs": [
        {
          "output_type": "stream",
          "text": [
            "Downloading data from https://storage.googleapis.com/tensorflow/keras-applications/vgg16/vgg16_weights_tf_dim_ordering_tf_kernels_notop.h5\n",
            "58892288/58889256 [==============================] - 0s 0us/step\n"
          ],
          "name": "stdout"
        }
      ]
    },
    {
      "cell_type": "code",
      "metadata": {
        "colab": {
          "base_uri": "https://localhost:8080/"
        },
        "id": "6yzIMr8u9_Mb",
        "outputId": "2163be5f-188f-442f-bd6c-03d680ec111a"
      },
      "source": [
        "VGG16.summary()"
      ],
      "execution_count": null,
      "outputs": [
        {
          "output_type": "stream",
          "text": [
            "Model: \"vgg16\"\n",
            "_________________________________________________________________\n",
            "Layer (type)                 Output Shape              Param #   \n",
            "=================================================================\n",
            "input_1 (InputLayer)         [(None, 256, 256, 3)]     0         \n",
            "_________________________________________________________________\n",
            "block1_conv1 (Conv2D)        (None, 256, 256, 64)      1792      \n",
            "_________________________________________________________________\n",
            "block1_conv2 (Conv2D)        (None, 256, 256, 64)      36928     \n",
            "_________________________________________________________________\n",
            "block1_pool (MaxPooling2D)   (None, 128, 128, 64)      0         \n",
            "_________________________________________________________________\n",
            "block2_conv1 (Conv2D)        (None, 128, 128, 128)     73856     \n",
            "_________________________________________________________________\n",
            "block2_conv2 (Conv2D)        (None, 128, 128, 128)     147584    \n",
            "_________________________________________________________________\n",
            "block2_pool (MaxPooling2D)   (None, 64, 64, 128)       0         \n",
            "_________________________________________________________________\n",
            "block3_conv1 (Conv2D)        (None, 64, 64, 256)       295168    \n",
            "_________________________________________________________________\n",
            "block3_conv2 (Conv2D)        (None, 64, 64, 256)       590080    \n",
            "_________________________________________________________________\n",
            "block3_conv3 (Conv2D)        (None, 64, 64, 256)       590080    \n",
            "_________________________________________________________________\n",
            "block3_pool (MaxPooling2D)   (None, 32, 32, 256)       0         \n",
            "_________________________________________________________________\n",
            "block4_conv1 (Conv2D)        (None, 32, 32, 512)       1180160   \n",
            "_________________________________________________________________\n",
            "block4_conv2 (Conv2D)        (None, 32, 32, 512)       2359808   \n",
            "_________________________________________________________________\n",
            "block4_conv3 (Conv2D)        (None, 32, 32, 512)       2359808   \n",
            "_________________________________________________________________\n",
            "block4_pool (MaxPooling2D)   (None, 16, 16, 512)       0         \n",
            "_________________________________________________________________\n",
            "block5_conv1 (Conv2D)        (None, 16, 16, 512)       2359808   \n",
            "_________________________________________________________________\n",
            "block5_conv2 (Conv2D)        (None, 16, 16, 512)       2359808   \n",
            "_________________________________________________________________\n",
            "block5_conv3 (Conv2D)        (None, 16, 16, 512)       2359808   \n",
            "_________________________________________________________________\n",
            "block5_pool (MaxPooling2D)   (None, 8, 8, 512)         0         \n",
            "=================================================================\n",
            "Total params: 14,714,688\n",
            "Trainable params: 14,714,688\n",
            "Non-trainable params: 0\n",
            "_________________________________________________________________\n"
          ],
          "name": "stdout"
        }
      ]
    },
    {
      "cell_type": "code",
      "metadata": {
        "colab": {
          "base_uri": "https://localhost:8080/"
        },
        "id": "BEtUraaK9_Hm",
        "outputId": "bc912d6b-42a8-4ca1-b05b-6b17450f5dea"
      },
      "source": [
        "# Build classifier on top\n",
        "model_transfer = Sequential()\n",
        "model_transfer.add(VGG16)\n",
        "model_transfer.add(Flatten()) \n",
        "\n",
        "# 1-layer MLP with Dropout, BN\n",
        "model_transfer.add(Dropout(rate=0.1)) # Can try varying dropout rates\n",
        "model_transfer.add(Dense(512, activation='relu'))\n",
        "model_transfer.add(Dropout(rate=0.1)) # Can try varying dropout rates\n",
        "\n",
        "model_transfer.add(Dense(193, activation='softmax'))\n",
        "VGG16.trainable = False\n",
        "print(model_transfer.summary())\n",
        "model_transfer.compile(loss='categorical_crossentropy', optimizer='adam', metrics=['acc'])"
      ],
      "execution_count": null,
      "outputs": [
        {
          "output_type": "stream",
          "text": [
            "Model: \"sequential\"\n",
            "_________________________________________________________________\n",
            "Layer (type)                 Output Shape              Param #   \n",
            "=================================================================\n",
            "vgg16 (Functional)           (None, 8, 8, 512)         14714688  \n",
            "_________________________________________________________________\n",
            "flatten (Flatten)            (None, 32768)             0         \n",
            "_________________________________________________________________\n",
            "dropout (Dropout)            (None, 32768)             0         \n",
            "_________________________________________________________________\n",
            "dense (Dense)                (None, 512)               16777728  \n",
            "_________________________________________________________________\n",
            "dropout_1 (Dropout)          (None, 512)               0         \n",
            "_________________________________________________________________\n",
            "dense_1 (Dense)              (None, 193)               99009     \n",
            "=================================================================\n",
            "Total params: 31,591,425\n",
            "Trainable params: 16,876,737\n",
            "Non-trainable params: 14,714,688\n",
            "_________________________________________________________________\n",
            "None\n"
          ],
          "name": "stdout"
        }
      ]
    },
    {
      "cell_type": "markdown",
      "metadata": {
        "id": "n7VMymjxUemy"
      },
      "source": [
        "### Trying different Transfer models"
      ]
    },
    {
      "cell_type": "code",
      "metadata": {
        "colab": {
          "base_uri": "https://localhost:8080/"
        },
        "id": "eymVptFLUfVK",
        "outputId": "a61b86f6-ab14-4d73-ad07-fc6d0677783e"
      },
      "source": [
        "# Load pre-trained InceptionV3 model \n",
        "InceptionV3 = tf.keras.applications.InceptionV3(\n",
        "                include_top=False,\n",
        "                weights=\"imagenet\",\n",
        "                input_tensor=None,\n",
        "                input_shape=(img_width, img_height, 3),\n",
        "                pooling=None,\n",
        "                # classes=193,\n",
        "                classifier_activation=\"softmax\",\n",
        "              )"
      ],
      "execution_count": null,
      "outputs": [
        {
          "output_type": "stream",
          "text": [
            "Downloading data from https://storage.googleapis.com/tensorflow/keras-applications/inception_v3/inception_v3_weights_tf_dim_ordering_tf_kernels_notop.h5\n",
            "87916544/87910968 [==============================] - 1s 0us/step\n"
          ],
          "name": "stdout"
        }
      ]
    },
    {
      "cell_type": "code",
      "metadata": {
        "id": "3yiP4KYYVHmJ"
      },
      "source": [
        "InceptionV3.summary()"
      ],
      "execution_count": null,
      "outputs": []
    },
    {
      "cell_type": "code",
      "metadata": {
        "colab": {
          "base_uri": "https://localhost:8080/"
        },
        "id": "QWXH7ZFFVKal",
        "outputId": "5cb34bd1-9504-434f-b56f-60390fa9bae9"
      },
      "source": [
        "# Build classifier on top\n",
        "model_transfer = Sequential()\n",
        "model_transfer.add(InceptionV3)\n",
        "model_transfer.add(Flatten()) \n",
        "\n",
        "# 1-layer MLP with Dropout, BN\n",
        "model_transfer.add(Dropout(rate=0.1)) # Can try varying dropout rates\n",
        "model_transfer.add(Dense(512, activation='relu'))\n",
        "model_transfer.add(Dropout(rate=0.1)) # Can try varying dropout rates\n",
        "\n",
        "model_transfer.add(Dense(193, activation='softmax'))\n",
        "InceptionV3.trainable = False\n",
        "print(model_transfer.summary())\n",
        "model_transfer.compile(loss='categorical_crossentropy', optimizer='adam', metrics=['acc'])"
      ],
      "execution_count": null,
      "outputs": [
        {
          "output_type": "stream",
          "text": [
            "Model: \"sequential_2\"\n",
            "_________________________________________________________________\n",
            "Layer (type)                 Output Shape              Param #   \n",
            "=================================================================\n",
            "inception_v3 (Functional)    (None, 6, 6, 2048)        21802784  \n",
            "_________________________________________________________________\n",
            "flatten_1 (Flatten)          (None, 73728)             0         \n",
            "_________________________________________________________________\n",
            "dropout_2 (Dropout)          (None, 73728)             0         \n",
            "_________________________________________________________________\n",
            "dense_2 (Dense)              (None, 512)               37749248  \n",
            "_________________________________________________________________\n",
            "dropout_3 (Dropout)          (None, 512)               0         \n",
            "_________________________________________________________________\n",
            "dense_3 (Dense)              (None, 193)               99009     \n",
            "=================================================================\n",
            "Total params: 59,651,041\n",
            "Trainable params: 37,848,257\n",
            "Non-trainable params: 21,802,784\n",
            "_________________________________________________________________\n",
            "None\n"
          ],
          "name": "stdout"
        }
      ]
    },
    {
      "cell_type": "markdown",
      "metadata": {
        "id": "cj-7BwT6VK4G"
      },
      "source": [
        "## Training the model"
      ]
    },
    {
      "cell_type": "code",
      "metadata": {
        "colab": {
          "base_uri": "https://localhost:8080/"
        },
        "id": "SUTWoW8w744k",
        "outputId": "4b3ebac8-87ff-4e6d-c278-e1f95bbb3863"
      },
      "source": [
        "# old approach\n",
        "# model_transfer.fit(x=train_ds, validation_data=validation_ds, epochs=5, verbose=1) #, workers=4, use_multiprocessing=True)\n",
        "\n",
        "# Automatically save the best model only\n",
        "# Source: https://medium.com/@italojs/saving-your-weights-for-each-epoch-keras-callbacks-b494d9648202\n",
        "# Documentation https://www.tensorflow.org/api_docs/python/tf/keras/callbacks/ModelCheckpoint\n",
        "checkpoint = ModelCheckpoint(\"/content/drive/My Drive/ZINDI/models/best_model.hdf5\", \n",
        "                             monitor='val_loss',\n",
        "                             verbose=1,\n",
        "                             save_best_only=True,\n",
        "                             mode='min',\n",
        "                             save_freq='epoch')\n",
        "\n",
        "history = model_transfer.fit(x=train_ds, \n",
        "                             validation_data=validation_ds, \n",
        "                             epochs=80, \n",
        "                             verbose=1, \n",
        "                             callbacks=[checkpoint])"
      ],
      "execution_count": null,
      "outputs": [
        {
          "output_type": "stream",
          "text": [
            "Epoch 1/80\n",
            "118/118 [==============================] - ETA: 0s - loss: 33.5418 - acc: 0.0093 \n",
            "Epoch 00001: val_loss improved from inf to 5.24648, saving model to /content/drive/My Drive/ZINDI/models/best_model.hdf5\n",
            "118/118 [==============================] - 1652s 14s/step - loss: 33.5418 - acc: 0.0093 - val_loss: 5.2465 - val_acc: 0.0074\n",
            "Epoch 2/80\n",
            "118/118 [==============================] - ETA: 0s - loss: 5.3047 - acc: 0.0111\n",
            "Epoch 00002: val_loss improved from 5.24648 to 5.22911, saving model to /content/drive/My Drive/ZINDI/models/best_model.hdf5\n",
            "118/118 [==============================] - 56s 478ms/step - loss: 5.3047 - acc: 0.0111 - val_loss: 5.2291 - val_acc: 0.0074\n",
            "Epoch 3/80\n",
            "118/118 [==============================] - ETA: 0s - loss: 5.2155 - acc: 0.0111\n",
            "Epoch 00003: val_loss improved from 5.22911 to 5.21351, saving model to /content/drive/My Drive/ZINDI/models/best_model.hdf5\n",
            "118/118 [==============================] - 57s 479ms/step - loss: 5.2155 - acc: 0.0111 - val_loss: 5.2135 - val_acc: 0.0074\n",
            "Epoch 4/80\n",
            "118/118 [==============================] - ETA: 0s - loss: 5.1979 - acc: 0.0101\n",
            "Epoch 00004: val_loss improved from 5.21351 to 5.19971, saving model to /content/drive/My Drive/ZINDI/models/best_model.hdf5\n",
            "118/118 [==============================] - 56s 478ms/step - loss: 5.1979 - acc: 0.0101 - val_loss: 5.1997 - val_acc: 0.0074\n",
            "Epoch 5/80\n",
            "118/118 [==============================] - ETA: 0s - loss: 5.1819 - acc: 0.0090\n",
            "Epoch 00005: val_loss improved from 5.19971 to 5.18736, saving model to /content/drive/My Drive/ZINDI/models/best_model.hdf5\n",
            "118/118 [==============================] - 57s 480ms/step - loss: 5.1819 - acc: 0.0090 - val_loss: 5.1874 - val_acc: 0.0074\n",
            "Epoch 6/80\n",
            "118/118 [==============================] - ETA: 0s - loss: 5.1675 - acc: 0.0114\n",
            "Epoch 00006: val_loss improved from 5.18736 to 5.17652, saving model to /content/drive/My Drive/ZINDI/models/best_model.hdf5\n",
            "118/118 [==============================] - 58s 494ms/step - loss: 5.1675 - acc: 0.0114 - val_loss: 5.1765 - val_acc: 0.0096\n",
            "Epoch 7/80\n",
            "118/118 [==============================] - ETA: 0s - loss: 5.1546 - acc: 0.0133\n",
            "Epoch 00007: val_loss improved from 5.17652 to 5.16690, saving model to /content/drive/My Drive/ZINDI/models/best_model.hdf5\n",
            "118/118 [==============================] - 56s 477ms/step - loss: 5.1546 - acc: 0.0133 - val_loss: 5.1669 - val_acc: 0.0096\n",
            "Epoch 8/80\n",
            "118/118 [==============================] - ETA: 0s - loss: 5.3582 - acc: 0.0130\n",
            "Epoch 00008: val_loss improved from 5.16690 to 5.15863, saving model to /content/drive/My Drive/ZINDI/models/best_model.hdf5\n",
            "118/118 [==============================] - 56s 477ms/step - loss: 5.3582 - acc: 0.0130 - val_loss: 5.1586 - val_acc: 0.0096\n",
            "Epoch 9/80\n",
            "118/118 [==============================] - ETA: 0s - loss: 5.1322 - acc: 0.0133\n",
            "Epoch 00009: val_loss improved from 5.15863 to 5.15116, saving model to /content/drive/My Drive/ZINDI/models/best_model.hdf5\n",
            "118/118 [==============================] - 57s 482ms/step - loss: 5.1322 - acc: 0.0133 - val_loss: 5.1512 - val_acc: 0.0096\n",
            "Epoch 10/80\n",
            "118/118 [==============================] - ETA: 0s - loss: 5.1228 - acc: 0.0133\n",
            "Epoch 00010: val_loss improved from 5.15116 to 5.14456, saving model to /content/drive/My Drive/ZINDI/models/best_model.hdf5\n",
            "118/118 [==============================] - 57s 485ms/step - loss: 5.1228 - acc: 0.0133 - val_loss: 5.1446 - val_acc: 0.0096\n",
            "Epoch 11/80\n",
            "118/118 [==============================] - ETA: 0s - loss: 5.1142 - acc: 0.0133\n",
            "Epoch 00011: val_loss improved from 5.14456 to 5.13881, saving model to /content/drive/My Drive/ZINDI/models/best_model.hdf5\n",
            "118/118 [==============================] - 57s 485ms/step - loss: 5.1142 - acc: 0.0133 - val_loss: 5.1388 - val_acc: 0.0096\n",
            "Epoch 12/80\n",
            "118/118 [==============================] - ETA: 0s - loss: 5.1064 - acc: 0.0133\n",
            "Epoch 00012: val_loss improved from 5.13881 to 5.13364, saving model to /content/drive/My Drive/ZINDI/models/best_model.hdf5\n",
            "118/118 [==============================] - 56s 476ms/step - loss: 5.1064 - acc: 0.0133 - val_loss: 5.1336 - val_acc: 0.0096\n",
            "Epoch 13/80\n",
            "118/118 [==============================] - ETA: 0s - loss: 5.0994 - acc: 0.0133\n",
            "Epoch 00013: val_loss improved from 5.13364 to 5.12918, saving model to /content/drive/My Drive/ZINDI/models/best_model.hdf5\n",
            "118/118 [==============================] - 56s 478ms/step - loss: 5.0994 - acc: 0.0133 - val_loss: 5.1292 - val_acc: 0.0096\n",
            "Epoch 14/80\n",
            "118/118 [==============================] - ETA: 0s - loss: 5.0930 - acc: 0.0133\n",
            "Epoch 00014: val_loss improved from 5.12918 to 5.12519, saving model to /content/drive/My Drive/ZINDI/models/best_model.hdf5\n",
            "118/118 [==============================] - 57s 480ms/step - loss: 5.0930 - acc: 0.0133 - val_loss: 5.1252 - val_acc: 0.0096\n",
            "Epoch 15/80\n",
            "118/118 [==============================] - ETA: 0s - loss: 5.0872 - acc: 0.0133\n",
            "Epoch 00015: val_loss improved from 5.12519 to 5.12174, saving model to /content/drive/My Drive/ZINDI/models/best_model.hdf5\n",
            "118/118 [==============================] - 56s 475ms/step - loss: 5.0872 - acc: 0.0133 - val_loss: 5.1217 - val_acc: 0.0096\n",
            "Epoch 16/80\n",
            "118/118 [==============================] - ETA: 0s - loss: 5.0820 - acc: 0.0133\n",
            "Epoch 00016: val_loss improved from 5.12174 to 5.11863, saving model to /content/drive/My Drive/ZINDI/models/best_model.hdf5\n",
            "118/118 [==============================] - 57s 480ms/step - loss: 5.0820 - acc: 0.0133 - val_loss: 5.1186 - val_acc: 0.0096\n",
            "Epoch 17/80\n",
            "118/118 [==============================] - ETA: 0s - loss: 5.0771 - acc: 0.0133\n",
            "Epoch 00017: val_loss improved from 5.11863 to 5.11605, saving model to /content/drive/My Drive/ZINDI/models/best_model.hdf5\n",
            "118/118 [==============================] - 56s 477ms/step - loss: 5.0771 - acc: 0.0133 - val_loss: 5.1160 - val_acc: 0.0096\n",
            "Epoch 18/80\n",
            "118/118 [==============================] - ETA: 0s - loss: 5.0728 - acc: 0.0133\n",
            "Epoch 00018: val_loss improved from 5.11605 to 5.11365, saving model to /content/drive/My Drive/ZINDI/models/best_model.hdf5\n",
            "118/118 [==============================] - 56s 477ms/step - loss: 5.0728 - acc: 0.0133 - val_loss: 5.1137 - val_acc: 0.0096\n",
            "Epoch 19/80\n",
            "118/118 [==============================] - ETA: 0s - loss: 5.0689 - acc: 0.0133\n",
            "Epoch 00019: val_loss improved from 5.11365 to 5.11151, saving model to /content/drive/My Drive/ZINDI/models/best_model.hdf5\n",
            "118/118 [==============================] - 56s 475ms/step - loss: 5.0689 - acc: 0.0133 - val_loss: 5.1115 - val_acc: 0.0096\n",
            "Epoch 20/80\n",
            "118/118 [==============================] - ETA: 0s - loss: 5.0653 - acc: 0.0133\n",
            "Epoch 00020: val_loss improved from 5.11151 to 5.10976, saving model to /content/drive/My Drive/ZINDI/models/best_model.hdf5\n",
            "118/118 [==============================] - 57s 483ms/step - loss: 5.0653 - acc: 0.0133 - val_loss: 5.1098 - val_acc: 0.0096\n",
            "Epoch 21/80\n",
            "118/118 [==============================] - ETA: 0s - loss: 5.0620 - acc: 0.0133\n",
            "Epoch 00021: val_loss improved from 5.10976 to 5.10812, saving model to /content/drive/My Drive/ZINDI/models/best_model.hdf5\n",
            "118/118 [==============================] - 57s 479ms/step - loss: 5.0620 - acc: 0.0133 - val_loss: 5.1081 - val_acc: 0.0096\n",
            "Epoch 22/80\n",
            "118/118 [==============================] - ETA: 0s - loss: 5.0590 - acc: 0.0133\n",
            "Epoch 00022: val_loss improved from 5.10812 to 5.10678, saving model to /content/drive/My Drive/ZINDI/models/best_model.hdf5\n",
            "118/118 [==============================] - 57s 479ms/step - loss: 5.0590 - acc: 0.0133 - val_loss: 5.1068 - val_acc: 0.0096\n",
            "Epoch 23/80\n",
            "118/118 [==============================] - ETA: 0s - loss: 5.0562 - acc: 0.0133\n",
            "Epoch 00023: val_loss improved from 5.10678 to 5.10550, saving model to /content/drive/My Drive/ZINDI/models/best_model.hdf5\n",
            "118/118 [==============================] - 56s 477ms/step - loss: 5.0562 - acc: 0.0133 - val_loss: 5.1055 - val_acc: 0.0096\n",
            "Epoch 24/80\n",
            "118/118 [==============================] - ETA: 0s - loss: 5.0538 - acc: 0.0133\n",
            "Epoch 00024: val_loss improved from 5.10550 to 5.10450, saving model to /content/drive/My Drive/ZINDI/models/best_model.hdf5\n",
            "118/118 [==============================] - 57s 485ms/step - loss: 5.0538 - acc: 0.0133 - val_loss: 5.1045 - val_acc: 0.0096\n",
            "Epoch 25/80\n",
            "118/118 [==============================] - ETA: 0s - loss: 5.0515 - acc: 0.0133\n",
            "Epoch 00025: val_loss improved from 5.10450 to 5.10360, saving model to /content/drive/My Drive/ZINDI/models/best_model.hdf5\n",
            "118/118 [==============================] - 57s 480ms/step - loss: 5.0515 - acc: 0.0133 - val_loss: 5.1036 - val_acc: 0.0096\n",
            "Epoch 26/80\n",
            "118/118 [==============================] - ETA: 0s - loss: 5.0494 - acc: 0.0133\n",
            "Epoch 00026: val_loss improved from 5.10360 to 5.10282, saving model to /content/drive/My Drive/ZINDI/models/best_model.hdf5\n",
            "118/118 [==============================] - 57s 481ms/step - loss: 5.0494 - acc: 0.0133 - val_loss: 5.1028 - val_acc: 0.0096\n",
            "Epoch 27/80\n",
            "118/118 [==============================] - ETA: 0s - loss: 5.0475 - acc: 0.0133\n",
            "Epoch 00027: val_loss improved from 5.10282 to 5.10216, saving model to /content/drive/My Drive/ZINDI/models/best_model.hdf5\n",
            "118/118 [==============================] - 58s 490ms/step - loss: 5.0475 - acc: 0.0133 - val_loss: 5.1022 - val_acc: 0.0096\n",
            "Epoch 28/80\n",
            "118/118 [==============================] - ETA: 0s - loss: 5.0457 - acc: 0.0133\n",
            "Epoch 00028: val_loss improved from 5.10216 to 5.10158, saving model to /content/drive/My Drive/ZINDI/models/best_model.hdf5\n",
            "118/118 [==============================] - 57s 480ms/step - loss: 5.0457 - acc: 0.0133 - val_loss: 5.1016 - val_acc: 0.0096\n",
            "Epoch 29/80\n",
            "118/118 [==============================] - ETA: 0s - loss: 5.0441 - acc: 0.0133\n",
            "Epoch 00029: val_loss improved from 5.10158 to 5.10114, saving model to /content/drive/My Drive/ZINDI/models/best_model.hdf5\n",
            "118/118 [==============================] - 57s 487ms/step - loss: 5.0441 - acc: 0.0133 - val_loss: 5.1011 - val_acc: 0.0096\n",
            "Epoch 30/80\n",
            "118/118 [==============================] - ETA: 0s - loss: 5.0426 - acc: 0.0133\n",
            "Epoch 00030: val_loss improved from 5.10114 to 5.10069, saving model to /content/drive/My Drive/ZINDI/models/best_model.hdf5\n",
            "118/118 [==============================] - 57s 481ms/step - loss: 5.0426 - acc: 0.0133 - val_loss: 5.1007 - val_acc: 0.0096\n",
            "Epoch 31/80\n",
            "118/118 [==============================] - ETA: 0s - loss: 5.0412 - acc: 0.0133\n",
            "Epoch 00031: val_loss improved from 5.10069 to 5.10034, saving model to /content/drive/My Drive/ZINDI/models/best_model.hdf5\n",
            "118/118 [==============================] - 57s 483ms/step - loss: 5.0412 - acc: 0.0133 - val_loss: 5.1003 - val_acc: 0.0096\n",
            "Epoch 32/80\n",
            "118/118 [==============================] - ETA: 0s - loss: 5.0400 - acc: 0.0133\n",
            "Epoch 00032: val_loss improved from 5.10034 to 5.10000, saving model to /content/drive/My Drive/ZINDI/models/best_model.hdf5\n",
            "118/118 [==============================] - 58s 489ms/step - loss: 5.0400 - acc: 0.0133 - val_loss: 5.1000 - val_acc: 0.0096\n",
            "Epoch 33/80\n",
            "118/118 [==============================] - ETA: 0s - loss: 5.0388 - acc: 0.0133\n",
            "Epoch 00033: val_loss improved from 5.10000 to 5.09977, saving model to /content/drive/My Drive/ZINDI/models/best_model.hdf5\n",
            "118/118 [==============================] - 57s 481ms/step - loss: 5.0388 - acc: 0.0133 - val_loss: 5.0998 - val_acc: 0.0096\n",
            "Epoch 34/80\n",
            "118/118 [==============================] - ETA: 0s - loss: 5.0377 - acc: 0.0133\n",
            "Epoch 00034: val_loss improved from 5.09977 to 5.09962, saving model to /content/drive/My Drive/ZINDI/models/best_model.hdf5\n",
            "118/118 [==============================] - 57s 481ms/step - loss: 5.0377 - acc: 0.0133 - val_loss: 5.0996 - val_acc: 0.0096\n",
            "Epoch 35/80\n",
            "118/118 [==============================] - ETA: 0s - loss: 5.0368 - acc: 0.0133\n",
            "Epoch 00035: val_loss improved from 5.09962 to 5.09950, saving model to /content/drive/My Drive/ZINDI/models/best_model.hdf5\n",
            "118/118 [==============================] - 57s 483ms/step - loss: 5.0368 - acc: 0.0133 - val_loss: 5.0995 - val_acc: 0.0096\n",
            "Epoch 36/80\n",
            "118/118 [==============================] - ETA: 0s - loss: 5.0358 - acc: 0.0133\n",
            "Epoch 00036: val_loss improved from 5.09950 to 5.09939, saving model to /content/drive/My Drive/ZINDI/models/best_model.hdf5\n",
            "118/118 [==============================] - 57s 486ms/step - loss: 5.0358 - acc: 0.0133 - val_loss: 5.0994 - val_acc: 0.0096\n",
            "Epoch 37/80\n",
            "118/118 [==============================] - ETA: 0s - loss: 5.0350 - acc: 0.0133\n",
            "Epoch 00037: val_loss improved from 5.09939 to 5.09924, saving model to /content/drive/My Drive/ZINDI/models/best_model.hdf5\n",
            "118/118 [==============================] - 57s 487ms/step - loss: 5.0350 - acc: 0.0133 - val_loss: 5.0992 - val_acc: 0.0096\n",
            "Epoch 38/80\n",
            "118/118 [==============================] - ETA: 0s - loss: 5.0342 - acc: 0.0133\n",
            "Epoch 00038: val_loss improved from 5.09924 to 5.09918, saving model to /content/drive/My Drive/ZINDI/models/best_model.hdf5\n",
            "118/118 [==============================] - 57s 479ms/step - loss: 5.0342 - acc: 0.0133 - val_loss: 5.0992 - val_acc: 0.0096\n",
            "Epoch 39/80\n",
            "118/118 [==============================] - ETA: 0s - loss: 5.0335 - acc: 0.0133\n",
            "Epoch 00039: val_loss improved from 5.09918 to 5.09915, saving model to /content/drive/My Drive/ZINDI/models/best_model.hdf5\n",
            "118/118 [==============================] - 56s 478ms/step - loss: 5.0335 - acc: 0.0133 - val_loss: 5.0992 - val_acc: 0.0096\n",
            "Epoch 40/80\n",
            "118/118 [==============================] - ETA: 0s - loss: 5.0328 - acc: 0.0133\n",
            "Epoch 00040: val_loss did not improve from 5.09915\n",
            "118/118 [==============================] - 54s 456ms/step - loss: 5.0328 - acc: 0.0133 - val_loss: 5.0992 - val_acc: 0.0096\n",
            "Epoch 41/80\n",
            "118/118 [==============================] - ETA: 0s - loss: 5.0322 - acc: 0.0133\n",
            "Epoch 00041: val_loss did not improve from 5.09915\n",
            "118/118 [==============================] - 53s 447ms/step - loss: 5.0322 - acc: 0.0133 - val_loss: 5.0993 - val_acc: 0.0096\n",
            "Epoch 42/80\n",
            "118/118 [==============================] - ETA: 0s - loss: 5.0316 - acc: 0.0133\n",
            "Epoch 00042: val_loss did not improve from 5.09915\n",
            "118/118 [==============================] - 53s 447ms/step - loss: 5.0316 - acc: 0.0133 - val_loss: 5.0992 - val_acc: 0.0096\n",
            "Epoch 43/80\n",
            "118/118 [==============================] - ETA: 0s - loss: 5.0311 - acc: 0.0133\n",
            "Epoch 00043: val_loss did not improve from 5.09915\n",
            "118/118 [==============================] - 54s 455ms/step - loss: 5.0311 - acc: 0.0133 - val_loss: 5.0992 - val_acc: 0.0096\n",
            "Epoch 44/80\n",
            "118/118 [==============================] - ETA: 0s - loss: 5.0306 - acc: 0.0133\n",
            "Epoch 00044: val_loss did not improve from 5.09915\n",
            "118/118 [==============================] - 54s 454ms/step - loss: 5.0306 - acc: 0.0133 - val_loss: 5.0993 - val_acc: 0.0096\n",
            "Epoch 45/80\n",
            "118/118 [==============================] - ETA: 0s - loss: 5.0301 - acc: 0.0133\n",
            "Epoch 00045: val_loss did not improve from 5.09915\n",
            "118/118 [==============================] - 53s 449ms/step - loss: 5.0301 - acc: 0.0133 - val_loss: 5.0993 - val_acc: 0.0096\n",
            "Epoch 46/80\n",
            "118/118 [==============================] - ETA: 0s - loss: 5.0297 - acc: 0.0133\n",
            "Epoch 00046: val_loss did not improve from 5.09915\n",
            "118/118 [==============================] - 53s 451ms/step - loss: 5.0297 - acc: 0.0133 - val_loss: 5.0993 - val_acc: 0.0096\n",
            "Epoch 47/80\n",
            "118/118 [==============================] - ETA: 0s - loss: 5.0292 - acc: 0.0133\n",
            "Epoch 00047: val_loss did not improve from 5.09915\n",
            "118/118 [==============================] - 53s 453ms/step - loss: 5.0292 - acc: 0.0133 - val_loss: 5.0995 - val_acc: 0.0096\n",
            "Epoch 48/80\n",
            "118/118 [==============================] - ETA: 0s - loss: 5.0288 - acc: 0.0133\n",
            "Epoch 00048: val_loss did not improve from 5.09915\n",
            "118/118 [==============================] - 53s 452ms/step - loss: 5.0288 - acc: 0.0133 - val_loss: 5.0995 - val_acc: 0.0096\n",
            "Epoch 49/80\n",
            "118/118 [==============================] - ETA: 0s - loss: 5.0285 - acc: 0.0133\n",
            "Epoch 00049: val_loss did not improve from 5.09915\n",
            "118/118 [==============================] - 53s 447ms/step - loss: 5.0285 - acc: 0.0133 - val_loss: 5.0996 - val_acc: 0.0096\n",
            "Epoch 50/80\n",
            "118/118 [==============================] - ETA: 0s - loss: 5.0281 - acc: 0.0133\n",
            "Epoch 00050: val_loss did not improve from 5.09915\n",
            "118/118 [==============================] - 53s 451ms/step - loss: 5.0281 - acc: 0.0133 - val_loss: 5.0996 - val_acc: 0.0096\n",
            "Epoch 51/80\n",
            "118/118 [==============================] - ETA: 0s - loss: 5.0278 - acc: 0.0133\n",
            "Epoch 00051: val_loss did not improve from 5.09915\n",
            "118/118 [==============================] - 53s 450ms/step - loss: 5.0278 - acc: 0.0133 - val_loss: 5.0998 - val_acc: 0.0096\n",
            "Epoch 52/80\n",
            "118/118 [==============================] - ETA: 0s - loss: 5.0275 - acc: 0.0133\n",
            "Epoch 00052: val_loss did not improve from 5.09915\n",
            "118/118 [==============================] - 54s 454ms/step - loss: 5.0275 - acc: 0.0133 - val_loss: 5.0998 - val_acc: 0.0096\n",
            "Epoch 53/80\n",
            "118/118 [==============================] - ETA: 0s - loss: 5.0273 - acc: 0.0133\n",
            "Epoch 00053: val_loss did not improve from 5.09915\n",
            "118/118 [==============================] - 53s 451ms/step - loss: 5.0273 - acc: 0.0133 - val_loss: 5.1000 - val_acc: 0.0096\n",
            "Epoch 54/80\n",
            "118/118 [==============================] - ETA: 0s - loss: 5.0270 - acc: 0.0133\n",
            "Epoch 00054: val_loss did not improve from 5.09915\n",
            "118/118 [==============================] - 54s 454ms/step - loss: 5.0270 - acc: 0.0133 - val_loss: 5.1000 - val_acc: 0.0096\n",
            "Epoch 55/80\n",
            "118/118 [==============================] - ETA: 0s - loss: 5.0268 - acc: 0.0133\n",
            "Epoch 00055: val_loss did not improve from 5.09915\n",
            "118/118 [==============================] - 53s 450ms/step - loss: 5.0268 - acc: 0.0133 - val_loss: 5.1000 - val_acc: 0.0096\n",
            "Epoch 56/80\n",
            "118/118 [==============================] - ETA: 0s - loss: 5.0265 - acc: 0.0133\n",
            "Epoch 00056: val_loss did not improve from 5.09915\n",
            "118/118 [==============================] - 53s 453ms/step - loss: 5.0265 - acc: 0.0133 - val_loss: 5.1002 - val_acc: 0.0096\n",
            "Epoch 57/80\n",
            "118/118 [==============================] - ETA: 0s - loss: 5.0263 - acc: 0.0133\n",
            "Epoch 00057: val_loss did not improve from 5.09915\n",
            "118/118 [==============================] - 54s 454ms/step - loss: 5.0263 - acc: 0.0133 - val_loss: 5.1003 - val_acc: 0.0096\n",
            "Epoch 58/80\n",
            "118/118 [==============================] - ETA: 0s - loss: 5.0261 - acc: 0.0133\n",
            "Epoch 00058: val_loss did not improve from 5.09915\n",
            "118/118 [==============================] - 53s 450ms/step - loss: 5.0261 - acc: 0.0133 - val_loss: 5.1003 - val_acc: 0.0096\n",
            "Epoch 59/80\n",
            "118/118 [==============================] - ETA: 0s - loss: 5.0259 - acc: 0.0133\n",
            "Epoch 00059: val_loss did not improve from 5.09915\n",
            "118/118 [==============================] - 54s 459ms/step - loss: 5.0259 - acc: 0.0133 - val_loss: 5.1005 - val_acc: 0.0096\n",
            "Epoch 60/80\n",
            "118/118 [==============================] - ETA: 0s - loss: 5.0258 - acc: 0.0133\n",
            "Epoch 00060: val_loss did not improve from 5.09915\n",
            "118/118 [==============================] - 53s 449ms/step - loss: 5.0258 - acc: 0.0133 - val_loss: 5.1006 - val_acc: 0.0096\n",
            "Epoch 61/80\n",
            "118/118 [==============================] - ETA: 0s - loss: 5.0256 - acc: 0.0133\n",
            "Epoch 00061: val_loss did not improve from 5.09915\n",
            "118/118 [==============================] - 53s 451ms/step - loss: 5.0256 - acc: 0.0133 - val_loss: 5.1006 - val_acc: 0.0096\n",
            "Epoch 62/80\n",
            "118/118 [==============================] - ETA: 0s - loss: 5.0254 - acc: 0.0133\n",
            "Epoch 00062: val_loss did not improve from 5.09915\n",
            "118/118 [==============================] - 53s 451ms/step - loss: 5.0254 - acc: 0.0133 - val_loss: 5.1007 - val_acc: 0.0096\n",
            "Epoch 63/80\n",
            "118/118 [==============================] - ETA: 0s - loss: 5.0253 - acc: 0.0133\n",
            "Epoch 00063: val_loss did not improve from 5.09915\n",
            "118/118 [==============================] - 53s 450ms/step - loss: 5.0253 - acc: 0.0133 - val_loss: 5.1008 - val_acc: 0.0096\n",
            "Epoch 64/80\n",
            "118/118 [==============================] - ETA: 0s - loss: 5.0295 - acc: 0.0133\n",
            "Epoch 00064: val_loss did not improve from 5.09915\n",
            "118/118 [==============================] - 53s 449ms/step - loss: 5.0295 - acc: 0.0133 - val_loss: 5.1010 - val_acc: 0.0096\n",
            "Epoch 65/80\n",
            "118/118 [==============================] - ETA: 0s - loss: 5.0250 - acc: 0.0133\n",
            "Epoch 00065: val_loss did not improve from 5.09915\n",
            "118/118 [==============================] - 54s 454ms/step - loss: 5.0250 - acc: 0.0133 - val_loss: 5.1011 - val_acc: 0.0096\n",
            "Epoch 66/80\n",
            "118/118 [==============================] - ETA: 0s - loss: 5.0249 - acc: 0.0133\n",
            "Epoch 00066: val_loss did not improve from 5.09915\n",
            "118/118 [==============================] - 53s 449ms/step - loss: 5.0249 - acc: 0.0133 - val_loss: 5.1011 - val_acc: 0.0096\n",
            "Epoch 67/80\n",
            "118/118 [==============================] - ETA: 0s - loss: 5.0248 - acc: 0.0133\n",
            "Epoch 00067: val_loss did not improve from 5.09915\n",
            "118/118 [==============================] - 53s 451ms/step - loss: 5.0248 - acc: 0.0133 - val_loss: 5.1011 - val_acc: 0.0096\n",
            "Epoch 68/80\n",
            "118/118 [==============================] - ETA: 0s - loss: 5.0246 - acc: 0.0133\n",
            "Epoch 00068: val_loss did not improve from 5.09915\n",
            "118/118 [==============================] - 53s 453ms/step - loss: 5.0246 - acc: 0.0133 - val_loss: 5.1013 - val_acc: 0.0096\n",
            "Epoch 69/80\n",
            "118/118 [==============================] - ETA: 0s - loss: 5.0245 - acc: 0.0133\n",
            "Epoch 00069: val_loss did not improve from 5.09915\n",
            "118/118 [==============================] - 53s 446ms/step - loss: 5.0245 - acc: 0.0133 - val_loss: 5.1013 - val_acc: 0.0096\n",
            "Epoch 70/80\n",
            "118/118 [==============================] - ETA: 0s - loss: 5.0244 - acc: 0.0133\n",
            "Epoch 00070: val_loss did not improve from 5.09915\n",
            "118/118 [==============================] - 54s 454ms/step - loss: 5.0244 - acc: 0.0133 - val_loss: 5.1015 - val_acc: 0.0096\n",
            "Epoch 71/80\n",
            "118/118 [==============================] - ETA: 0s - loss: 5.0243 - acc: 0.0133\n",
            "Epoch 00071: val_loss did not improve from 5.09915\n",
            "118/118 [==============================] - 53s 447ms/step - loss: 5.0243 - acc: 0.0133 - val_loss: 5.1015 - val_acc: 0.0096\n",
            "Epoch 72/80\n",
            "118/118 [==============================] - ETA: 0s - loss: 5.0243 - acc: 0.0133\n",
            "Epoch 00072: val_loss did not improve from 5.09915\n",
            "118/118 [==============================] - 53s 447ms/step - loss: 5.0243 - acc: 0.0133 - val_loss: 5.1017 - val_acc: 0.0096\n",
            "Epoch 73/80\n",
            "118/118 [==============================] - ETA: 0s - loss: 5.0241 - acc: 0.0133\n",
            "Epoch 00073: val_loss did not improve from 5.09915\n",
            "118/118 [==============================] - 53s 448ms/step - loss: 5.0241 - acc: 0.0133 - val_loss: 5.1017 - val_acc: 0.0096\n",
            "Epoch 74/80\n",
            "118/118 [==============================] - ETA: 0s - loss: 5.0241 - acc: 0.0133\n",
            "Epoch 00074: val_loss did not improve from 5.09915\n",
            "118/118 [==============================] - 53s 453ms/step - loss: 5.0241 - acc: 0.0133 - val_loss: 5.1018 - val_acc: 0.0096\n",
            "Epoch 75/80\n",
            "118/118 [==============================] - ETA: 0s - loss: 5.0240 - acc: 0.0133\n",
            "Epoch 00075: val_loss did not improve from 5.09915\n",
            "118/118 [==============================] - 52s 445ms/step - loss: 5.0240 - acc: 0.0133 - val_loss: 5.1019 - val_acc: 0.0096\n",
            "Epoch 76/80\n",
            "118/118 [==============================] - ETA: 0s - loss: 5.0239 - acc: 0.0133\n",
            "Epoch 00076: val_loss did not improve from 5.09915\n",
            "118/118 [==============================] - 54s 457ms/step - loss: 5.0239 - acc: 0.0133 - val_loss: 5.1019 - val_acc: 0.0096\n",
            "Epoch 77/80\n",
            "118/118 [==============================] - ETA: 0s - loss: 5.0238 - acc: 0.0133\n",
            "Epoch 00077: val_loss did not improve from 5.09915\n",
            "118/118 [==============================] - 52s 445ms/step - loss: 5.0238 - acc: 0.0133 - val_loss: 5.1020 - val_acc: 0.0096\n",
            "Epoch 78/80\n",
            "118/118 [==============================] - ETA: 0s - loss: 5.0238 - acc: 0.0133\n",
            "Epoch 00078: val_loss did not improve from 5.09915\n",
            "118/118 [==============================] - 53s 449ms/step - loss: 5.0238 - acc: 0.0133 - val_loss: 5.1022 - val_acc: 0.0096\n",
            "Epoch 79/80\n",
            "118/118 [==============================] - ETA: 0s - loss: 5.0237 - acc: 0.0133\n",
            "Epoch 00079: val_loss did not improve from 5.09915\n",
            "118/118 [==============================] - 53s 447ms/step - loss: 5.0237 - acc: 0.0133 - val_loss: 5.1022 - val_acc: 0.0096\n",
            "Epoch 80/80\n",
            "118/118 [==============================] - ETA: 0s - loss: 5.0237 - acc: 0.0133\n",
            "Epoch 00080: val_loss did not improve from 5.09915\n",
            "118/118 [==============================] - 54s 454ms/step - loss: 5.0237 - acc: 0.0133 - val_loss: 5.1023 - val_acc: 0.0096\n"
          ],
          "name": "stdout"
        }
      ]
    },
    {
      "cell_type": "code",
      "metadata": {
        "id": "q9jZ55tahQ-y"
      },
      "source": [
        "# model.save('/content/drive/My Drive/ZINDI/models/model_with_dataloader.hdf5')\n",
        "\n",
        "model = load_model('/content/drive/My Drive/ZINDI/models/best_model.hdf5')"
      ],
      "execution_count": null,
      "outputs": []
    },
    {
      "cell_type": "code",
      "metadata": {
        "id": "vl8iC7jrSGVw"
      },
      "source": [
        "# summarize history for accuracy\n",
        "plt.plot(history.history['acc'])\n",
        "plt.plot(history.history['val_acc'])\n",
        "plt.title('model accuracy')\n",
        "plt.ylabel('accuracy')\n",
        "plt.xlabel('epoch')\n",
        "# plt.xticks(np.arange(0, 20, step=2))\n",
        "plt.legend(['train', 'test'], loc='upper left')\n",
        "plt.show()\n",
        "# summarize history for loss\n",
        "plt.plot(history.history['loss'])\n",
        "plt.plot(history.history['val_loss'])\n",
        "plt.title('model loss')\n",
        "plt.ylabel('loss')\n",
        "plt.xlabel('epoch')\n",
        "# plt.xticks(np.arange(0, 20, step=2))\n",
        "plt.legend(['train', 'test'], loc='upper left')\n",
        "plt.show()"
      ],
      "execution_count": null,
      "outputs": []
    },
    {
      "cell_type": "markdown",
      "metadata": {
        "id": "rQk6LZEMx7uL"
      },
      "source": [
        "## Create predictions from model\n",
        "\n",
        "Predictions are submitted in a given format which is shown in the SampleSubmission.csv file. Therefore we are also arranging the test files (rows) sorted alphanumerically and take over the order of labels (columns)"
      ]
    },
    {
      "cell_type": "code",
      "metadata": {
        "colab": {
          "base_uri": "https://localhost:8080/",
          "height": 287
        },
        "id": "gEC9qqdayBBz",
        "outputId": "49d8b4bf-bbab-4721-d020-6234136759a4"
      },
      "source": [
        "ss = pd.read_csv('/content/drive/My Drive/ZINDI/SampleSubmission.csv')\n",
        "ss.head()"
      ],
      "execution_count": null,
      "outputs": [
        {
          "output_type": "execute_result",
          "data": {
            "text/html": [
              "<div>\n",
              "<style scoped>\n",
              "    .dataframe tbody tr th:only-of-type {\n",
              "        vertical-align: middle;\n",
              "    }\n",
              "\n",
              "    .dataframe tbody tr th {\n",
              "        vertical-align: top;\n",
              "    }\n",
              "\n",
              "    .dataframe thead th {\n",
              "        text-align: right;\n",
              "    }\n",
              "</style>\n",
              "<table border=\"1\" class=\"dataframe\">\n",
              "  <thead>\n",
              "    <tr style=\"text-align: right;\">\n",
              "      <th></th>\n",
              "      <th>fn</th>\n",
              "      <th>maize streak virus</th>\n",
              "      <th>disease</th>\n",
              "      <th>okukkoola</th>\n",
              "      <th>muwogo</th>\n",
              "      <th>mpeke</th>\n",
              "      <th>mucungwa</th>\n",
              "      <th>greens</th>\n",
              "      <th>garden</th>\n",
              "      <th>mango</th>\n",
              "      <th>bulimi</th>\n",
              "      <th>obuwuka</th>\n",
              "      <th>ebikoola</th>\n",
              "      <th>obulimi</th>\n",
              "      <th>ebisoolisooli</th>\n",
              "      <th>kaamulali</th>\n",
              "      <th>eddagala</th>\n",
              "      <th>beans</th>\n",
              "      <th>omuyembe</th>\n",
              "      <th>leaf</th>\n",
              "      <th>kisaanyi</th>\n",
              "      <th>leaves</th>\n",
              "      <th>butterfly</th>\n",
              "      <th>okuzifuuyira</th>\n",
              "      <th>micungwa</th>\n",
              "      <th>ppaapaali</th>\n",
              "      <th>emboga</th>\n",
              "      <th>kikolo</th>\n",
              "      <th>harvest</th>\n",
              "      <th>olusuku</th>\n",
              "      <th>coffee</th>\n",
              "      <th>super grow</th>\n",
              "      <th>rice</th>\n",
              "      <th>ensujju</th>\n",
              "      <th>okulima</th>\n",
              "      <th>worm</th>\n",
              "      <th>ebbugga</th>\n",
              "      <th>onion</th>\n",
              "      <th>ensigo</th>\n",
              "      <th>plantation</th>\n",
              "      <th>...</th>\n",
              "      <th>ejjobyo</th>\n",
              "      <th>omulimi</th>\n",
              "      <th>okusimba</th>\n",
              "      <th>sweet potatoes</th>\n",
              "      <th>okufuuyira</th>\n",
              "      <th>farming instructor</th>\n",
              "      <th>nnasale beedi</th>\n",
              "      <th>passion fruit</th>\n",
              "      <th>ekitooke</th>\n",
              "      <th>ebisaanyi</th>\n",
              "      <th>ekyeya</th>\n",
              "      <th>enva endiirwa</th>\n",
              "      <th>emisiri</th>\n",
              "      <th>emiyembe</th>\n",
              "      <th>amatooke</th>\n",
              "      <th>ebiwuka</th>\n",
              "      <th>farm</th>\n",
              "      <th>ebinyebwa</th>\n",
              "      <th>amappapaali</th>\n",
              "      <th>ebimera</th>\n",
              "      <th>kassooli</th>\n",
              "      <th>harvesting</th>\n",
              "      <th>emmwanyi</th>\n",
              "      <th>akamonde</th>\n",
              "      <th>obumonde</th>\n",
              "      <th>cabbages</th>\n",
              "      <th>akasaanyi</th>\n",
              "      <th>spread</th>\n",
              "      <th>ebirime</th>\n",
              "      <th>drought</th>\n",
              "      <th>kasaanyi</th>\n",
              "      <th>suckers</th>\n",
              "      <th>insects</th>\n",
              "      <th>fertilizer</th>\n",
              "      <th>nakavundira</th>\n",
              "      <th>ekiwojjolo</th>\n",
              "      <th>akawuka</th>\n",
              "      <th>ddagala</th>\n",
              "      <th>ebiwojjolo</th>\n",
              "      <th>obutungulu</th>\n",
              "    </tr>\n",
              "  </thead>\n",
              "  <tbody>\n",
              "    <tr>\n",
              "      <th>0</th>\n",
              "      <td>audio_files/00118N3.wav</td>\n",
              "      <td>0</td>\n",
              "      <td>0</td>\n",
              "      <td>0</td>\n",
              "      <td>0</td>\n",
              "      <td>0</td>\n",
              "      <td>0</td>\n",
              "      <td>0</td>\n",
              "      <td>0</td>\n",
              "      <td>0</td>\n",
              "      <td>0</td>\n",
              "      <td>0</td>\n",
              "      <td>0</td>\n",
              "      <td>0</td>\n",
              "      <td>0</td>\n",
              "      <td>0</td>\n",
              "      <td>0</td>\n",
              "      <td>0</td>\n",
              "      <td>0</td>\n",
              "      <td>0</td>\n",
              "      <td>0</td>\n",
              "      <td>0</td>\n",
              "      <td>0</td>\n",
              "      <td>0</td>\n",
              "      <td>0</td>\n",
              "      <td>0</td>\n",
              "      <td>0</td>\n",
              "      <td>0</td>\n",
              "      <td>0</td>\n",
              "      <td>0</td>\n",
              "      <td>0</td>\n",
              "      <td>0</td>\n",
              "      <td>0</td>\n",
              "      <td>0</td>\n",
              "      <td>0</td>\n",
              "      <td>0</td>\n",
              "      <td>0</td>\n",
              "      <td>0</td>\n",
              "      <td>0</td>\n",
              "      <td>0</td>\n",
              "      <td>...</td>\n",
              "      <td>0</td>\n",
              "      <td>0</td>\n",
              "      <td>0</td>\n",
              "      <td>0</td>\n",
              "      <td>0</td>\n",
              "      <td>0</td>\n",
              "      <td>0</td>\n",
              "      <td>0</td>\n",
              "      <td>0</td>\n",
              "      <td>0</td>\n",
              "      <td>0</td>\n",
              "      <td>0</td>\n",
              "      <td>0</td>\n",
              "      <td>0</td>\n",
              "      <td>0</td>\n",
              "      <td>0</td>\n",
              "      <td>0</td>\n",
              "      <td>0</td>\n",
              "      <td>0</td>\n",
              "      <td>0</td>\n",
              "      <td>0</td>\n",
              "      <td>0</td>\n",
              "      <td>0</td>\n",
              "      <td>0</td>\n",
              "      <td>0</td>\n",
              "      <td>0</td>\n",
              "      <td>0</td>\n",
              "      <td>0</td>\n",
              "      <td>0</td>\n",
              "      <td>0</td>\n",
              "      <td>0</td>\n",
              "      <td>0</td>\n",
              "      <td>0</td>\n",
              "      <td>0</td>\n",
              "      <td>0</td>\n",
              "      <td>0</td>\n",
              "      <td>0</td>\n",
              "      <td>0</td>\n",
              "      <td>0</td>\n",
              "      <td>0</td>\n",
              "    </tr>\n",
              "    <tr>\n",
              "      <th>1</th>\n",
              "      <td>audio_files/00P0NMV.wav</td>\n",
              "      <td>0</td>\n",
              "      <td>0</td>\n",
              "      <td>0</td>\n",
              "      <td>0</td>\n",
              "      <td>0</td>\n",
              "      <td>0</td>\n",
              "      <td>0</td>\n",
              "      <td>0</td>\n",
              "      <td>0</td>\n",
              "      <td>0</td>\n",
              "      <td>0</td>\n",
              "      <td>0</td>\n",
              "      <td>0</td>\n",
              "      <td>0</td>\n",
              "      <td>0</td>\n",
              "      <td>0</td>\n",
              "      <td>0</td>\n",
              "      <td>0</td>\n",
              "      <td>0</td>\n",
              "      <td>0</td>\n",
              "      <td>0</td>\n",
              "      <td>0</td>\n",
              "      <td>0</td>\n",
              "      <td>0</td>\n",
              "      <td>0</td>\n",
              "      <td>0</td>\n",
              "      <td>0</td>\n",
              "      <td>0</td>\n",
              "      <td>0</td>\n",
              "      <td>0</td>\n",
              "      <td>0</td>\n",
              "      <td>0</td>\n",
              "      <td>0</td>\n",
              "      <td>0</td>\n",
              "      <td>0</td>\n",
              "      <td>0</td>\n",
              "      <td>0</td>\n",
              "      <td>0</td>\n",
              "      <td>0</td>\n",
              "      <td>...</td>\n",
              "      <td>0</td>\n",
              "      <td>0</td>\n",
              "      <td>0</td>\n",
              "      <td>0</td>\n",
              "      <td>0</td>\n",
              "      <td>0</td>\n",
              "      <td>0</td>\n",
              "      <td>0</td>\n",
              "      <td>0</td>\n",
              "      <td>0</td>\n",
              "      <td>0</td>\n",
              "      <td>0</td>\n",
              "      <td>0</td>\n",
              "      <td>0</td>\n",
              "      <td>0</td>\n",
              "      <td>0</td>\n",
              "      <td>0</td>\n",
              "      <td>0</td>\n",
              "      <td>0</td>\n",
              "      <td>0</td>\n",
              "      <td>0</td>\n",
              "      <td>0</td>\n",
              "      <td>0</td>\n",
              "      <td>0</td>\n",
              "      <td>0</td>\n",
              "      <td>0</td>\n",
              "      <td>0</td>\n",
              "      <td>0</td>\n",
              "      <td>0</td>\n",
              "      <td>0</td>\n",
              "      <td>0</td>\n",
              "      <td>0</td>\n",
              "      <td>0</td>\n",
              "      <td>0</td>\n",
              "      <td>0</td>\n",
              "      <td>0</td>\n",
              "      <td>0</td>\n",
              "      <td>0</td>\n",
              "      <td>0</td>\n",
              "      <td>0</td>\n",
              "    </tr>\n",
              "    <tr>\n",
              "      <th>2</th>\n",
              "      <td>audio_files/01QEEZI.wav</td>\n",
              "      <td>0</td>\n",
              "      <td>0</td>\n",
              "      <td>0</td>\n",
              "      <td>0</td>\n",
              "      <td>0</td>\n",
              "      <td>0</td>\n",
              "      <td>0</td>\n",
              "      <td>0</td>\n",
              "      <td>0</td>\n",
              "      <td>0</td>\n",
              "      <td>0</td>\n",
              "      <td>0</td>\n",
              "      <td>0</td>\n",
              "      <td>0</td>\n",
              "      <td>0</td>\n",
              "      <td>0</td>\n",
              "      <td>0</td>\n",
              "      <td>0</td>\n",
              "      <td>0</td>\n",
              "      <td>0</td>\n",
              "      <td>0</td>\n",
              "      <td>0</td>\n",
              "      <td>0</td>\n",
              "      <td>0</td>\n",
              "      <td>0</td>\n",
              "      <td>0</td>\n",
              "      <td>0</td>\n",
              "      <td>0</td>\n",
              "      <td>0</td>\n",
              "      <td>0</td>\n",
              "      <td>0</td>\n",
              "      <td>0</td>\n",
              "      <td>0</td>\n",
              "      <td>0</td>\n",
              "      <td>0</td>\n",
              "      <td>0</td>\n",
              "      <td>0</td>\n",
              "      <td>0</td>\n",
              "      <td>0</td>\n",
              "      <td>...</td>\n",
              "      <td>0</td>\n",
              "      <td>0</td>\n",
              "      <td>0</td>\n",
              "      <td>0</td>\n",
              "      <td>0</td>\n",
              "      <td>0</td>\n",
              "      <td>0</td>\n",
              "      <td>0</td>\n",
              "      <td>0</td>\n",
              "      <td>0</td>\n",
              "      <td>0</td>\n",
              "      <td>0</td>\n",
              "      <td>0</td>\n",
              "      <td>0</td>\n",
              "      <td>0</td>\n",
              "      <td>0</td>\n",
              "      <td>0</td>\n",
              "      <td>0</td>\n",
              "      <td>0</td>\n",
              "      <td>0</td>\n",
              "      <td>0</td>\n",
              "      <td>0</td>\n",
              "      <td>0</td>\n",
              "      <td>0</td>\n",
              "      <td>0</td>\n",
              "      <td>0</td>\n",
              "      <td>0</td>\n",
              "      <td>0</td>\n",
              "      <td>0</td>\n",
              "      <td>0</td>\n",
              "      <td>0</td>\n",
              "      <td>0</td>\n",
              "      <td>0</td>\n",
              "      <td>0</td>\n",
              "      <td>0</td>\n",
              "      <td>0</td>\n",
              "      <td>0</td>\n",
              "      <td>0</td>\n",
              "      <td>0</td>\n",
              "      <td>0</td>\n",
              "    </tr>\n",
              "    <tr>\n",
              "      <th>3</th>\n",
              "      <td>audio_files/037YAED.wav</td>\n",
              "      <td>0</td>\n",
              "      <td>0</td>\n",
              "      <td>0</td>\n",
              "      <td>0</td>\n",
              "      <td>0</td>\n",
              "      <td>0</td>\n",
              "      <td>0</td>\n",
              "      <td>0</td>\n",
              "      <td>0</td>\n",
              "      <td>0</td>\n",
              "      <td>0</td>\n",
              "      <td>0</td>\n",
              "      <td>0</td>\n",
              "      <td>0</td>\n",
              "      <td>0</td>\n",
              "      <td>0</td>\n",
              "      <td>0</td>\n",
              "      <td>0</td>\n",
              "      <td>0</td>\n",
              "      <td>0</td>\n",
              "      <td>0</td>\n",
              "      <td>0</td>\n",
              "      <td>0</td>\n",
              "      <td>0</td>\n",
              "      <td>0</td>\n",
              "      <td>0</td>\n",
              "      <td>0</td>\n",
              "      <td>0</td>\n",
              "      <td>0</td>\n",
              "      <td>0</td>\n",
              "      <td>0</td>\n",
              "      <td>0</td>\n",
              "      <td>0</td>\n",
              "      <td>0</td>\n",
              "      <td>0</td>\n",
              "      <td>0</td>\n",
              "      <td>0</td>\n",
              "      <td>0</td>\n",
              "      <td>0</td>\n",
              "      <td>...</td>\n",
              "      <td>0</td>\n",
              "      <td>0</td>\n",
              "      <td>0</td>\n",
              "      <td>0</td>\n",
              "      <td>0</td>\n",
              "      <td>0</td>\n",
              "      <td>0</td>\n",
              "      <td>0</td>\n",
              "      <td>0</td>\n",
              "      <td>0</td>\n",
              "      <td>0</td>\n",
              "      <td>0</td>\n",
              "      <td>0</td>\n",
              "      <td>0</td>\n",
              "      <td>0</td>\n",
              "      <td>0</td>\n",
              "      <td>0</td>\n",
              "      <td>0</td>\n",
              "      <td>0</td>\n",
              "      <td>0</td>\n",
              "      <td>0</td>\n",
              "      <td>0</td>\n",
              "      <td>0</td>\n",
              "      <td>0</td>\n",
              "      <td>0</td>\n",
              "      <td>0</td>\n",
              "      <td>0</td>\n",
              "      <td>0</td>\n",
              "      <td>0</td>\n",
              "      <td>0</td>\n",
              "      <td>0</td>\n",
              "      <td>0</td>\n",
              "      <td>0</td>\n",
              "      <td>0</td>\n",
              "      <td>0</td>\n",
              "      <td>0</td>\n",
              "      <td>0</td>\n",
              "      <td>0</td>\n",
              "      <td>0</td>\n",
              "      <td>0</td>\n",
              "    </tr>\n",
              "    <tr>\n",
              "      <th>4</th>\n",
              "      <td>audio_files/0382N0Y.wav</td>\n",
              "      <td>0</td>\n",
              "      <td>0</td>\n",
              "      <td>0</td>\n",
              "      <td>0</td>\n",
              "      <td>0</td>\n",
              "      <td>0</td>\n",
              "      <td>0</td>\n",
              "      <td>0</td>\n",
              "      <td>0</td>\n",
              "      <td>0</td>\n",
              "      <td>0</td>\n",
              "      <td>0</td>\n",
              "      <td>0</td>\n",
              "      <td>0</td>\n",
              "      <td>0</td>\n",
              "      <td>0</td>\n",
              "      <td>0</td>\n",
              "      <td>0</td>\n",
              "      <td>0</td>\n",
              "      <td>0</td>\n",
              "      <td>0</td>\n",
              "      <td>0</td>\n",
              "      <td>0</td>\n",
              "      <td>0</td>\n",
              "      <td>0</td>\n",
              "      <td>0</td>\n",
              "      <td>0</td>\n",
              "      <td>0</td>\n",
              "      <td>0</td>\n",
              "      <td>0</td>\n",
              "      <td>0</td>\n",
              "      <td>0</td>\n",
              "      <td>0</td>\n",
              "      <td>0</td>\n",
              "      <td>0</td>\n",
              "      <td>0</td>\n",
              "      <td>0</td>\n",
              "      <td>0</td>\n",
              "      <td>0</td>\n",
              "      <td>...</td>\n",
              "      <td>0</td>\n",
              "      <td>0</td>\n",
              "      <td>0</td>\n",
              "      <td>0</td>\n",
              "      <td>0</td>\n",
              "      <td>0</td>\n",
              "      <td>0</td>\n",
              "      <td>0</td>\n",
              "      <td>0</td>\n",
              "      <td>0</td>\n",
              "      <td>0</td>\n",
              "      <td>0</td>\n",
              "      <td>0</td>\n",
              "      <td>0</td>\n",
              "      <td>0</td>\n",
              "      <td>0</td>\n",
              "      <td>0</td>\n",
              "      <td>0</td>\n",
              "      <td>0</td>\n",
              "      <td>0</td>\n",
              "      <td>0</td>\n",
              "      <td>0</td>\n",
              "      <td>0</td>\n",
              "      <td>0</td>\n",
              "      <td>0</td>\n",
              "      <td>0</td>\n",
              "      <td>0</td>\n",
              "      <td>0</td>\n",
              "      <td>0</td>\n",
              "      <td>0</td>\n",
              "      <td>0</td>\n",
              "      <td>0</td>\n",
              "      <td>0</td>\n",
              "      <td>0</td>\n",
              "      <td>0</td>\n",
              "      <td>0</td>\n",
              "      <td>0</td>\n",
              "      <td>0</td>\n",
              "      <td>0</td>\n",
              "      <td>0</td>\n",
              "    </tr>\n",
              "  </tbody>\n",
              "</table>\n",
              "<p>5 rows × 194 columns</p>\n",
              "</div>"
            ],
            "text/plain": [
              "                        fn  maize streak virus  ...  ebiwojjolo  obutungulu\n",
              "0  audio_files/00118N3.wav                   0  ...           0           0\n",
              "1  audio_files/00P0NMV.wav                   0  ...           0           0\n",
              "2  audio_files/01QEEZI.wav                   0  ...           0           0\n",
              "3  audio_files/037YAED.wav                   0  ...           0           0\n",
              "4  audio_files/0382N0Y.wav                   0  ...           0           0\n",
              "\n",
              "[5 rows x 194 columns]"
            ]
          },
          "metadata": {
            "tags": []
          },
          "execution_count": 6
        }
      ]
    },
    {
      "cell_type": "code",
      "metadata": {
        "colab": {
          "base_uri": "https://localhost:8080/",
          "height": 66,
          "referenced_widgets": [
            "87d4ee422dcc45a281dfc7d76b82243c",
            "5e0cc0788d2d4d9eb4e60890e7d193fd",
            "e53dc954bae149a5bc48e709fd9af704",
            "220bb20abf7146e28af00a569a6793c8",
            "0986290381df41889af02d4dfb303255",
            "75d5a76190384f5aa3d08fce33a7f7f1",
            "1cf4e53980804fb895b105ae26441692",
            "7a39e19dd05440708d4911a9324f3f30"
          ]
        },
        "id": "GdW3ra2nln26",
        "outputId": "53f3842e-b1b1-4255-cc49-60ffad3d633c"
      },
      "source": [
        "# Create list of paths to test files\n",
        "d = '/content/drive/My Drive/ZINDI/data_new_order/spectrogram_test/'\n",
        "paths = []\n",
        "for path in os.listdir(d):\n",
        "    full_path = os.path.join(d, path)\n",
        "    if os.path.isfile(full_path):\n",
        "        paths.append(full_path)\n",
        "\n",
        "# create arrays from test images\n",
        "# sorted alphanumerically to have the same order as in the SampleSubmission\n",
        "img_array = []\n",
        "for p in tqdm(sorted(paths)):\n",
        "  img = tf.keras.preprocessing.image.load_img(p, target_size=(256, 256))\n",
        "\n",
        "  img = tf.keras.preprocessing.image.img_to_array(img)\n",
        "  img_array.append(img)  \n",
        "img_array = tf.expand_dims(img_array, 0)  # Create batch axis"
      ],
      "execution_count": null,
      "outputs": [
        {
          "output_type": "display_data",
          "data": {
            "application/vnd.jupyter.widget-view+json": {
              "model_id": "87d4ee422dcc45a281dfc7d76b82243c",
              "version_minor": 0,
              "version_major": 2
            },
            "text/plain": [
              "HBox(children=(FloatProgress(value=0.0, max=1017.0), HTML(value='')))"
            ]
          },
          "metadata": {
            "tags": []
          }
        },
        {
          "output_type": "stream",
          "text": [
            "\n"
          ],
          "name": "stdout"
        }
      ]
    },
    {
      "cell_type": "code",
      "metadata": {
        "id": "8wEt8yzAlrG1",
        "colab": {
          "base_uri": "https://localhost:8080/"
        },
        "outputId": "2be47cfe-3413-439f-b240-8e347ea060c8"
      },
      "source": [
        "img_array = tf.convert_to_tensor(img_array, dtype=tf.float32)\n",
        "# type(img_array)\n",
        "# len(img_array[0][0][0][0])\n",
        "print(img_array.shape)\n",
        "img_array = tf.squeeze(img_array)"
      ],
      "execution_count": null,
      "outputs": [
        {
          "output_type": "stream",
          "text": [
            "(1, 1017, 256, 256, 3)\n"
          ],
          "name": "stdout"
        }
      ]
    },
    {
      "cell_type": "markdown",
      "metadata": {
        "id": "Ma7FEzvFcOsn"
      },
      "source": [
        "Since we give the model an array with the test data already ordered alphanumerically, we only need th match the columns afterwards"
      ]
    },
    {
      "cell_type": "code",
      "metadata": {
        "colab": {
          "base_uri": "https://localhost:8080/"
        },
        "id": "aD3pJfytnZMt",
        "outputId": "cce0c20d-084f-41ee-9859-a958bf1c8fc5"
      },
      "source": [
        "# Predict class probability for test files\n",
        "predictions = model.predict(x=img_array, batch_size=32, verbose=1)"
      ],
      "execution_count": null,
      "outputs": [
        {
          "output_type": "stream",
          "text": [
            " 1/32 [..............................] - ETA: 0sWARNING:tensorflow:Callbacks method `on_predict_batch_end` is slow compared to the batch time (batch time: 0.0206s vs `on_predict_batch_end` time: 0.0622s). Check your callbacks.\n",
            "32/32 [==============================] - 3s 101ms/step\n"
          ],
          "name": "stdout"
        }
      ]
    },
    {
      "cell_type": "code",
      "metadata": {
        "id": "SR0DZEMvyaOI"
      },
      "source": [
        "# get prediction classes in the order they occur in the directory. This is the order they were used to train the model (from the train data)\n",
        "# the predictions (probabilities) use this order\n",
        "test = []\n",
        "for root, dirs, filenames in os.walk('/content/drive/My Drive/ZINDI/data_new_order/spectrogram_train/'):\n",
        "    test.append(dirs)\n",
        "\n",
        "pred_classes = test[0]"
      ],
      "execution_count": null,
      "outputs": []
    },
    {
      "cell_type": "code",
      "metadata": {
        "colab": {
          "base_uri": "https://localhost:8080/",
          "height": 287
        },
        "id": "UT2pwuP2xG_o",
        "outputId": "49698a83-917b-4f1a-ebe3-c618449a12b4"
      },
      "source": [
        "# Save the predictions in the required format\n",
        "for i, label in enumerate(pred_classes):\n",
        "  ss[label] = [t[i] for t in predictions]\n",
        "ss.head()"
      ],
      "execution_count": null,
      "outputs": [
        {
          "output_type": "execute_result",
          "data": {
            "text/html": [
              "<div>\n",
              "<style scoped>\n",
              "    .dataframe tbody tr th:only-of-type {\n",
              "        vertical-align: middle;\n",
              "    }\n",
              "\n",
              "    .dataframe tbody tr th {\n",
              "        vertical-align: top;\n",
              "    }\n",
              "\n",
              "    .dataframe thead th {\n",
              "        text-align: right;\n",
              "    }\n",
              "</style>\n",
              "<table border=\"1\" class=\"dataframe\">\n",
              "  <thead>\n",
              "    <tr style=\"text-align: right;\">\n",
              "      <th></th>\n",
              "      <th>fn</th>\n",
              "      <th>maize streak virus</th>\n",
              "      <th>disease</th>\n",
              "      <th>okukkoola</th>\n",
              "      <th>muwogo</th>\n",
              "      <th>mpeke</th>\n",
              "      <th>mucungwa</th>\n",
              "      <th>greens</th>\n",
              "      <th>garden</th>\n",
              "      <th>mango</th>\n",
              "      <th>bulimi</th>\n",
              "      <th>obuwuka</th>\n",
              "      <th>ebikoola</th>\n",
              "      <th>obulimi</th>\n",
              "      <th>ebisoolisooli</th>\n",
              "      <th>kaamulali</th>\n",
              "      <th>eddagala</th>\n",
              "      <th>beans</th>\n",
              "      <th>omuyembe</th>\n",
              "      <th>leaf</th>\n",
              "      <th>kisaanyi</th>\n",
              "      <th>leaves</th>\n",
              "      <th>butterfly</th>\n",
              "      <th>okuzifuuyira</th>\n",
              "      <th>micungwa</th>\n",
              "      <th>ppaapaali</th>\n",
              "      <th>emboga</th>\n",
              "      <th>kikolo</th>\n",
              "      <th>harvest</th>\n",
              "      <th>olusuku</th>\n",
              "      <th>coffee</th>\n",
              "      <th>super grow</th>\n",
              "      <th>rice</th>\n",
              "      <th>ensujju</th>\n",
              "      <th>okulima</th>\n",
              "      <th>worm</th>\n",
              "      <th>ebbugga</th>\n",
              "      <th>onion</th>\n",
              "      <th>ensigo</th>\n",
              "      <th>plantation</th>\n",
              "      <th>...</th>\n",
              "      <th>ejjobyo</th>\n",
              "      <th>omulimi</th>\n",
              "      <th>okusimba</th>\n",
              "      <th>sweet potatoes</th>\n",
              "      <th>okufuuyira</th>\n",
              "      <th>farming instructor</th>\n",
              "      <th>nnasale beedi</th>\n",
              "      <th>passion fruit</th>\n",
              "      <th>ekitooke</th>\n",
              "      <th>ebisaanyi</th>\n",
              "      <th>ekyeya</th>\n",
              "      <th>enva endiirwa</th>\n",
              "      <th>emisiri</th>\n",
              "      <th>emiyembe</th>\n",
              "      <th>amatooke</th>\n",
              "      <th>ebiwuka</th>\n",
              "      <th>farm</th>\n",
              "      <th>ebinyebwa</th>\n",
              "      <th>amappapaali</th>\n",
              "      <th>ebimera</th>\n",
              "      <th>kassooli</th>\n",
              "      <th>harvesting</th>\n",
              "      <th>emmwanyi</th>\n",
              "      <th>akamonde</th>\n",
              "      <th>obumonde</th>\n",
              "      <th>cabbages</th>\n",
              "      <th>akasaanyi</th>\n",
              "      <th>spread</th>\n",
              "      <th>ebirime</th>\n",
              "      <th>drought</th>\n",
              "      <th>kasaanyi</th>\n",
              "      <th>suckers</th>\n",
              "      <th>insects</th>\n",
              "      <th>fertilizer</th>\n",
              "      <th>nakavundira</th>\n",
              "      <th>ekiwojjolo</th>\n",
              "      <th>akawuka</th>\n",
              "      <th>ddagala</th>\n",
              "      <th>ebiwojjolo</th>\n",
              "      <th>obutungulu</th>\n",
              "    </tr>\n",
              "  </thead>\n",
              "  <tbody>\n",
              "    <tr>\n",
              "      <th>0</th>\n",
              "      <td>audio_files/00118N3.wav</td>\n",
              "      <td>0.006214</td>\n",
              "      <td>0.002382</td>\n",
              "      <td>0.001455</td>\n",
              "      <td>0.00554</td>\n",
              "      <td>0.001404</td>\n",
              "      <td>0.006572</td>\n",
              "      <td>0.00686</td>\n",
              "      <td>0.005501</td>\n",
              "      <td>0.005959</td>\n",
              "      <td>0.006664</td>\n",
              "      <td>0.001409</td>\n",
              "      <td>0.005088</td>\n",
              "      <td>0.001131</td>\n",
              "      <td>0.001394</td>\n",
              "      <td>0.001411</td>\n",
              "      <td>0.00737</td>\n",
              "      <td>0.006823</td>\n",
              "      <td>0.001405</td>\n",
              "      <td>0.005973</td>\n",
              "      <td>0.007114</td>\n",
              "      <td>0.002392</td>\n",
              "      <td>0.00754</td>\n",
              "      <td>0.0019</td>\n",
              "      <td>0.006225</td>\n",
              "      <td>0.002127</td>\n",
              "      <td>0.005062</td>\n",
              "      <td>0.001669</td>\n",
              "      <td>0.006663</td>\n",
              "      <td>0.007119</td>\n",
              "      <td>0.011464</td>\n",
              "      <td>0.001141</td>\n",
              "      <td>0.00619</td>\n",
              "      <td>0.006445</td>\n",
              "      <td>0.001441</td>\n",
              "      <td>0.006645</td>\n",
              "      <td>0.007565</td>\n",
              "      <td>0.005953</td>\n",
              "      <td>0.002152</td>\n",
              "      <td>0.009637</td>\n",
              "      <td>...</td>\n",
              "      <td>0.006426</td>\n",
              "      <td>0.007135</td>\n",
              "      <td>0.007115</td>\n",
              "      <td>0.007342</td>\n",
              "      <td>0.005752</td>\n",
              "      <td>0.006397</td>\n",
              "      <td>0.007069</td>\n",
              "      <td>0.002382</td>\n",
              "      <td>0.012146</td>\n",
              "      <td>0.001162</td>\n",
              "      <td>0.007091</td>\n",
              "      <td>0.01127</td>\n",
              "      <td>0.007359</td>\n",
              "      <td>0.00462</td>\n",
              "      <td>0.001143</td>\n",
              "      <td>0.006866</td>\n",
              "      <td>0.006428</td>\n",
              "      <td>0.00192</td>\n",
              "      <td>0.011184</td>\n",
              "      <td>0.006671</td>\n",
              "      <td>0.006148</td>\n",
              "      <td>0.007736</td>\n",
              "      <td>0.000824</td>\n",
              "      <td>0.00598</td>\n",
              "      <td>0.000822</td>\n",
              "      <td>0.006672</td>\n",
              "      <td>0.001894</td>\n",
              "      <td>0.001949</td>\n",
              "      <td>0.001402</td>\n",
              "      <td>0.006009</td>\n",
              "      <td>0.007122</td>\n",
              "      <td>0.006844</td>\n",
              "      <td>0.001418</td>\n",
              "      <td>0.005299</td>\n",
              "      <td>0.00738</td>\n",
              "      <td>0.005274</td>\n",
              "      <td>0.005948</td>\n",
              "      <td>0.010557</td>\n",
              "      <td>0.005958</td>\n",
              "      <td>0.006848</td>\n",
              "    </tr>\n",
              "    <tr>\n",
              "      <th>1</th>\n",
              "      <td>audio_files/00P0NMV.wav</td>\n",
              "      <td>0.006214</td>\n",
              "      <td>0.002382</td>\n",
              "      <td>0.001455</td>\n",
              "      <td>0.00554</td>\n",
              "      <td>0.001404</td>\n",
              "      <td>0.006572</td>\n",
              "      <td>0.00686</td>\n",
              "      <td>0.005501</td>\n",
              "      <td>0.005959</td>\n",
              "      <td>0.006664</td>\n",
              "      <td>0.001409</td>\n",
              "      <td>0.005088</td>\n",
              "      <td>0.001131</td>\n",
              "      <td>0.001394</td>\n",
              "      <td>0.001411</td>\n",
              "      <td>0.00737</td>\n",
              "      <td>0.006823</td>\n",
              "      <td>0.001405</td>\n",
              "      <td>0.005973</td>\n",
              "      <td>0.007114</td>\n",
              "      <td>0.002392</td>\n",
              "      <td>0.00754</td>\n",
              "      <td>0.0019</td>\n",
              "      <td>0.006225</td>\n",
              "      <td>0.002127</td>\n",
              "      <td>0.005062</td>\n",
              "      <td>0.001669</td>\n",
              "      <td>0.006663</td>\n",
              "      <td>0.007119</td>\n",
              "      <td>0.011464</td>\n",
              "      <td>0.001141</td>\n",
              "      <td>0.00619</td>\n",
              "      <td>0.006445</td>\n",
              "      <td>0.001441</td>\n",
              "      <td>0.006645</td>\n",
              "      <td>0.007565</td>\n",
              "      <td>0.005953</td>\n",
              "      <td>0.002152</td>\n",
              "      <td>0.009637</td>\n",
              "      <td>...</td>\n",
              "      <td>0.006426</td>\n",
              "      <td>0.007135</td>\n",
              "      <td>0.007115</td>\n",
              "      <td>0.007342</td>\n",
              "      <td>0.005752</td>\n",
              "      <td>0.006397</td>\n",
              "      <td>0.007069</td>\n",
              "      <td>0.002382</td>\n",
              "      <td>0.012146</td>\n",
              "      <td>0.001162</td>\n",
              "      <td>0.007091</td>\n",
              "      <td>0.01127</td>\n",
              "      <td>0.007359</td>\n",
              "      <td>0.00462</td>\n",
              "      <td>0.001143</td>\n",
              "      <td>0.006866</td>\n",
              "      <td>0.006428</td>\n",
              "      <td>0.00192</td>\n",
              "      <td>0.011184</td>\n",
              "      <td>0.006671</td>\n",
              "      <td>0.006148</td>\n",
              "      <td>0.007736</td>\n",
              "      <td>0.000824</td>\n",
              "      <td>0.00598</td>\n",
              "      <td>0.000822</td>\n",
              "      <td>0.006672</td>\n",
              "      <td>0.001894</td>\n",
              "      <td>0.001949</td>\n",
              "      <td>0.001402</td>\n",
              "      <td>0.006009</td>\n",
              "      <td>0.007122</td>\n",
              "      <td>0.006844</td>\n",
              "      <td>0.001418</td>\n",
              "      <td>0.005299</td>\n",
              "      <td>0.00738</td>\n",
              "      <td>0.005274</td>\n",
              "      <td>0.005948</td>\n",
              "      <td>0.010557</td>\n",
              "      <td>0.005958</td>\n",
              "      <td>0.006848</td>\n",
              "    </tr>\n",
              "    <tr>\n",
              "      <th>2</th>\n",
              "      <td>audio_files/01QEEZI.wav</td>\n",
              "      <td>0.006214</td>\n",
              "      <td>0.002382</td>\n",
              "      <td>0.001455</td>\n",
              "      <td>0.00554</td>\n",
              "      <td>0.001404</td>\n",
              "      <td>0.006572</td>\n",
              "      <td>0.00686</td>\n",
              "      <td>0.005501</td>\n",
              "      <td>0.005959</td>\n",
              "      <td>0.006664</td>\n",
              "      <td>0.001409</td>\n",
              "      <td>0.005088</td>\n",
              "      <td>0.001131</td>\n",
              "      <td>0.001394</td>\n",
              "      <td>0.001411</td>\n",
              "      <td>0.00737</td>\n",
              "      <td>0.006823</td>\n",
              "      <td>0.001405</td>\n",
              "      <td>0.005973</td>\n",
              "      <td>0.007114</td>\n",
              "      <td>0.002392</td>\n",
              "      <td>0.00754</td>\n",
              "      <td>0.0019</td>\n",
              "      <td>0.006225</td>\n",
              "      <td>0.002127</td>\n",
              "      <td>0.005062</td>\n",
              "      <td>0.001669</td>\n",
              "      <td>0.006663</td>\n",
              "      <td>0.007119</td>\n",
              "      <td>0.011464</td>\n",
              "      <td>0.001141</td>\n",
              "      <td>0.00619</td>\n",
              "      <td>0.006445</td>\n",
              "      <td>0.001441</td>\n",
              "      <td>0.006645</td>\n",
              "      <td>0.007565</td>\n",
              "      <td>0.005953</td>\n",
              "      <td>0.002152</td>\n",
              "      <td>0.009637</td>\n",
              "      <td>...</td>\n",
              "      <td>0.006426</td>\n",
              "      <td>0.007135</td>\n",
              "      <td>0.007115</td>\n",
              "      <td>0.007342</td>\n",
              "      <td>0.005752</td>\n",
              "      <td>0.006397</td>\n",
              "      <td>0.007069</td>\n",
              "      <td>0.002382</td>\n",
              "      <td>0.012146</td>\n",
              "      <td>0.001162</td>\n",
              "      <td>0.007091</td>\n",
              "      <td>0.01127</td>\n",
              "      <td>0.007359</td>\n",
              "      <td>0.00462</td>\n",
              "      <td>0.001143</td>\n",
              "      <td>0.006866</td>\n",
              "      <td>0.006428</td>\n",
              "      <td>0.00192</td>\n",
              "      <td>0.011184</td>\n",
              "      <td>0.006671</td>\n",
              "      <td>0.006148</td>\n",
              "      <td>0.007736</td>\n",
              "      <td>0.000824</td>\n",
              "      <td>0.00598</td>\n",
              "      <td>0.000822</td>\n",
              "      <td>0.006672</td>\n",
              "      <td>0.001894</td>\n",
              "      <td>0.001949</td>\n",
              "      <td>0.001402</td>\n",
              "      <td>0.006009</td>\n",
              "      <td>0.007122</td>\n",
              "      <td>0.006844</td>\n",
              "      <td>0.001418</td>\n",
              "      <td>0.005299</td>\n",
              "      <td>0.00738</td>\n",
              "      <td>0.005274</td>\n",
              "      <td>0.005948</td>\n",
              "      <td>0.010557</td>\n",
              "      <td>0.005958</td>\n",
              "      <td>0.006848</td>\n",
              "    </tr>\n",
              "    <tr>\n",
              "      <th>3</th>\n",
              "      <td>audio_files/037YAED.wav</td>\n",
              "      <td>0.006214</td>\n",
              "      <td>0.002382</td>\n",
              "      <td>0.001455</td>\n",
              "      <td>0.00554</td>\n",
              "      <td>0.001404</td>\n",
              "      <td>0.006572</td>\n",
              "      <td>0.00686</td>\n",
              "      <td>0.005501</td>\n",
              "      <td>0.005959</td>\n",
              "      <td>0.006664</td>\n",
              "      <td>0.001409</td>\n",
              "      <td>0.005088</td>\n",
              "      <td>0.001131</td>\n",
              "      <td>0.001394</td>\n",
              "      <td>0.001411</td>\n",
              "      <td>0.00737</td>\n",
              "      <td>0.006823</td>\n",
              "      <td>0.001405</td>\n",
              "      <td>0.005973</td>\n",
              "      <td>0.007114</td>\n",
              "      <td>0.002392</td>\n",
              "      <td>0.00754</td>\n",
              "      <td>0.0019</td>\n",
              "      <td>0.006225</td>\n",
              "      <td>0.002127</td>\n",
              "      <td>0.005062</td>\n",
              "      <td>0.001669</td>\n",
              "      <td>0.006663</td>\n",
              "      <td>0.007119</td>\n",
              "      <td>0.011464</td>\n",
              "      <td>0.001141</td>\n",
              "      <td>0.00619</td>\n",
              "      <td>0.006445</td>\n",
              "      <td>0.001441</td>\n",
              "      <td>0.006645</td>\n",
              "      <td>0.007565</td>\n",
              "      <td>0.005953</td>\n",
              "      <td>0.002152</td>\n",
              "      <td>0.009637</td>\n",
              "      <td>...</td>\n",
              "      <td>0.006426</td>\n",
              "      <td>0.007135</td>\n",
              "      <td>0.007115</td>\n",
              "      <td>0.007342</td>\n",
              "      <td>0.005752</td>\n",
              "      <td>0.006397</td>\n",
              "      <td>0.007069</td>\n",
              "      <td>0.002382</td>\n",
              "      <td>0.012146</td>\n",
              "      <td>0.001162</td>\n",
              "      <td>0.007091</td>\n",
              "      <td>0.01127</td>\n",
              "      <td>0.007359</td>\n",
              "      <td>0.00462</td>\n",
              "      <td>0.001143</td>\n",
              "      <td>0.006866</td>\n",
              "      <td>0.006428</td>\n",
              "      <td>0.00192</td>\n",
              "      <td>0.011184</td>\n",
              "      <td>0.006671</td>\n",
              "      <td>0.006148</td>\n",
              "      <td>0.007736</td>\n",
              "      <td>0.000824</td>\n",
              "      <td>0.00598</td>\n",
              "      <td>0.000822</td>\n",
              "      <td>0.006672</td>\n",
              "      <td>0.001894</td>\n",
              "      <td>0.001949</td>\n",
              "      <td>0.001402</td>\n",
              "      <td>0.006009</td>\n",
              "      <td>0.007122</td>\n",
              "      <td>0.006844</td>\n",
              "      <td>0.001418</td>\n",
              "      <td>0.005299</td>\n",
              "      <td>0.00738</td>\n",
              "      <td>0.005274</td>\n",
              "      <td>0.005948</td>\n",
              "      <td>0.010557</td>\n",
              "      <td>0.005958</td>\n",
              "      <td>0.006848</td>\n",
              "    </tr>\n",
              "    <tr>\n",
              "      <th>4</th>\n",
              "      <td>audio_files/0382N0Y.wav</td>\n",
              "      <td>0.006214</td>\n",
              "      <td>0.002382</td>\n",
              "      <td>0.001455</td>\n",
              "      <td>0.00554</td>\n",
              "      <td>0.001404</td>\n",
              "      <td>0.006572</td>\n",
              "      <td>0.00686</td>\n",
              "      <td>0.005501</td>\n",
              "      <td>0.005959</td>\n",
              "      <td>0.006664</td>\n",
              "      <td>0.001409</td>\n",
              "      <td>0.005088</td>\n",
              "      <td>0.001131</td>\n",
              "      <td>0.001394</td>\n",
              "      <td>0.001411</td>\n",
              "      <td>0.00737</td>\n",
              "      <td>0.006823</td>\n",
              "      <td>0.001405</td>\n",
              "      <td>0.005973</td>\n",
              "      <td>0.007114</td>\n",
              "      <td>0.002392</td>\n",
              "      <td>0.00754</td>\n",
              "      <td>0.0019</td>\n",
              "      <td>0.006225</td>\n",
              "      <td>0.002127</td>\n",
              "      <td>0.005062</td>\n",
              "      <td>0.001669</td>\n",
              "      <td>0.006663</td>\n",
              "      <td>0.007119</td>\n",
              "      <td>0.011464</td>\n",
              "      <td>0.001141</td>\n",
              "      <td>0.00619</td>\n",
              "      <td>0.006445</td>\n",
              "      <td>0.001441</td>\n",
              "      <td>0.006645</td>\n",
              "      <td>0.007565</td>\n",
              "      <td>0.005953</td>\n",
              "      <td>0.002152</td>\n",
              "      <td>0.009637</td>\n",
              "      <td>...</td>\n",
              "      <td>0.006426</td>\n",
              "      <td>0.007135</td>\n",
              "      <td>0.007115</td>\n",
              "      <td>0.007342</td>\n",
              "      <td>0.005752</td>\n",
              "      <td>0.006397</td>\n",
              "      <td>0.007069</td>\n",
              "      <td>0.002382</td>\n",
              "      <td>0.012146</td>\n",
              "      <td>0.001162</td>\n",
              "      <td>0.007091</td>\n",
              "      <td>0.01127</td>\n",
              "      <td>0.007359</td>\n",
              "      <td>0.00462</td>\n",
              "      <td>0.001143</td>\n",
              "      <td>0.006866</td>\n",
              "      <td>0.006428</td>\n",
              "      <td>0.00192</td>\n",
              "      <td>0.011184</td>\n",
              "      <td>0.006671</td>\n",
              "      <td>0.006148</td>\n",
              "      <td>0.007736</td>\n",
              "      <td>0.000824</td>\n",
              "      <td>0.00598</td>\n",
              "      <td>0.000822</td>\n",
              "      <td>0.006672</td>\n",
              "      <td>0.001894</td>\n",
              "      <td>0.001949</td>\n",
              "      <td>0.001402</td>\n",
              "      <td>0.006009</td>\n",
              "      <td>0.007122</td>\n",
              "      <td>0.006844</td>\n",
              "      <td>0.001418</td>\n",
              "      <td>0.005299</td>\n",
              "      <td>0.00738</td>\n",
              "      <td>0.005274</td>\n",
              "      <td>0.005948</td>\n",
              "      <td>0.010557</td>\n",
              "      <td>0.005958</td>\n",
              "      <td>0.006848</td>\n",
              "    </tr>\n",
              "  </tbody>\n",
              "</table>\n",
              "<p>5 rows × 194 columns</p>\n",
              "</div>"
            ],
            "text/plain": [
              "                        fn  maize streak virus  ...  ebiwojjolo  obutungulu\n",
              "0  audio_files/00118N3.wav            0.006214  ...    0.005958    0.006848\n",
              "1  audio_files/00P0NMV.wav            0.006214  ...    0.005958    0.006848\n",
              "2  audio_files/01QEEZI.wav            0.006214  ...    0.005958    0.006848\n",
              "3  audio_files/037YAED.wav            0.006214  ...    0.005958    0.006848\n",
              "4  audio_files/0382N0Y.wav            0.006214  ...    0.005958    0.006848\n",
              "\n",
              "[5 rows x 194 columns]"
            ]
          },
          "metadata": {
            "tags": []
          },
          "execution_count": 11
        }
      ]
    },
    {
      "cell_type": "code",
      "metadata": {
        "id": "2snW0NY15eCa"
      },
      "source": [
        "# save Submission to file\n",
        "ss.to_csv('/content/drive/My Drive/ZINDI/submissions/Vorführung_submission.csv', index=False)"
      ],
      "execution_count": null,
      "outputs": []
    },
    {
      "cell_type": "markdown",
      "metadata": {
        "id": "vkOQBQsKqkRT"
      },
      "source": [
        "# Appendix: Tests"
      ]
    },
    {
      "cell_type": "code",
      "metadata": {
        "id": "rW01_-Q5oidI",
        "colab": {
          "base_uri": "https://localhost:8080/",
          "height": 269
        },
        "outputId": "56285b63-1a17-4c0a-98ba-d88095b89cca"
      },
      "source": [
        "import matplotlib.pyplot as plt\n",
        "import matplotlib.image as mpimg\n",
        "img = mpimg.imread('/content/drive/My Drive/data/spectrogram/1b5a69c4b88b41eb9577a656e11bb7dd_2e9c0177638541b2b296a5c67be23e73-spectogram.png')\n",
        "plt.show()"
      ],
      "execution_count": null,
      "outputs": [
        {
          "output_type": "display_data",
          "data": {
            "image/png": "[encoded data removed]",
            "text/plain": [
              "<Figure size 432x288 with 1 Axes>"
            ]
          },
          "metadata": {
            "tags": [],
            "needs_background": "light"
          }
        }
      ]
    },
    {
      "cell_type": "code",
      "metadata": {
        "id": "vvtj3pZVo1gD"
      },
      "source": [
        "image = cv2.imread('/content/drive/My Drive/data/spectrogram/1b5a69c4b88b41eb9577a656e11bb7dd_2e9c0177638541b2b296a5c67be23e73-spectogram.png')\n",
        "image_test = cv2.resize(image, (img_height, img_width))"
      ],
      "execution_count": null,
      "outputs": []
    },
    {
      "cell_type": "code",
      "metadata": {
        "id": "W2wzEUwbo8GY",
        "colab": {
          "base_uri": "https://localhost:8080/",
          "height": 268
        },
        "outputId": "e89f1637-63cf-4942-de4b-f26549b107b5"
      },
      "source": [
        "from PIL import Image\n",
        "\n",
        "# img = Image.fromarray(image_test, 'RGB')\n",
        "# img.save('/content/drive/My Drive/my.png')\n",
        "img = mpimg.imread('/content/drive/My Drive/my.png')\n",
        "imgplot = plt.imshow(img)\n",
        "plt.show()"
      ],
      "execution_count": null,
      "outputs": [
        {
          "output_type": "display_data",
          "data": {
            "image/png": "[encoded data removed]",
            "text/plain": [
              "<Figure size 432x288 with 1 Axes>"
            ]
          },
          "metadata": {
            "tags": [],
            "needs_background": "light"
          }
        }
      ]
    },
    {
      "cell_type": "markdown",
      "metadata": {
        "id": "Ku4gDUjaB7zD"
      },
      "source": [
        "Plot of data class distribution after train/test split"
      ]
    },
    {
      "cell_type": "code",
      "metadata": {
        "id": "DEOEnYCs9Pn2",
        "colab": {
          "base_uri": "https://localhost:8080/",
          "height": 366
        },
        "outputId": "20d8eab8-495c-4522-91cd-1e907a53ecb7"
      },
      "source": [
        "train_labels.value_counts().plot(kind='bar')"
      ],
      "execution_count": null,
      "outputs": [
        {
          "output_type": "execute_result",
          "data": {
            "text/plain": [
              "<matplotlib.axes._subplots.AxesSubplot at 0x7fb3df90fef0>"
            ]
          },
          "metadata": {
            "tags": []
          },
          "execution_count": 16
        },
        {
          "output_type": "display_data",
          "data": {
            "image/png": "[encoded data removed]",
            "text/plain": [
              "<Figure size 432x288 with 1 Axes>"
            ]
          },
          "metadata": {
            "tags": [],
            "needs_background": "light"
          }
        }
      ]
    },
    {
      "cell_type": "code",
      "metadata": {
        "id": "djPvdB2J9PlW",
        "colab": {
          "base_uri": "https://localhost:8080/",
          "height": 366
        },
        "outputId": "6227f6cd-b8db-4435-94fe-47cbcf213db3"
      },
      "source": [
        "test_labels.value_counts().plot(kind='bar')"
      ],
      "execution_count": null,
      "outputs": [
        {
          "output_type": "execute_result",
          "data": {
            "text/plain": [
              "<matplotlib.axes._subplots.AxesSubplot at 0x7fb3dee136a0>"
            ]
          },
          "metadata": {
            "tags": []
          },
          "execution_count": 17
        },
        {
          "output_type": "display_data",
          "data": {
            "image/png": "[encoded data removed]",
            "text/plain": [
              "<Figure size 432x288 with 1 Axes>"
            ]
          },
          "metadata": {
            "tags": [],
            "needs_background": "light"
          }
        }
      ]
    }
  ]
}