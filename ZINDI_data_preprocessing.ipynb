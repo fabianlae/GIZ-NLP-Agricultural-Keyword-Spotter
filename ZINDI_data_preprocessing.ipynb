{
  "nbformat": 4,
  "nbformat_minor": 0,
  "metadata": {
    "colab": {
      "name": "data_preprocessing.ipynb",
      "provenance": [],
      "collapsed_sections": [],
      "toc_visible": true
    },
    "kernelspec": {
      "name": "python3",
      "display_name": "Python 3"
    }
  },
  "cells": [
    {
      "cell_type": "markdown",
      "metadata": {
        "id": "ZUjlCaSU4ycH"
      },
      "source": [
        "# Data preprocessing for the Zindi/GIZ project"
      ]
    },
    {
      "cell_type": "markdown",
      "metadata": {
        "id": "M_iz5UZy44_Q"
      },
      "source": [
        "# Initialization\n",
        "\n"
      ]
    },
    {
      "cell_type": "code",
      "metadata": {
        "id": "nKd62wej44Vk"
      },
      "source": [
        "from google.colab import files"
      ],
      "execution_count": null,
      "outputs": []
    },
    {
      "cell_type": "code",
      "metadata": {
        "id": "xEjzhB0q4_LM"
      },
      "source": [
        "from google.colab import drive\n",
        "drive.mount(\"/content/drive\", force_remount=True)"
      ],
      "execution_count": null,
      "outputs": []
    },
    {
      "cell_type": "markdown",
      "metadata": {
        "id": "08hjr_Si5UR1"
      },
      "source": [
        "## Install and load libraries"
      ]
    },
    {
      "cell_type": "code",
      "metadata": {
        "id": "wLOD_2CR5V2C",
        "colab": {
          "base_uri": "https://localhost:8080/"
        },
        "outputId": "7e9247f3-5514-4a0c-816d-d68dadc0defa"
      },
      "source": [
        "!pip install -q fastai fastcore --upgrade # Make sure we have the new version\n",
        "!pip install -q python_speech_features\n",
        "!pip install python_speech_features"
      ],
      "execution_count": null,
      "outputs": [
        {
          "output_type": "stream",
          "text": [
            "\u001b[K     |████████████████████████████████| 194kB 6.8MB/s \n",
            "\u001b[K     |████████████████████████████████| 51kB 6.5MB/s \n",
            "\u001b[?25h  Building wheel for python-speech-features (setup.py) ... \u001b[?25l\u001b[?25hdone\n",
            "Requirement already satisfied: python_speech_features in /usr/local/lib/python3.6/dist-packages (0.6)\n"
          ],
          "name": "stdout"
        }
      ]
    },
    {
      "cell_type": "code",
      "metadata": {
        "id": "a7RHlPwq5Z1-"
      },
      "source": [
        "import pandas as pd\n",
        "import IPython.display as ipd\n",
        "import librosa\n",
        "import python_speech_features as psf\n",
        "from matplotlib import pyplot as plt\n",
        "import numpy as np\n",
        "from os import listdir\n",
        "from os.path import isfile, join\n",
        "import os"
      ],
      "execution_count": null,
      "outputs": []
    },
    {
      "cell_type": "markdown",
      "metadata": {
        "id": "XKhOmUhj5Cpg"
      },
      "source": [
        "## Read the data"
      ]
    },
    {
      "cell_type": "code",
      "metadata": {
        "id": "NcrNB4635A0j"
      },
      "source": [
        "# Copy the files in and unzip\n",
        "# !cp 'drive/My Drive/audio_files.zip' audio_files2.zip\n",
        "# !unzip -q audio_files2.zip"
      ],
      "execution_count": null,
      "outputs": []
    },
    {
      "cell_type": "markdown",
      "metadata": {
        "id": "KTWDvrm4_UOh"
      },
      "source": [
        "Files:\r\n",
        "\r\n",
        "\r\n",
        "*   train_full.csv: List of all audio files with their path ('fn'), some of them labeled\r\n",
        "\r\n"
      ]
    },
    {
      "cell_type": "code",
      "metadata": {
        "id": "Hx0i8b5X7MGD",
        "colab": {
          "base_uri": "https://localhost:8080/",
          "height": 204
        },
        "outputId": "eb4b06ca-91c4-4943-ad08-d413700dba20"
      },
      "source": [
        "# Load the new \"train_full.csv\" data\n",
        "train_full = pd.read_csv(\"/content/drive/My Drive/ZINDI/train_full.csv\")\n",
        "\n",
        "# Adjust name\n",
        "train_full['fn'] = train_full['fn'].str.replace('audio_train/', '/content/drive/My Drive/ZINDI/data/audio_train/')\n",
        "train_full['fn'] = train_full['fn'].str.replace('audio_files/', '/content/drive/My Drive/ZINDI/data/audio_train/')\n",
        "train_full.head()"
      ],
      "execution_count": null,
      "outputs": [
        {
          "output_type": "execute_result",
          "data": {
            "text/html": [
              "<div>\n",
              "<style scoped>\n",
              "    .dataframe tbody tr th:only-of-type {\n",
              "        vertical-align: middle;\n",
              "    }\n",
              "\n",
              "    .dataframe tbody tr th {\n",
              "        vertical-align: top;\n",
              "    }\n",
              "\n",
              "    .dataframe thead th {\n",
              "        text-align: right;\n",
              "    }\n",
              "</style>\n",
              "<table border=\"1\" class=\"dataframe\">\n",
              "  <thead>\n",
              "    <tr style=\"text-align: right;\">\n",
              "      <th></th>\n",
              "      <th>fn</th>\n",
              "      <th>label</th>\n",
              "    </tr>\n",
              "  </thead>\n",
              "  <tbody>\n",
              "    <tr>\n",
              "      <th>0</th>\n",
              "      <td>/content/drive/My Drive/ZINDI/data/audio_train...</td>\n",
              "      <td>akawuka</td>\n",
              "    </tr>\n",
              "    <tr>\n",
              "      <th>1</th>\n",
              "      <td>/content/drive/My Drive/ZINDI/data/audio_train...</td>\n",
              "      <td>banana</td>\n",
              "    </tr>\n",
              "    <tr>\n",
              "      <th>2</th>\n",
              "      <td>/content/drive/My Drive/ZINDI/data/audio_train...</td>\n",
              "      <td>obulwadde</td>\n",
              "    </tr>\n",
              "    <tr>\n",
              "      <th>3</th>\n",
              "      <td>/content/drive/My Drive/ZINDI/data/audio_train...</td>\n",
              "      <td>nnyaanya</td>\n",
              "    </tr>\n",
              "    <tr>\n",
              "      <th>4</th>\n",
              "      <td>/content/drive/My Drive/ZINDI/data/audio_train...</td>\n",
              "      <td>pampu</td>\n",
              "    </tr>\n",
              "  </tbody>\n",
              "</table>\n",
              "</div>"
            ],
            "text/plain": [
              "                                                  fn      label\n",
              "0  /content/drive/My Drive/ZINDI/data/audio_train...    akawuka\n",
              "1  /content/drive/My Drive/ZINDI/data/audio_train...     banana\n",
              "2  /content/drive/My Drive/ZINDI/data/audio_train...  obulwadde\n",
              "3  /content/drive/My Drive/ZINDI/data/audio_train...   nnyaanya\n",
              "4  /content/drive/My Drive/ZINDI/data/audio_train...      pampu"
            ]
          },
          "metadata": {
            "tags": []
          },
          "execution_count": 18
        }
      ]
    },
    {
      "cell_type": "markdown",
      "metadata": {
        "id": "N6CtdEEJ5cpq"
      },
      "source": [
        "Load the old train data"
      ]
    },
    {
      "cell_type": "code",
      "metadata": {
        "id": "IK7FlPoW5ca7",
        "colab": {
          "base_uri": "https://localhost:8080/",
          "height": 204
        },
        "outputId": "72824da4-f47f-4c75-93a7-37284c574b03"
      },
      "source": [
        "train1 = pd.read_csv(\"/content/drive/My Drive/ZINDI/Train.csv\")\n",
        "\n",
        "# Adjust name\n",
        "train1['fn'] = train1['fn'].str.replace('audio_files/', '/content/drive/My Drive/ZINDI/data/audio_train/')\n",
        "train1.head()"
      ],
      "execution_count": null,
      "outputs": [
        {
          "output_type": "execute_result",
          "data": {
            "text/html": [
              "<div>\n",
              "<style scoped>\n",
              "    .dataframe tbody tr th:only-of-type {\n",
              "        vertical-align: middle;\n",
              "    }\n",
              "\n",
              "    .dataframe tbody tr th {\n",
              "        vertical-align: top;\n",
              "    }\n",
              "\n",
              "    .dataframe thead th {\n",
              "        text-align: right;\n",
              "    }\n",
              "</style>\n",
              "<table border=\"1\" class=\"dataframe\">\n",
              "  <thead>\n",
              "    <tr style=\"text-align: right;\">\n",
              "      <th></th>\n",
              "      <th>fn</th>\n",
              "      <th>label</th>\n",
              "    </tr>\n",
              "  </thead>\n",
              "  <tbody>\n",
              "    <tr>\n",
              "      <th>0</th>\n",
              "      <td>/content/drive/My Drive/ZINDI/data/audio_train...</td>\n",
              "      <td>akawuka</td>\n",
              "    </tr>\n",
              "    <tr>\n",
              "      <th>1</th>\n",
              "      <td>/content/drive/My Drive/ZINDI/data/audio_train...</td>\n",
              "      <td>banana</td>\n",
              "    </tr>\n",
              "    <tr>\n",
              "      <th>2</th>\n",
              "      <td>/content/drive/My Drive/ZINDI/data/audio_train...</td>\n",
              "      <td>obulwadde</td>\n",
              "    </tr>\n",
              "    <tr>\n",
              "      <th>3</th>\n",
              "      <td>/content/drive/My Drive/ZINDI/data/audio_train...</td>\n",
              "      <td>nnyaanya</td>\n",
              "    </tr>\n",
              "    <tr>\n",
              "      <th>4</th>\n",
              "      <td>/content/drive/My Drive/ZINDI/data/audio_train...</td>\n",
              "      <td>pampu</td>\n",
              "    </tr>\n",
              "  </tbody>\n",
              "</table>\n",
              "</div>"
            ],
            "text/plain": [
              "                                                  fn      label\n",
              "0  /content/drive/My Drive/ZINDI/data/audio_train...    akawuka\n",
              "1  /content/drive/My Drive/ZINDI/data/audio_train...     banana\n",
              "2  /content/drive/My Drive/ZINDI/data/audio_train...  obulwadde\n",
              "3  /content/drive/My Drive/ZINDI/data/audio_train...   nnyaanya\n",
              "4  /content/drive/My Drive/ZINDI/data/audio_train...      pampu"
            ]
          },
          "metadata": {
            "tags": []
          },
          "execution_count": 19
        }
      ]
    },
    {
      "cell_type": "markdown",
      "metadata": {
        "id": "q1BLnquH5jaV"
      },
      "source": [
        "Add the new train data"
      ]
    },
    {
      "cell_type": "code",
      "metadata": {
        "id": "4kQrEHxd5k6Q",
        "colab": {
          "base_uri": "https://localhost:8080/",
          "height": 204
        },
        "outputId": "131c07a3-4c59-4b93-9dcc-6e04e6aaa42b"
      },
      "source": [
        "train2 = pd.read_csv('/content/drive/My Drive/ZINDI/labels_new.csv')\n",
        "train2.head(20)\n",
        "\n",
        "# Adjust name\n",
        "train2['fn'] = train2['fn'].str.replace('audio_files2/', '/content/drive/My Drive/ZINDI/data/audio_train/')\n",
        "train2.head()"
      ],
      "execution_count": null,
      "outputs": [
        {
          "output_type": "execute_result",
          "data": {
            "text/html": [
              "<div>\n",
              "<style scoped>\n",
              "    .dataframe tbody tr th:only-of-type {\n",
              "        vertical-align: middle;\n",
              "    }\n",
              "\n",
              "    .dataframe tbody tr th {\n",
              "        vertical-align: top;\n",
              "    }\n",
              "\n",
              "    .dataframe thead th {\n",
              "        text-align: right;\n",
              "    }\n",
              "</style>\n",
              "<table border=\"1\" class=\"dataframe\">\n",
              "  <thead>\n",
              "    <tr style=\"text-align: right;\">\n",
              "      <th></th>\n",
              "      <th>fn</th>\n",
              "      <th>label</th>\n",
              "    </tr>\n",
              "  </thead>\n",
              "  <tbody>\n",
              "    <tr>\n",
              "      <th>0</th>\n",
              "      <td>/content/drive/My Drive/ZINDI/data/audio_train...</td>\n",
              "      <td>abalimi</td>\n",
              "    </tr>\n",
              "    <tr>\n",
              "      <th>1</th>\n",
              "      <td>/content/drive/My Drive/ZINDI/data/audio_train...</td>\n",
              "      <td>abalimi</td>\n",
              "    </tr>\n",
              "    <tr>\n",
              "      <th>2</th>\n",
              "      <td>/content/drive/My Drive/ZINDI/data/audio_train...</td>\n",
              "      <td>abalimi</td>\n",
              "    </tr>\n",
              "    <tr>\n",
              "      <th>3</th>\n",
              "      <td>/content/drive/My Drive/ZINDI/data/audio_train...</td>\n",
              "      <td>abalimi</td>\n",
              "    </tr>\n",
              "    <tr>\n",
              "      <th>4</th>\n",
              "      <td>/content/drive/My Drive/ZINDI/data/audio_train...</td>\n",
              "      <td>abalimi</td>\n",
              "    </tr>\n",
              "  </tbody>\n",
              "</table>\n",
              "</div>"
            ],
            "text/plain": [
              "                                                  fn    label\n",
              "0  /content/drive/My Drive/ZINDI/data/audio_train...  abalimi\n",
              "1  /content/drive/My Drive/ZINDI/data/audio_train...  abalimi\n",
              "2  /content/drive/My Drive/ZINDI/data/audio_train...  abalimi\n",
              "3  /content/drive/My Drive/ZINDI/data/audio_train...  abalimi\n",
              "4  /content/drive/My Drive/ZINDI/data/audio_train...  abalimi"
            ]
          },
          "metadata": {
            "tags": []
          },
          "execution_count": 20
        }
      ]
    },
    {
      "cell_type": "markdown",
      "metadata": {
        "id": "YjiU-i-M2Iep"
      },
      "source": [
        "Combine both into one long list"
      ]
    },
    {
      "cell_type": "code",
      "metadata": {
        "id": "Bo0nS2Pw2J1c",
        "colab": {
          "base_uri": "https://localhost:8080/",
          "height": 204
        },
        "outputId": "17e06e9e-23a5-4558-a471-4192999bfb0b"
      },
      "source": [
        "train = train1.append(train2)\n",
        "train.head()"
      ],
      "execution_count": null,
      "outputs": [
        {
          "output_type": "execute_result",
          "data": {
            "text/html": [
              "<div>\n",
              "<style scoped>\n",
              "    .dataframe tbody tr th:only-of-type {\n",
              "        vertical-align: middle;\n",
              "    }\n",
              "\n",
              "    .dataframe tbody tr th {\n",
              "        vertical-align: top;\n",
              "    }\n",
              "\n",
              "    .dataframe thead th {\n",
              "        text-align: right;\n",
              "    }\n",
              "</style>\n",
              "<table border=\"1\" class=\"dataframe\">\n",
              "  <thead>\n",
              "    <tr style=\"text-align: right;\">\n",
              "      <th></th>\n",
              "      <th>fn</th>\n",
              "      <th>label</th>\n",
              "    </tr>\n",
              "  </thead>\n",
              "  <tbody>\n",
              "    <tr>\n",
              "      <th>0</th>\n",
              "      <td>/content/drive/My Drive/ZINDI/data/audio_train...</td>\n",
              "      <td>akawuka</td>\n",
              "    </tr>\n",
              "    <tr>\n",
              "      <th>1</th>\n",
              "      <td>/content/drive/My Drive/ZINDI/data/audio_train...</td>\n",
              "      <td>banana</td>\n",
              "    </tr>\n",
              "    <tr>\n",
              "      <th>2</th>\n",
              "      <td>/content/drive/My Drive/ZINDI/data/audio_train...</td>\n",
              "      <td>obulwadde</td>\n",
              "    </tr>\n",
              "    <tr>\n",
              "      <th>3</th>\n",
              "      <td>/content/drive/My Drive/ZINDI/data/audio_train...</td>\n",
              "      <td>nnyaanya</td>\n",
              "    </tr>\n",
              "    <tr>\n",
              "      <th>4</th>\n",
              "      <td>/content/drive/My Drive/ZINDI/data/audio_train...</td>\n",
              "      <td>pampu</td>\n",
              "    </tr>\n",
              "  </tbody>\n",
              "</table>\n",
              "</div>"
            ],
            "text/plain": [
              "                                                  fn      label\n",
              "0  /content/drive/My Drive/ZINDI/data/audio_train...    akawuka\n",
              "1  /content/drive/My Drive/ZINDI/data/audio_train...     banana\n",
              "2  /content/drive/My Drive/ZINDI/data/audio_train...  obulwadde\n",
              "3  /content/drive/My Drive/ZINDI/data/audio_train...   nnyaanya\n",
              "4  /content/drive/My Drive/ZINDI/data/audio_train...      pampu"
            ]
          },
          "metadata": {
            "tags": []
          },
          "execution_count": 21
        }
      ]
    },
    {
      "cell_type": "markdown",
      "metadata": {
        "id": "Ct30b5MQ5oI9"
      },
      "source": [
        "Load the test data"
      ]
    },
    {
      "cell_type": "code",
      "metadata": {
        "id": "OBqHkvj65pNC",
        "colab": {
          "base_uri": "https://localhost:8080/",
          "height": 372
        },
        "outputId": "abe2af28-1ebf-449e-f702-646ca879f4b5"
      },
      "source": [
        "test = pd.read_csv('/content/drive/My Drive/ZINDI/SampleSubmission.csv')\n",
        "test.head()\n",
        "\n",
        "# Adjust name\n",
        "test['fn'] = test['fn'].str.replace('audio_files/', '/content/drive/My Drive/ZINDI/data_new_order/audio_test/')\n",
        "test.head()"
      ],
      "execution_count": null,
      "outputs": [
        {
          "output_type": "execute_result",
          "data": {
            "text/html": [
              "<div>\n",
              "<style scoped>\n",
              "    .dataframe tbody tr th:only-of-type {\n",
              "        vertical-align: middle;\n",
              "    }\n",
              "\n",
              "    .dataframe tbody tr th {\n",
              "        vertical-align: top;\n",
              "    }\n",
              "\n",
              "    .dataframe thead th {\n",
              "        text-align: right;\n",
              "    }\n",
              "</style>\n",
              "<table border=\"1\" class=\"dataframe\">\n",
              "  <thead>\n",
              "    <tr style=\"text-align: right;\">\n",
              "      <th></th>\n",
              "      <th>fn</th>\n",
              "      <th>maize streak virus</th>\n",
              "      <th>disease</th>\n",
              "      <th>okukkoola</th>\n",
              "      <th>muwogo</th>\n",
              "      <th>mpeke</th>\n",
              "      <th>mucungwa</th>\n",
              "      <th>greens</th>\n",
              "      <th>garden</th>\n",
              "      <th>mango</th>\n",
              "      <th>bulimi</th>\n",
              "      <th>obuwuka</th>\n",
              "      <th>ebikoola</th>\n",
              "      <th>obulimi</th>\n",
              "      <th>ebisoolisooli</th>\n",
              "      <th>kaamulali</th>\n",
              "      <th>eddagala</th>\n",
              "      <th>beans</th>\n",
              "      <th>omuyembe</th>\n",
              "      <th>leaf</th>\n",
              "      <th>kisaanyi</th>\n",
              "      <th>leaves</th>\n",
              "      <th>butterfly</th>\n",
              "      <th>okuzifuuyira</th>\n",
              "      <th>micungwa</th>\n",
              "      <th>ppaapaali</th>\n",
              "      <th>emboga</th>\n",
              "      <th>kikolo</th>\n",
              "      <th>harvest</th>\n",
              "      <th>olusuku</th>\n",
              "      <th>coffee</th>\n",
              "      <th>super grow</th>\n",
              "      <th>rice</th>\n",
              "      <th>ensujju</th>\n",
              "      <th>okulima</th>\n",
              "      <th>worm</th>\n",
              "      <th>ebbugga</th>\n",
              "      <th>onion</th>\n",
              "      <th>ensigo</th>\n",
              "      <th>plantation</th>\n",
              "      <th>...</th>\n",
              "      <th>ejjobyo</th>\n",
              "      <th>omulimi</th>\n",
              "      <th>okusimba</th>\n",
              "      <th>sweet potatoes</th>\n",
              "      <th>okufuuyira</th>\n",
              "      <th>farming instructor</th>\n",
              "      <th>nnasale beedi</th>\n",
              "      <th>passion fruit</th>\n",
              "      <th>ekitooke</th>\n",
              "      <th>ebisaanyi</th>\n",
              "      <th>ekyeya</th>\n",
              "      <th>enva endiirwa</th>\n",
              "      <th>emisiri</th>\n",
              "      <th>emiyembe</th>\n",
              "      <th>amatooke</th>\n",
              "      <th>ebiwuka</th>\n",
              "      <th>farm</th>\n",
              "      <th>ebinyebwa</th>\n",
              "      <th>amappapaali</th>\n",
              "      <th>ebimera</th>\n",
              "      <th>kassooli</th>\n",
              "      <th>harvesting</th>\n",
              "      <th>emmwanyi</th>\n",
              "      <th>akamonde</th>\n",
              "      <th>obumonde</th>\n",
              "      <th>cabbages</th>\n",
              "      <th>akasaanyi</th>\n",
              "      <th>spread</th>\n",
              "      <th>ebirime</th>\n",
              "      <th>drought</th>\n",
              "      <th>kasaanyi</th>\n",
              "      <th>suckers</th>\n",
              "      <th>insects</th>\n",
              "      <th>fertilizer</th>\n",
              "      <th>nakavundira</th>\n",
              "      <th>ekiwojjolo</th>\n",
              "      <th>akawuka</th>\n",
              "      <th>ddagala</th>\n",
              "      <th>ebiwojjolo</th>\n",
              "      <th>obutungulu</th>\n",
              "    </tr>\n",
              "  </thead>\n",
              "  <tbody>\n",
              "    <tr>\n",
              "      <th>0</th>\n",
              "      <td>/content/drive/My Drive/ZINDI/data_new_order/a...</td>\n",
              "      <td>0</td>\n",
              "      <td>0</td>\n",
              "      <td>0</td>\n",
              "      <td>0</td>\n",
              "      <td>0</td>\n",
              "      <td>0</td>\n",
              "      <td>0</td>\n",
              "      <td>0</td>\n",
              "      <td>0</td>\n",
              "      <td>0</td>\n",
              "      <td>0</td>\n",
              "      <td>0</td>\n",
              "      <td>0</td>\n",
              "      <td>0</td>\n",
              "      <td>0</td>\n",
              "      <td>0</td>\n",
              "      <td>0</td>\n",
              "      <td>0</td>\n",
              "      <td>0</td>\n",
              "      <td>0</td>\n",
              "      <td>0</td>\n",
              "      <td>0</td>\n",
              "      <td>0</td>\n",
              "      <td>0</td>\n",
              "      <td>0</td>\n",
              "      <td>0</td>\n",
              "      <td>0</td>\n",
              "      <td>0</td>\n",
              "      <td>0</td>\n",
              "      <td>0</td>\n",
              "      <td>0</td>\n",
              "      <td>0</td>\n",
              "      <td>0</td>\n",
              "      <td>0</td>\n",
              "      <td>0</td>\n",
              "      <td>0</td>\n",
              "      <td>0</td>\n",
              "      <td>0</td>\n",
              "      <td>0</td>\n",
              "      <td>...</td>\n",
              "      <td>0</td>\n",
              "      <td>0</td>\n",
              "      <td>0</td>\n",
              "      <td>0</td>\n",
              "      <td>0</td>\n",
              "      <td>0</td>\n",
              "      <td>0</td>\n",
              "      <td>0</td>\n",
              "      <td>0</td>\n",
              "      <td>0</td>\n",
              "      <td>0</td>\n",
              "      <td>0</td>\n",
              "      <td>0</td>\n",
              "      <td>0</td>\n",
              "      <td>0</td>\n",
              "      <td>0</td>\n",
              "      <td>0</td>\n",
              "      <td>0</td>\n",
              "      <td>0</td>\n",
              "      <td>0</td>\n",
              "      <td>0</td>\n",
              "      <td>0</td>\n",
              "      <td>0</td>\n",
              "      <td>0</td>\n",
              "      <td>0</td>\n",
              "      <td>0</td>\n",
              "      <td>0</td>\n",
              "      <td>0</td>\n",
              "      <td>0</td>\n",
              "      <td>0</td>\n",
              "      <td>0</td>\n",
              "      <td>0</td>\n",
              "      <td>0</td>\n",
              "      <td>0</td>\n",
              "      <td>0</td>\n",
              "      <td>0</td>\n",
              "      <td>0</td>\n",
              "      <td>0</td>\n",
              "      <td>0</td>\n",
              "      <td>0</td>\n",
              "    </tr>\n",
              "    <tr>\n",
              "      <th>1</th>\n",
              "      <td>/content/drive/My Drive/ZINDI/data_new_order/a...</td>\n",
              "      <td>0</td>\n",
              "      <td>0</td>\n",
              "      <td>0</td>\n",
              "      <td>0</td>\n",
              "      <td>0</td>\n",
              "      <td>0</td>\n",
              "      <td>0</td>\n",
              "      <td>0</td>\n",
              "      <td>0</td>\n",
              "      <td>0</td>\n",
              "      <td>0</td>\n",
              "      <td>0</td>\n",
              "      <td>0</td>\n",
              "      <td>0</td>\n",
              "      <td>0</td>\n",
              "      <td>0</td>\n",
              "      <td>0</td>\n",
              "      <td>0</td>\n",
              "      <td>0</td>\n",
              "      <td>0</td>\n",
              "      <td>0</td>\n",
              "      <td>0</td>\n",
              "      <td>0</td>\n",
              "      <td>0</td>\n",
              "      <td>0</td>\n",
              "      <td>0</td>\n",
              "      <td>0</td>\n",
              "      <td>0</td>\n",
              "      <td>0</td>\n",
              "      <td>0</td>\n",
              "      <td>0</td>\n",
              "      <td>0</td>\n",
              "      <td>0</td>\n",
              "      <td>0</td>\n",
              "      <td>0</td>\n",
              "      <td>0</td>\n",
              "      <td>0</td>\n",
              "      <td>0</td>\n",
              "      <td>0</td>\n",
              "      <td>...</td>\n",
              "      <td>0</td>\n",
              "      <td>0</td>\n",
              "      <td>0</td>\n",
              "      <td>0</td>\n",
              "      <td>0</td>\n",
              "      <td>0</td>\n",
              "      <td>0</td>\n",
              "      <td>0</td>\n",
              "      <td>0</td>\n",
              "      <td>0</td>\n",
              "      <td>0</td>\n",
              "      <td>0</td>\n",
              "      <td>0</td>\n",
              "      <td>0</td>\n",
              "      <td>0</td>\n",
              "      <td>0</td>\n",
              "      <td>0</td>\n",
              "      <td>0</td>\n",
              "      <td>0</td>\n",
              "      <td>0</td>\n",
              "      <td>0</td>\n",
              "      <td>0</td>\n",
              "      <td>0</td>\n",
              "      <td>0</td>\n",
              "      <td>0</td>\n",
              "      <td>0</td>\n",
              "      <td>0</td>\n",
              "      <td>0</td>\n",
              "      <td>0</td>\n",
              "      <td>0</td>\n",
              "      <td>0</td>\n",
              "      <td>0</td>\n",
              "      <td>0</td>\n",
              "      <td>0</td>\n",
              "      <td>0</td>\n",
              "      <td>0</td>\n",
              "      <td>0</td>\n",
              "      <td>0</td>\n",
              "      <td>0</td>\n",
              "      <td>0</td>\n",
              "    </tr>\n",
              "    <tr>\n",
              "      <th>2</th>\n",
              "      <td>/content/drive/My Drive/ZINDI/data_new_order/a...</td>\n",
              "      <td>0</td>\n",
              "      <td>0</td>\n",
              "      <td>0</td>\n",
              "      <td>0</td>\n",
              "      <td>0</td>\n",
              "      <td>0</td>\n",
              "      <td>0</td>\n",
              "      <td>0</td>\n",
              "      <td>0</td>\n",
              "      <td>0</td>\n",
              "      <td>0</td>\n",
              "      <td>0</td>\n",
              "      <td>0</td>\n",
              "      <td>0</td>\n",
              "      <td>0</td>\n",
              "      <td>0</td>\n",
              "      <td>0</td>\n",
              "      <td>0</td>\n",
              "      <td>0</td>\n",
              "      <td>0</td>\n",
              "      <td>0</td>\n",
              "      <td>0</td>\n",
              "      <td>0</td>\n",
              "      <td>0</td>\n",
              "      <td>0</td>\n",
              "      <td>0</td>\n",
              "      <td>0</td>\n",
              "      <td>0</td>\n",
              "      <td>0</td>\n",
              "      <td>0</td>\n",
              "      <td>0</td>\n",
              "      <td>0</td>\n",
              "      <td>0</td>\n",
              "      <td>0</td>\n",
              "      <td>0</td>\n",
              "      <td>0</td>\n",
              "      <td>0</td>\n",
              "      <td>0</td>\n",
              "      <td>0</td>\n",
              "      <td>...</td>\n",
              "      <td>0</td>\n",
              "      <td>0</td>\n",
              "      <td>0</td>\n",
              "      <td>0</td>\n",
              "      <td>0</td>\n",
              "      <td>0</td>\n",
              "      <td>0</td>\n",
              "      <td>0</td>\n",
              "      <td>0</td>\n",
              "      <td>0</td>\n",
              "      <td>0</td>\n",
              "      <td>0</td>\n",
              "      <td>0</td>\n",
              "      <td>0</td>\n",
              "      <td>0</td>\n",
              "      <td>0</td>\n",
              "      <td>0</td>\n",
              "      <td>0</td>\n",
              "      <td>0</td>\n",
              "      <td>0</td>\n",
              "      <td>0</td>\n",
              "      <td>0</td>\n",
              "      <td>0</td>\n",
              "      <td>0</td>\n",
              "      <td>0</td>\n",
              "      <td>0</td>\n",
              "      <td>0</td>\n",
              "      <td>0</td>\n",
              "      <td>0</td>\n",
              "      <td>0</td>\n",
              "      <td>0</td>\n",
              "      <td>0</td>\n",
              "      <td>0</td>\n",
              "      <td>0</td>\n",
              "      <td>0</td>\n",
              "      <td>0</td>\n",
              "      <td>0</td>\n",
              "      <td>0</td>\n",
              "      <td>0</td>\n",
              "      <td>0</td>\n",
              "    </tr>\n",
              "    <tr>\n",
              "      <th>3</th>\n",
              "      <td>/content/drive/My Drive/ZINDI/data_new_order/a...</td>\n",
              "      <td>0</td>\n",
              "      <td>0</td>\n",
              "      <td>0</td>\n",
              "      <td>0</td>\n",
              "      <td>0</td>\n",
              "      <td>0</td>\n",
              "      <td>0</td>\n",
              "      <td>0</td>\n",
              "      <td>0</td>\n",
              "      <td>0</td>\n",
              "      <td>0</td>\n",
              "      <td>0</td>\n",
              "      <td>0</td>\n",
              "      <td>0</td>\n",
              "      <td>0</td>\n",
              "      <td>0</td>\n",
              "      <td>0</td>\n",
              "      <td>0</td>\n",
              "      <td>0</td>\n",
              "      <td>0</td>\n",
              "      <td>0</td>\n",
              "      <td>0</td>\n",
              "      <td>0</td>\n",
              "      <td>0</td>\n",
              "      <td>0</td>\n",
              "      <td>0</td>\n",
              "      <td>0</td>\n",
              "      <td>0</td>\n",
              "      <td>0</td>\n",
              "      <td>0</td>\n",
              "      <td>0</td>\n",
              "      <td>0</td>\n",
              "      <td>0</td>\n",
              "      <td>0</td>\n",
              "      <td>0</td>\n",
              "      <td>0</td>\n",
              "      <td>0</td>\n",
              "      <td>0</td>\n",
              "      <td>0</td>\n",
              "      <td>...</td>\n",
              "      <td>0</td>\n",
              "      <td>0</td>\n",
              "      <td>0</td>\n",
              "      <td>0</td>\n",
              "      <td>0</td>\n",
              "      <td>0</td>\n",
              "      <td>0</td>\n",
              "      <td>0</td>\n",
              "      <td>0</td>\n",
              "      <td>0</td>\n",
              "      <td>0</td>\n",
              "      <td>0</td>\n",
              "      <td>0</td>\n",
              "      <td>0</td>\n",
              "      <td>0</td>\n",
              "      <td>0</td>\n",
              "      <td>0</td>\n",
              "      <td>0</td>\n",
              "      <td>0</td>\n",
              "      <td>0</td>\n",
              "      <td>0</td>\n",
              "      <td>0</td>\n",
              "      <td>0</td>\n",
              "      <td>0</td>\n",
              "      <td>0</td>\n",
              "      <td>0</td>\n",
              "      <td>0</td>\n",
              "      <td>0</td>\n",
              "      <td>0</td>\n",
              "      <td>0</td>\n",
              "      <td>0</td>\n",
              "      <td>0</td>\n",
              "      <td>0</td>\n",
              "      <td>0</td>\n",
              "      <td>0</td>\n",
              "      <td>0</td>\n",
              "      <td>0</td>\n",
              "      <td>0</td>\n",
              "      <td>0</td>\n",
              "      <td>0</td>\n",
              "    </tr>\n",
              "    <tr>\n",
              "      <th>4</th>\n",
              "      <td>/content/drive/My Drive/ZINDI/data_new_order/a...</td>\n",
              "      <td>0</td>\n",
              "      <td>0</td>\n",
              "      <td>0</td>\n",
              "      <td>0</td>\n",
              "      <td>0</td>\n",
              "      <td>0</td>\n",
              "      <td>0</td>\n",
              "      <td>0</td>\n",
              "      <td>0</td>\n",
              "      <td>0</td>\n",
              "      <td>0</td>\n",
              "      <td>0</td>\n",
              "      <td>0</td>\n",
              "      <td>0</td>\n",
              "      <td>0</td>\n",
              "      <td>0</td>\n",
              "      <td>0</td>\n",
              "      <td>0</td>\n",
              "      <td>0</td>\n",
              "      <td>0</td>\n",
              "      <td>0</td>\n",
              "      <td>0</td>\n",
              "      <td>0</td>\n",
              "      <td>0</td>\n",
              "      <td>0</td>\n",
              "      <td>0</td>\n",
              "      <td>0</td>\n",
              "      <td>0</td>\n",
              "      <td>0</td>\n",
              "      <td>0</td>\n",
              "      <td>0</td>\n",
              "      <td>0</td>\n",
              "      <td>0</td>\n",
              "      <td>0</td>\n",
              "      <td>0</td>\n",
              "      <td>0</td>\n",
              "      <td>0</td>\n",
              "      <td>0</td>\n",
              "      <td>0</td>\n",
              "      <td>...</td>\n",
              "      <td>0</td>\n",
              "      <td>0</td>\n",
              "      <td>0</td>\n",
              "      <td>0</td>\n",
              "      <td>0</td>\n",
              "      <td>0</td>\n",
              "      <td>0</td>\n",
              "      <td>0</td>\n",
              "      <td>0</td>\n",
              "      <td>0</td>\n",
              "      <td>0</td>\n",
              "      <td>0</td>\n",
              "      <td>0</td>\n",
              "      <td>0</td>\n",
              "      <td>0</td>\n",
              "      <td>0</td>\n",
              "      <td>0</td>\n",
              "      <td>0</td>\n",
              "      <td>0</td>\n",
              "      <td>0</td>\n",
              "      <td>0</td>\n",
              "      <td>0</td>\n",
              "      <td>0</td>\n",
              "      <td>0</td>\n",
              "      <td>0</td>\n",
              "      <td>0</td>\n",
              "      <td>0</td>\n",
              "      <td>0</td>\n",
              "      <td>0</td>\n",
              "      <td>0</td>\n",
              "      <td>0</td>\n",
              "      <td>0</td>\n",
              "      <td>0</td>\n",
              "      <td>0</td>\n",
              "      <td>0</td>\n",
              "      <td>0</td>\n",
              "      <td>0</td>\n",
              "      <td>0</td>\n",
              "      <td>0</td>\n",
              "      <td>0</td>\n",
              "    </tr>\n",
              "  </tbody>\n",
              "</table>\n",
              "<p>5 rows × 194 columns</p>\n",
              "</div>"
            ],
            "text/plain": [
              "                                                  fn  ...  obutungulu\n",
              "0  /content/drive/My Drive/ZINDI/data_new_order/a...  ...           0\n",
              "1  /content/drive/My Drive/ZINDI/data_new_order/a...  ...           0\n",
              "2  /content/drive/My Drive/ZINDI/data_new_order/a...  ...           0\n",
              "3  /content/drive/My Drive/ZINDI/data_new_order/a...  ...           0\n",
              "4  /content/drive/My Drive/ZINDI/data_new_order/a...  ...           0\n",
              "\n",
              "[5 rows x 194 columns]"
            ]
          },
          "metadata": {
            "tags": []
          },
          "execution_count": 4
        }
      ]
    },
    {
      "cell_type": "markdown",
      "metadata": {
        "id": "Fg9weXVCfyBF"
      },
      "source": [
        "Load the augmented data"
      ]
    },
    {
      "cell_type": "code",
      "metadata": {
        "id": "nIGHHpv2fz1r",
        "colab": {
          "base_uri": "https://localhost:8080/",
          "height": 204
        },
        "outputId": "005ce965-8384-4ca5-b218-255ee729fb47"
      },
      "source": [
        "augmented = pd.read_csv('/content/drive/My Drive/ZINDI/train_augmented_data.csv')\n",
        "augmented.head()\n",
        "# Adjust name\n",
        "augmented['fn'] = augmented['fn'].str.replace('audio_train/', '/content/drive/My Drive/ZINDI/data/audio_augmented/')\n",
        "augmented.head()\n"
      ],
      "execution_count": null,
      "outputs": [
        {
          "output_type": "execute_result",
          "data": {
            "text/html": [
              "<div>\n",
              "<style scoped>\n",
              "    .dataframe tbody tr th:only-of-type {\n",
              "        vertical-align: middle;\n",
              "    }\n",
              "\n",
              "    .dataframe tbody tr th {\n",
              "        vertical-align: top;\n",
              "    }\n",
              "\n",
              "    .dataframe thead th {\n",
              "        text-align: right;\n",
              "    }\n",
              "</style>\n",
              "<table border=\"1\" class=\"dataframe\">\n",
              "  <thead>\n",
              "    <tr style=\"text-align: right;\">\n",
              "      <th></th>\n",
              "      <th>Unnamed: 0</th>\n",
              "      <th>fn</th>\n",
              "      <th>label</th>\n",
              "    </tr>\n",
              "  </thead>\n",
              "  <tbody>\n",
              "    <tr>\n",
              "      <th>0</th>\n",
              "      <td>1</td>\n",
              "      <td>/content/drive/My Drive/ZINDI/data/audio_augme...</td>\n",
              "      <td>akawuka</td>\n",
              "    </tr>\n",
              "    <tr>\n",
              "      <th>1</th>\n",
              "      <td>2</td>\n",
              "      <td>/content/drive/My Drive/ZINDI/data/audio_augme...</td>\n",
              "      <td>banana</td>\n",
              "    </tr>\n",
              "    <tr>\n",
              "      <th>2</th>\n",
              "      <td>3</td>\n",
              "      <td>/content/drive/My Drive/ZINDI/data/audio_augme...</td>\n",
              "      <td>obulwadde</td>\n",
              "    </tr>\n",
              "    <tr>\n",
              "      <th>3</th>\n",
              "      <td>4</td>\n",
              "      <td>/content/drive/My Drive/ZINDI/data/audio_augme...</td>\n",
              "      <td>nnyaanya</td>\n",
              "    </tr>\n",
              "    <tr>\n",
              "      <th>4</th>\n",
              "      <td>5</td>\n",
              "      <td>/content/drive/My Drive/ZINDI/data/audio_augme...</td>\n",
              "      <td>pampu</td>\n",
              "    </tr>\n",
              "  </tbody>\n",
              "</table>\n",
              "</div>"
            ],
            "text/plain": [
              "   Unnamed: 0                                                 fn      label\n",
              "0           1  /content/drive/My Drive/ZINDI/data/audio_augme...    akawuka\n",
              "1           2  /content/drive/My Drive/ZINDI/data/audio_augme...     banana\n",
              "2           3  /content/drive/My Drive/ZINDI/data/audio_augme...  obulwadde\n",
              "3           4  /content/drive/My Drive/ZINDI/data/audio_augme...   nnyaanya\n",
              "4           5  /content/drive/My Drive/ZINDI/data/audio_augme...      pampu"
            ]
          },
          "metadata": {
            "tags": []
          },
          "execution_count": 13
        }
      ]
    },
    {
      "cell_type": "markdown",
      "metadata": {
        "id": "EFjUt0bw5wsm"
      },
      "source": [
        "# Get spectrograms"
      ]
    },
    {
      "cell_type": "code",
      "metadata": {
        "id": "1sHMnuSd5vj8"
      },
      "source": [
        "# Define the function\n",
        "\n",
        "def im_from_audio(fn, sample_rate=44100, window_length=0.05, window_step=0.0045, NFFT=2205):\n",
        "  \n",
        "  # Load the audio into an array (signal) at the specified sample rate\n",
        "  signal, sr = librosa.load(fn, sr=sample_rate)\n",
        "\n",
        "  # preemphasis\n",
        "  signal = psf.sigproc.preemphasis(signal, coeff=0.95)\n",
        "\n",
        "  # get specrogram\n",
        "  # Get the frames\n",
        "  frames = psf.sigproc.framesig(signal, \n",
        "                                  window_length*sample_rate, \n",
        "                                  window_step*sample_rate, \n",
        "                                  lambda x:np.ones((x,)))        # Window function \n",
        "    \n",
        "  # magnitude Spectrogram\n",
        "  spectrogram = np.rot90(psf.sigproc.magspec(frames, NFFT))\n",
        "  \n",
        "  # get rid of high frequencies\n",
        "  spectrogram = spectrogram[512:,:]\n",
        "\n",
        "  # normalize in [0, 1]\n",
        "  spectrogram -= spectrogram.min(axis=None)\n",
        "  spectrogram /= spectrogram.max(axis=None)        \n",
        "\n",
        "  # Clip to max 512, 512\n",
        "  spectrogram = spectrogram[:512, :512]\n",
        "  \n",
        "  return spectrogram \n"
      ],
      "execution_count": null,
      "outputs": []
    },
    {
      "cell_type": "markdown",
      "metadata": {
        "id": "yuGpf4p07oAS"
      },
      "source": [
        "1) Apply the function to the full_train data"
      ]
    },
    {
      "cell_type": "code",
      "metadata": {
        "id": "6lK7JK1S8bBO"
      },
      "source": [
        "im_from_audio(train_full.fn.sample().values[0])"
      ],
      "execution_count": null,
      "outputs": []
    },
    {
      "cell_type": "code",
      "metadata": {
        "id": "uD3G15xz7qe4"
      },
      "source": [
        "# Load all files and transform them into spectograms\n",
        "for i in train_full.fn:\n",
        "  interim1 = i.replace('.wav', '')\n",
        "  interim2 = interim1.replace('/content/drive/My Drive/ZINDI/data/audio_train/', '') \n",
        "  name = '/content/drive/My Drive/ZINDI/data/spectrogram_train/' + interim2 + '-spectrogram.png'\n",
        "  plt.imsave(fname = name, arr = im_from_audio(i))"
      ],
      "execution_count": null,
      "outputs": []
    },
    {
      "cell_type": "markdown",
      "metadata": {
        "id": "15Yuq_iHEWLJ"
      },
      "source": [
        "Check if it worked:"
      ]
    },
    {
      "cell_type": "code",
      "metadata": {
        "id": "QOyhv86cDIcr",
        "colab": {
          "base_uri": "https://localhost:8080/"
        },
        "outputId": "954fc0c9-874f-49a3-c253-368deba754cb"
      },
      "source": [
        "# Access the file names in \"spectogram-train\"\n",
        "mypath = \"/content/drive/My Drive/ZINDI/data/spectrogram_train/\"\n",
        "files = [f for f in listdir(mypath) if isfile(join(mypath, f))]\n",
        "\n",
        "# Check for length\n",
        "len(files) # 4709 files in the spectogram-train folder"
      ],
      "execution_count": null,
      "outputs": [
        {
          "output_type": "execute_result",
          "data": {
            "text/plain": [
              "4709"
            ]
          },
          "metadata": {
            "tags": []
          },
          "execution_count": 23
        }
      ]
    },
    {
      "cell_type": "markdown",
      "metadata": {
        "id": "MJk5UbEV6IhV"
      },
      "source": [
        "2) Apply the function to the test (validation) data"
      ]
    },
    {
      "cell_type": "code",
      "metadata": {
        "id": "gc7ttvkq6R3T"
      },
      "source": [
        "# Load all files and transform them into spectograms\n",
        "for i in test.fn:\n",
        "  interim1 = i.replace('.wav', '')\n",
        "  interim2 = interim1.replace('/content/drive/My Drive/ZINDI/data_new_order/audio_test/', '') \n",
        "  name = '/content/drive/My Drive/ZINDI/data_new_order/spectrogram_test/' + interim2 + '-spectrogram.png'\n",
        "  plt.imsave(fname = name, arr = im_from_audio(i))"
      ],
      "execution_count": null,
      "outputs": []
    },
    {
      "cell_type": "markdown",
      "metadata": {
        "id": "nZqP3aKmI1te"
      },
      "source": [
        "Check if it worked:\n"
      ]
    },
    {
      "cell_type": "code",
      "metadata": {
        "id": "aie4zjYiIwGT",
        "colab": {
          "base_uri": "https://localhost:8080/"
        },
        "outputId": "f3590593-3d00-449e-a6c2-aae53542b9c3"
      },
      "source": [
        "# Access the file names in \"spectogram-test\"\n",
        "mypath = \"/content/drive/My Drive/ZINDI/data_new_order/spectrogram_test/\"\n",
        "files = [f for f in listdir(mypath) if isfile(join(mypath, f))]\n",
        "\n",
        "# Check for length\n",
        "len(files) # 1017 files in the spectogram-test folder"
      ],
      "execution_count": null,
      "outputs": [
        {
          "output_type": "execute_result",
          "data": {
            "text/plain": [
              "1017"
            ]
          },
          "metadata": {
            "tags": []
          },
          "execution_count": 8
        }
      ]
    },
    {
      "cell_type": "markdown",
      "metadata": {
        "id": "uP1VTFJRgTmR"
      },
      "source": [
        "3) Apply the function to the augmented data"
      ]
    },
    {
      "cell_type": "code",
      "metadata": {
        "id": "U549Z-LjgVjM"
      },
      "source": [
        "# Load all files and transform them into spectograms\n",
        "for i in augmented.fn:\n",
        "  interim1 = i.replace('.wav', '')\n",
        "  interim2 = interim1.replace('/content/drive/My Drive/ZINDI/data/audio_augmented/', '') \n",
        "  name = '/content/drive/My Drive/ZINDI/data/spectrogram_augmented/' + interim2 + '-spectrogram.png'\n",
        "  plt.imsave(fname = name, arr = im_from_audio(i))"
      ],
      "execution_count": null,
      "outputs": []
    },
    {
      "cell_type": "markdown",
      "metadata": {
        "id": "ZFY6h4TZAvXa"
      },
      "source": [
        "## Validate the number of spectrograms"
      ]
    },
    {
      "cell_type": "markdown",
      "metadata": {
        "id": "mXzoQIrw6Tjg"
      },
      "source": [
        "We first thought that there were some files missing in the test data spectrograms -- but there weren't. Here's just the code that we used for validation."
      ]
    },
    {
      "cell_type": "code",
      "metadata": {
        "id": "2Vpd7xZC6a-i"
      },
      "source": [
        "# Check for the missing names in the validation (test) data set\n",
        "\n",
        "# Access the file names in \"spectogram-test\"\n",
        "mypath = \"/content/drive/My Drive/spectogram-test\"\n",
        "files = [f for f in os.listdir(mypath) if isfile(join(mypath, f))]\n",
        "\n",
        "# Check for length\n",
        "len(files) # 1017 files in the spectogram-test folder\n",
        "\n",
        "# Load test data\n",
        "test = pd.read_csv('drive/My Drive/SampleSubmission.csv')\n",
        "\n",
        "# Check for the names in the validation (test) data set\n",
        "# 1) Generate interim name where we replace .wav with ''\n",
        "interim1 = test['fn'].str.replace('.wav', '')\n",
        "# 2) Generate interim where we then replace \"audio_files/\" with '' \n",
        "# (I couldn't bring it into one single line of code...)\n",
        "interim2 = interim1.str.replace('audio_files/', '') \n",
        "# Combine both interim2 with \"spectogram.png\" \n",
        "# (to make both name similar to \"files\")\n",
        "name = interim2 + \"-spectogram.png\"\n",
        "\n",
        "# Check for length\n",
        "len(name) # 1017 names in the validation (test) data set"
      ],
      "execution_count": null,
      "outputs": []
    }
  ]
}